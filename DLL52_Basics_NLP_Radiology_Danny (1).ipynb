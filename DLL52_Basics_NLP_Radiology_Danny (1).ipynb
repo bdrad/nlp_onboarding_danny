{
  "nbformat": 4,
  "nbformat_minor": 0,
  "metadata": {
    "colab": {
      "provenance": [],
      "collapsed_sections": []
    },
    "kernelspec": {
      "name": "python3",
      "display_name": "Python 3"
    },
    "language_info": {
      "name": "python"
    },
    "gpuClass": "standard"
  },
  "cells": [
    {
      "cell_type": "markdown",
      "metadata": {
        "id": "Aa9xRyBkjaPF"
      },
      "source": [
        "# DLL 52 Basics of NLP in Radiology - RSNA 2021\n",
        "\n",
        "This session will feature a brief lecture introducing the basics of natural language processing (NLP) and highlight potential uses for it in radiology. This accompanying notebook will provide hands-on opportunity to explore some of the basic tools of NLP available in Python. \n",
        "\n",
        "**Learning Objectives:**\n",
        "1.   Understand common terminology and preprocessing techniques in NLP\n",
        "2.   Identify several classic and modern approaches used to capture semantic meaning in text\n",
        "3. Learn how to implement a basic NLP pipeline from preprocessing to performance evaluation\n",
        "\n",
        "**Session Authors**\n",
        "\n",
        "Timothy L. Chen MD - University of California San Francisco, San Francisco, USA\n",
        "\n",
        "Jae Ho Sohn MD, MS - University of California San Francisco, San Francisco, USA\n",
        "\n",
        "\n",
        "\n"
      ]
    },
    {
      "cell_type": "markdown",
      "metadata": {
        "id": "rFZdK4accSlG"
      },
      "source": [
        "# Install Packages\n",
        "\n",
        "We will use a number of prepackaged python NLP tools for this demonstration. Google colab instances come preloaded with a number of packages but not everything. We will install the missing packages here.\n",
        "\n",
        "Natural Language Toolkit ([NLTK](https://www.nltk.org/))\n",
        "\n",
        "[spacy](https://spacy.io/) and [scispacy](https://allenai.github.io/scispacy/)\n",
        "\n",
        "[gensim](https://radimrehurek.com/gensim/)\n",
        "\n",
        "[sklearn](https://scikit-learn.org/stable/)\n",
        "\n",
        "\n",
        "\n",
        "\n"
      ]
    },
    {
      "cell_type": "code",
      "metadata": {
        "id": "W4QbilZBcYyx",
        "outputId": "b70a57d6-c82c-482a-d636-5985fb027970",
        "colab": {
          "base_uri": "https://localhost:8080/"
        }
      },
      "source": [
        "#@title Installing missing required packages\n",
        "!pip install xmltodict >/dev/null\n",
        "!pip install spacy > /dev/null \n",
        "!pip install scispacy > /dev/null\n",
        "!pip install negspacy > /dev/null\n",
        "!pip install https://s3-us-west-2.amazonaws.com/ai2-s2-scispacy/releases/v0.4.0/en_core_sci_md-0.4.0.tar.gz> /dev/null\n",
        "\n",
        "#! pip freeze"
      ],
      "execution_count": 2,
      "outputs": [
        {
          "output_type": "stream",
          "name": "stdout",
          "text": [
            "\u001b[31mERROR: pip's dependency resolver does not currently take into account all the packages that are installed. This behaviour is the source of the following dependency conflicts.\n",
            "en-core-sci-md 0.4.0 requires spacy<3.1.0,>=3.0.1, but you have spacy 3.4.3 which is incompatible.\u001b[0m\n",
            "\u001b[31mERROR: pip's dependency resolver does not currently take into account all the packages that are installed. This behaviour is the source of the following dependency conflicts.\n",
            "scispacy 0.5.1 requires spacy<3.5.0,>=3.4.0, but you have spacy 3.0.8 which is incompatible.\n",
            "en-core-web-sm 3.4.1 requires spacy<3.5.0,>=3.4.0, but you have spacy 3.0.8 which is incompatible.\u001b[0m\n"
          ]
        }
      ]
    },
    {
      "cell_type": "markdown",
      "metadata": {
        "id": "NxJj3ct4Q58_"
      },
      "source": [
        "# Acquiring Data\n",
        "\n",
        "This demo will utilize data from the [Indiana University CXR dataset](https://openi.nlm.nih.gov/faq). \n",
        "\n",
        "More information regarding the creation of this dataset is detailed in [1] *Demner-Fushman et. al. \"Preparing a collection of radiology examinations for distirbution and retrieval\". J. Am. Med. Inform. Assoc. 2016. doi: [10.1093/jamia/ocv080](https://academic.oup.com/jamia/article/23/2/304/2572395)*"
      ]
    },
    {
      "cell_type": "code",
      "metadata": {
        "colab": {
          "base_uri": "https://localhost:8080/"
        },
        "id": "LdlPCIiCLYHe",
        "outputId": "2530ee88-200c-4b54-f609-38127411c4c0"
      },
      "source": [
        "# Download the data\n",
        "# tar options - x -extract, v - show progress of archive file, z - filter archive through gzip\n",
        "!curl https://openi.nlm.nih.gov/imgs/collections/NLMCXR_reports.tgz > NLMCXR_reports.tgz\n",
        "!tar xvf /content/NLMCXR_reports.tgz >/dev/null\n"
      ],
      "execution_count": 3,
      "outputs": [
        {
          "output_type": "stream",
          "name": "stdout",
          "text": [
            "  % Total    % Received % Xferd  Average Speed   Time    Time     Time  Current\n",
            "                                 Dload  Upload   Total   Spent    Left  Speed\n",
            "\r  0     0    0     0    0     0      0      0 --:--:-- --:--:-- --:--:--     0\r100 1086k  100 1086k    0     0  10.7M      0 --:--:-- --:--:-- --:--:-- 10.7M\n"
          ]
        }
      ]
    },
    {
      "cell_type": "code",
      "metadata": {
        "id": "mAsCZXsE-HQe",
        "colab": {
          "base_uri": "https://localhost:8080/"
        },
        "outputId": "f8e9082d-daf7-4483-b7fe-a5189292e547"
      },
      "source": [
        "# taking a closer look at our file hierarchy\n",
        "!dir"
      ],
      "execution_count": 4,
      "outputs": [
        {
          "output_type": "stream",
          "name": "stdout",
          "text": [
            "ecgen-radiology  NLMCXR_reports.tgz  sample_data\n"
          ]
        }
      ]
    },
    {
      "cell_type": "code",
      "source": [
        "#Converting .csv files to .xml File\n",
        "#Credit, Heavily Inspired: https://stackoverflow.com/questions/41059264/simple-csv-to-xml-conversion-python\n",
        "import csv  \n",
        "import pandas as pd\n",
        "\n",
        "csv_file = ''\n",
        "output_xml = ''\n",
        "def csv_to_xml(csv_file, output_xml):\n",
        "  # Parameters: \n",
        "  #   csv_file: The location of the csv file \n",
        "  #   output_xml: The location of the output xml file\n",
        "  # Output: None, writes the content of the csv file to output_xml\n",
        "  f = open(csv_file)\n",
        "  csv_f = csv.reader(f)   \n",
        "  data = []\n",
        "\n",
        "  for row in csv_f: \n",
        "    data.append(row)\n",
        "  f.close()\n",
        "\n",
        "  df = pd.read_csv(csv_file)\n",
        "  header = list(df.columns)\n",
        "\n",
        "  def convert_row(row):\n",
        "      str_row = \"\"\"<%s>%s</%s> \\n\"\"\"*(len(header)-1)\n",
        "      str_row = \"\"\"<%s>%s\"\"\" +\"\\n\"+ str_row + \"\"\"</%s>\"\"\"\n",
        "      var_values = [list_of_elments[k] for k in range(1,len(header)) for list_of_elments in [header,row,header]]\n",
        "      var_values = [header[0],row[0]]+var_values+[header[0]]\n",
        "      var_values =tuple(var_values)\n",
        "      return str_row % var_values\n",
        "\n",
        "  text = \"\"\"<collection shelf=\"New Arrivals\">\"\"\"+\"\\n\"+'\\n'.join([convert_row(row) for row in data[1:]])+\"\\n\" +\"</collection >\"\n",
        "  print(text)\n",
        "  with open('output.xml', 'w') as myfile: \n",
        "    myfile.write(text)\n",
        "\n",
        "  df= pd.read_csv(csv_file)\n",
        "  with open(output_xml, 'w') as myfile: \n",
        "    myfile.write(df.to_xml())"
      ],
      "metadata": {
        "id": "AULu6133mRRC"
      },
      "execution_count": 5,
      "outputs": []
    },
    {
      "cell_type": "markdown",
      "metadata": {
        "id": "rPkhaPx3gXmI"
      },
      "source": [
        "With permission from [2] Wiggins et. al., we borrow code to parse the xml. More information about this code can be found here: [Natural Language Processing of Radiology Text Reports: Interactive Text Classification](https://pubs.rsna.org/doi/full/10.1148/ryai.2021210035)\n",
        "\n",
        "The XML file format stores data under various headers which we store as key-value pairs in a python dictionary object.\n",
        "\n",
        "Here we first examine the data stucture of one such xml using an explicit file path. We want to extract the relevant text information from each file. We are interested in the text from the \"FINDINGS\" AND \"IMPRESSION\" keys. In addition, the reports are labeled as normal under the MeSH key - we will use this for labeling the reports as normal (if normal is present under MeSH) or abnormal.\n",
        "\n",
        "If we closely examine the data, there are some oddities. Some entries are multiple xrays together. For example, 875.xml contains text for both CXR and a knee X-ray. Some CXR have no text under FINDINGS and IMPRESSION. For some chest x-ray, there is no label given (\"No Indexing\"). These \"No Indexing\" labels will be considered as normal for this exercise. "
      ]
    },
    {
      "cell_type": "code",
      "metadata": {
        "id": "MIA9a7rckKil"
      },
      "source": [
        "import xmltodict\n",
        "\n",
        "# function from Wiggins et. al.\n",
        "def xml_parse(f):\n",
        "  with open(f) as xml:\n",
        "    report_dict = xmltodict.parse(xml.read())\n",
        "    xml.close()\n",
        "  return report_dict"
      ],
      "execution_count": 6,
      "outputs": []
    },
    {
      "cell_type": "markdown",
      "metadata": {
        "id": "GeqrbiKb2R_z"
      },
      "source": [
        "Let's take a look at a random xml file and see the contents after parsing"
      ]
    },
    {
      "cell_type": "code",
      "metadata": {
        "colab": {
          "base_uri": "https://localhost:8080/"
        },
        "id": "vptTTkdh2RbE",
        "outputId": "e618a3de-dc14-4c92-b9e0-b19241d38eca"
      },
      "source": [
        "reportdict_1 = xml_parse(\"./ecgen-radiology/1404.xml\")\n",
        "reportdict_1"
      ],
      "execution_count": 7,
      "outputs": [
        {
          "output_type": "execute_result",
          "data": {
            "text/plain": [
              "{'eCitation': {'meta': {'@type': 'rr'},\n",
              "  'uId': {'@id': 'CXR1404'},\n",
              "  'pmcId': {'@id': '1404'},\n",
              "  'docSource': 'CXR',\n",
              "  'IUXRId': {'@id': '1404'},\n",
              "  'licenseType': 'open-access',\n",
              "  'licenseURL': 'http://creativecommons.org/licenses/by-nc-nd/4.0/',\n",
              "  'ccLicense': 'byncnd',\n",
              "  'articleURL': None,\n",
              "  'articleDate': '2013-08-01',\n",
              "  'articleType': 'XR',\n",
              "  'publisher': 'Indiana University',\n",
              "  'title': 'Indiana University Chest X-ray Collection',\n",
              "  'note': 'The data are drawn from multiple hospital systems.',\n",
              "  'specialty': 'pulmonary diseases',\n",
              "  'subset': 'CXR',\n",
              "  'MedlineCitation': {'@Owner': 'Indiana University',\n",
              "   '@Status': 'supplied by publisher',\n",
              "   'Article': {'@PubModel': 'Electronic',\n",
              "    'Journal': {'JournalIssue': {'PubDate': {'Year': '2013',\n",
              "       'Month': '08',\n",
              "       'Day': '01'}}},\n",
              "    'ArticleTitle': 'Indiana University Chest X-ray Collection',\n",
              "    'Abstract': {'AbstractText': [{'@Label': 'COMPARISON', '#text': 'XXXX'},\n",
              "      {'@Label': 'INDICATION',\n",
              "       '#text': 'XXXX year old with chest pain, shortness of breath, hypertension.'},\n",
              "      {'@Label': 'FINDINGS',\n",
              "       '#text': 'No focal lung consolidation. Heart size and pulmonary vascularity are within normal limits. No pneumothorax or pleural effusion. No acute bony abnormalities. There are stable anterior wedge XXXX deformities of 2 midthoracic vertebral bodies.'},\n",
              "      {'@Label': 'IMPRESSION',\n",
              "       '#text': '1. No acute findings. 2. Stable midthoracic vertebral body XXXX fractures.'}]},\n",
              "    'Affiliation': 'Indiana University',\n",
              "    'AuthorList': {'@CompleteYN': 'Y',\n",
              "     'Author': [{'@ValidYN': 'Y',\n",
              "       'LastName': 'Kohli',\n",
              "       'ForeName': 'Marc',\n",
              "       'Initials': 'MD'},\n",
              "      {'@ValidYN': 'Y',\n",
              "       'LastName': 'Rosenman',\n",
              "       'ForeName': 'Marc',\n",
              "       'Initials': 'M'}]},\n",
              "    'Language': 'eng',\n",
              "    'PublicationTypeList': {'PublicationType': 'Radiology Report'},\n",
              "    'ArticleDate': {'Year': '2013', 'Month': '08', 'Day': '01'}},\n",
              "   'EssieArticleTitle': 'Indiana University Chest X-ray Collection',\n",
              "   'IMedAuthor': ['Marc David Kohli MD', 'Marc Rosenman M']},\n",
              "  'MeSH': {'major': ['Deformity/thoracic vertebrae/anterior/multiple',\n",
              "    'Fractures, Bone/Thoracic Vertebrae'],\n",
              "   'automatic': ['deformity', 'fracture', 'Spinal Fractures', 'Spine']},\n",
              "  'parentImage': [{'@id': 'CXR1404_IM-0258-1001',\n",
              "    'figureId': 'F1',\n",
              "    'caption': 'CHEST PA and Lateral on XXXX, XXXX',\n",
              "    'panel': {'@type': 'single',\n",
              "     'url': '/hadoop/storage/radiology/extract/CXR1404_IM-0258-1001.jpg',\n",
              "     'imgModality': '7',\n",
              "     'region': {'@type': 'panel',\n",
              "      'globalImageFeatures': {'CEDD': 'f2p0k680',\n",
              "       'ColorLayout': 'f1p0k26',\n",
              "       'EdgeHistogram': 'f0p0k338',\n",
              "       'FCTH': 'f4p0k369',\n",
              "       'SemanticContext60': 'f3p0k74'}}}},\n",
              "   {'@id': 'CXR1404_IM-0258-2001',\n",
              "    'figureId': 'F2',\n",
              "    'caption': 'CHEST PA and Lateral on XXXX, XXXX',\n",
              "    'panel': {'@type': 'single',\n",
              "     'url': '/hadoop/storage/radiology/extract/CXR1404_IM-0258-2001.jpg',\n",
              "     'imgModality': '7',\n",
              "     'region': {'@type': 'panel',\n",
              "      'globalImageFeatures': {'CEDD': 'f2p0k1637',\n",
              "       'ColorLayout': 'f1p0k25',\n",
              "       'EdgeHistogram': 'f0p0k518',\n",
              "       'FCTH': 'f4p0k1142',\n",
              "       'SemanticContext60': 'f3p0k151'}}}}]}}"
            ]
          },
          "metadata": {},
          "execution_count": 7
        }
      ]
    },
    {
      "cell_type": "markdown",
      "metadata": {
        "id": "kBZb655Tp2qp"
      },
      "source": [
        "\n",
        "The entirety of the of the xml data files were uncompressed into the \"ecgen-radiology\" folder, so we will need to go through each file and extract the relevant information. The [glob](https://docs.python.org/3/library/glob.html) function in the glob module makes this easy by matching all files whose pathname matches a given pattern using [fnmatch](https://docs.python.org/3/library/fnmatch.html#module-fnmatch)\n",
        "\n",
        "Additionally, we will extract relevant information from each xml file and store it into a pandas dataframe (which is basically a table)."
      ]
    },
    {
      "cell_type": "code",
      "metadata": {
        "id": "k-N2UbgWnU8P"
      },
      "source": [
        "# functions from Wiggins et. al. , slightly modified to remove dependence on fastai L class\n",
        "\n",
        "def get_label(report):\n",
        "    label = report['eCitation']['MeSH']['major']\n",
        "    return 'normal' if label == 'normal' or label == \"No Indexing\" else 'abnormal'\n",
        "\n",
        "def get_text(report):\n",
        "    text_dict = {}\n",
        "    text_dict['id'] = report['eCitation']['IUXRId']['@id']\n",
        "    text = report['eCitation']['MedlineCitation']['Article']['Abstract']['AbstractText']\n",
        "    findings = text[2]['#text'] if '#text' in text[2] else ''\n",
        "    text_dict['findings'] = findings\n",
        "    impression = text[3]['#text'] if '#text' in text[3] else ''\n",
        "    text_dict['impression'] = impression\n",
        "    text_dict['full-text'] = ' '.join([findings, impression])\n",
        "    return text_dict\n",
        "\n",
        "def process_report(report):\n",
        "    label = get_label(report)\n",
        "    report_dict = get_text(report)\n",
        "    report_dict['label'] = label\n",
        "    return report_dict\n"
      ],
      "execution_count": 8,
      "outputs": []
    },
    {
      "cell_type": "code",
      "metadata": {
        "id": "tLhLsKYJoces"
      },
      "source": [
        "import glob\n",
        "import pandas as pd\n",
        "\n",
        "files = glob.glob(\"./ecgen-radiology/*\")\n",
        "reports = list()\n",
        "reports_unlabeled = list()\n",
        "\n",
        "for file in files:\n",
        "  report_extract = xml_parse(file)\n",
        "  if report_extract['eCitation']['MeSH']['major'] == \"No Indexing\":\n",
        "    reports_unlabeled.append(file)\n",
        "    \n",
        "  reports.append(process_report(report_extract))\n",
        "  \n",
        "reports_df = pd.DataFrame(reports)\n"
      ],
      "execution_count": 9,
      "outputs": []
    },
    {
      "cell_type": "markdown",
      "metadata": {
        "id": "p48E2P5r2wMh"
      },
      "source": [
        "Let's examine some of the data in our table\n",
        "\n",
        "The .head() function will return the first n rows (default 5) of the table. The .sample() method will randomly choose n rows of the table to display (default is 1)"
      ]
    },
    {
      "cell_type": "code",
      "metadata": {
        "colab": {
          "base_uri": "https://localhost:8080/",
          "height": 459
        },
        "id": "kpOxPVK1uzHv",
        "outputId": "897da82c-3070-4cf6-e0b5-f6abe4e10103"
      },
      "source": [
        "print(\"# of reports:\",reports_df.shape[0])\n",
        "pd.options.display.max_colwidth = 0\n",
        "reports_df.head()"
      ],
      "execution_count": 10,
      "outputs": [
        {
          "output_type": "stream",
          "name": "stdout",
          "text": [
            "# of reports: 3955\n"
          ]
        },
        {
          "output_type": "execute_result",
          "data": {
            "text/plain": [
              "     id  \\\n",
              "0  3020   \n",
              "1  622    \n",
              "2  3731   \n",
              "3  825    \n",
              "4  3321   \n",
              "\n",
              "                                                                                                                                                                                                                findings  \\\n",
              "0  Heart size and mediastinal contours are normal in appearance. No consolidative airspace opacities. No radiographic evidence of pleural effusion or pneumothorax. Visualized osseous structures appear intact.           \n",
              "1  Both lungs are clear and expanded. Heart and mediastinum normal.                                                                                                                                                        \n",
              "2  Lungs are clear. Heart and mediastinum appear normal. No pleural effusion or pneumothorax.                                                                                                                              \n",
              "3                                                                                                                                                                                                                          \n",
              "4  XXXX XXXX and lateral chest examination was obtained. The heart silhouette is normal in size and contour. Aortic XXXX appear unremarkable. Lungs demonstrate no acute findings. There is no effusion or pneumothorax.   \n",
              "\n",
              "                                                                                                                                                                                   impression  \\\n",
              "0  No acute cardiopulmonary abnormality.                                                                                                                                                        \n",
              "1  No active disease.                                                                                                                                                                           \n",
              "2  Negative chest                                                                                                                                                                               \n",
              "3  Patchy bilateral airspace disease with pulmonary XXXX, XXXX a combination of atelectasis and consolidation. Borderline cardiac enlargement. Tracheostomy tube tip 6.4 cm above the carina.   \n",
              "4  1. No acute pulmonary disease.                                                                                                                                                               \n",
              "\n",
              "                                                                                                                                                                                                                                              full-text  \\\n",
              "0  Heart size and mediastinal contours are normal in appearance. No consolidative airspace opacities. No radiographic evidence of pleural effusion or pneumothorax. Visualized osseous structures appear intact. No acute cardiopulmonary abnormality.    \n",
              "1  Both lungs are clear and expanded. Heart and mediastinum normal. No active disease.                                                                                                                                                                    \n",
              "2  Lungs are clear. Heart and mediastinum appear normal. No pleural effusion or pneumothorax. Negative chest                                                                                                                                              \n",
              "3   Patchy bilateral airspace disease with pulmonary XXXX, XXXX a combination of atelectasis and consolidation. Borderline cardiac enlargement. Tracheostomy tube tip 6.4 cm above the carina.                                                            \n",
              "4  XXXX XXXX and lateral chest examination was obtained. The heart silhouette is normal in size and contour. Aortic XXXX appear unremarkable. Lungs demonstrate no acute findings. There is no effusion or pneumothorax. 1. No acute pulmonary disease.   \n",
              "\n",
              "      label  \n",
              "0  normal    \n",
              "1  normal    \n",
              "2  normal    \n",
              "3  abnormal  \n",
              "4  normal    "
            ],
            "text/html": [
              "\n",
              "  <div id=\"df-39619d8c-5f9c-4890-b172-f72e18f187bf\">\n",
              "    <div class=\"colab-df-container\">\n",
              "      <div>\n",
              "<style scoped>\n",
              "    .dataframe tbody tr th:only-of-type {\n",
              "        vertical-align: middle;\n",
              "    }\n",
              "\n",
              "    .dataframe tbody tr th {\n",
              "        vertical-align: top;\n",
              "    }\n",
              "\n",
              "    .dataframe thead th {\n",
              "        text-align: right;\n",
              "    }\n",
              "</style>\n",
              "<table border=\"1\" class=\"dataframe\">\n",
              "  <thead>\n",
              "    <tr style=\"text-align: right;\">\n",
              "      <th></th>\n",
              "      <th>id</th>\n",
              "      <th>findings</th>\n",
              "      <th>impression</th>\n",
              "      <th>full-text</th>\n",
              "      <th>label</th>\n",
              "    </tr>\n",
              "  </thead>\n",
              "  <tbody>\n",
              "    <tr>\n",
              "      <th>0</th>\n",
              "      <td>3020</td>\n",
              "      <td>Heart size and mediastinal contours are normal in appearance. No consolidative airspace opacities. No radiographic evidence of pleural effusion or pneumothorax. Visualized osseous structures appear intact.</td>\n",
              "      <td>No acute cardiopulmonary abnormality.</td>\n",
              "      <td>Heart size and mediastinal contours are normal in appearance. No consolidative airspace opacities. No radiographic evidence of pleural effusion or pneumothorax. Visualized osseous structures appear intact. No acute cardiopulmonary abnormality.</td>\n",
              "      <td>normal</td>\n",
              "    </tr>\n",
              "    <tr>\n",
              "      <th>1</th>\n",
              "      <td>622</td>\n",
              "      <td>Both lungs are clear and expanded. Heart and mediastinum normal.</td>\n",
              "      <td>No active disease.</td>\n",
              "      <td>Both lungs are clear and expanded. Heart and mediastinum normal. No active disease.</td>\n",
              "      <td>normal</td>\n",
              "    </tr>\n",
              "    <tr>\n",
              "      <th>2</th>\n",
              "      <td>3731</td>\n",
              "      <td>Lungs are clear. Heart and mediastinum appear normal. No pleural effusion or pneumothorax.</td>\n",
              "      <td>Negative chest</td>\n",
              "      <td>Lungs are clear. Heart and mediastinum appear normal. No pleural effusion or pneumothorax. Negative chest</td>\n",
              "      <td>normal</td>\n",
              "    </tr>\n",
              "    <tr>\n",
              "      <th>3</th>\n",
              "      <td>825</td>\n",
              "      <td></td>\n",
              "      <td>Patchy bilateral airspace disease with pulmonary XXXX, XXXX a combination of atelectasis and consolidation. Borderline cardiac enlargement. Tracheostomy tube tip 6.4 cm above the carina.</td>\n",
              "      <td>Patchy bilateral airspace disease with pulmonary XXXX, XXXX a combination of atelectasis and consolidation. Borderline cardiac enlargement. Tracheostomy tube tip 6.4 cm above the carina.</td>\n",
              "      <td>abnormal</td>\n",
              "    </tr>\n",
              "    <tr>\n",
              "      <th>4</th>\n",
              "      <td>3321</td>\n",
              "      <td>XXXX XXXX and lateral chest examination was obtained. The heart silhouette is normal in size and contour. Aortic XXXX appear unremarkable. Lungs demonstrate no acute findings. There is no effusion or pneumothorax.</td>\n",
              "      <td>1. No acute pulmonary disease.</td>\n",
              "      <td>XXXX XXXX and lateral chest examination was obtained. The heart silhouette is normal in size and contour. Aortic XXXX appear unremarkable. Lungs demonstrate no acute findings. There is no effusion or pneumothorax. 1. No acute pulmonary disease.</td>\n",
              "      <td>normal</td>\n",
              "    </tr>\n",
              "  </tbody>\n",
              "</table>\n",
              "</div>\n",
              "      <button class=\"colab-df-convert\" onclick=\"convertToInteractive('df-39619d8c-5f9c-4890-b172-f72e18f187bf')\"\n",
              "              title=\"Convert this dataframe to an interactive table.\"\n",
              "              style=\"display:none;\">\n",
              "        \n",
              "  <svg xmlns=\"http://www.w3.org/2000/svg\" height=\"24px\"viewBox=\"0 0 24 24\"\n",
              "       width=\"24px\">\n",
              "    <path d=\"M0 0h24v24H0V0z\" fill=\"none\"/>\n",
              "    <path d=\"M18.56 5.44l.94 2.06.94-2.06 2.06-.94-2.06-.94-.94-2.06-.94 2.06-2.06.94zm-11 1L8.5 8.5l.94-2.06 2.06-.94-2.06-.94L8.5 2.5l-.94 2.06-2.06.94zm10 10l.94 2.06.94-2.06 2.06-.94-2.06-.94-.94-2.06-.94 2.06-2.06.94z\"/><path d=\"M17.41 7.96l-1.37-1.37c-.4-.4-.92-.59-1.43-.59-.52 0-1.04.2-1.43.59L10.3 9.45l-7.72 7.72c-.78.78-.78 2.05 0 2.83L4 21.41c.39.39.9.59 1.41.59.51 0 1.02-.2 1.41-.59l7.78-7.78 2.81-2.81c.8-.78.8-2.07 0-2.86zM5.41 20L4 18.59l7.72-7.72 1.47 1.35L5.41 20z\"/>\n",
              "  </svg>\n",
              "      </button>\n",
              "      \n",
              "  <style>\n",
              "    .colab-df-container {\n",
              "      display:flex;\n",
              "      flex-wrap:wrap;\n",
              "      gap: 12px;\n",
              "    }\n",
              "\n",
              "    .colab-df-convert {\n",
              "      background-color: #E8F0FE;\n",
              "      border: none;\n",
              "      border-radius: 50%;\n",
              "      cursor: pointer;\n",
              "      display: none;\n",
              "      fill: #1967D2;\n",
              "      height: 32px;\n",
              "      padding: 0 0 0 0;\n",
              "      width: 32px;\n",
              "    }\n",
              "\n",
              "    .colab-df-convert:hover {\n",
              "      background-color: #E2EBFA;\n",
              "      box-shadow: 0px 1px 2px rgba(60, 64, 67, 0.3), 0px 1px 3px 1px rgba(60, 64, 67, 0.15);\n",
              "      fill: #174EA6;\n",
              "    }\n",
              "\n",
              "    [theme=dark] .colab-df-convert {\n",
              "      background-color: #3B4455;\n",
              "      fill: #D2E3FC;\n",
              "    }\n",
              "\n",
              "    [theme=dark] .colab-df-convert:hover {\n",
              "      background-color: #434B5C;\n",
              "      box-shadow: 0px 1px 3px 1px rgba(0, 0, 0, 0.15);\n",
              "      filter: drop-shadow(0px 1px 2px rgba(0, 0, 0, 0.3));\n",
              "      fill: #FFFFFF;\n",
              "    }\n",
              "  </style>\n",
              "\n",
              "      <script>\n",
              "        const buttonEl =\n",
              "          document.querySelector('#df-39619d8c-5f9c-4890-b172-f72e18f187bf button.colab-df-convert');\n",
              "        buttonEl.style.display =\n",
              "          google.colab.kernel.accessAllowed ? 'block' : 'none';\n",
              "\n",
              "        async function convertToInteractive(key) {\n",
              "          const element = document.querySelector('#df-39619d8c-5f9c-4890-b172-f72e18f187bf');\n",
              "          const dataTable =\n",
              "            await google.colab.kernel.invokeFunction('convertToInteractive',\n",
              "                                                     [key], {});\n",
              "          if (!dataTable) return;\n",
              "\n",
              "          const docLinkHtml = 'Like what you see? Visit the ' +\n",
              "            '<a target=\"_blank\" href=https://colab.research.google.com/notebooks/data_table.ipynb>data table notebook</a>'\n",
              "            + ' to learn more about interactive tables.';\n",
              "          element.innerHTML = '';\n",
              "          dataTable['output_type'] = 'display_data';\n",
              "          await google.colab.output.renderOutput(dataTable, element);\n",
              "          const docLink = document.createElement('div');\n",
              "          docLink.innerHTML = docLinkHtml;\n",
              "          element.appendChild(docLink);\n",
              "        }\n",
              "      </script>\n",
              "    </div>\n",
              "  </div>\n",
              "  "
            ]
          },
          "metadata": {},
          "execution_count": 10
        }
      ]
    },
    {
      "cell_type": "code",
      "metadata": {
        "colab": {
          "base_uri": "https://localhost:8080/",
          "height": 684
        },
        "id": "gPf0e-SE9Uwc",
        "outputId": "59498fdf-f360-4f34-b7c3-5314422f30cb"
      },
      "source": [
        "reports_df.sample(5)"
      ],
      "execution_count": 11,
      "outputs": [
        {
          "output_type": "execute_result",
          "data": {
            "text/plain": [
              "        id  \\\n",
              "1598  1865   \n",
              "2220  8      \n",
              "2362  3112   \n",
              "3633  1906   \n",
              "2377  3667   \n",
              "\n",
              "                                                                                                                                                                                                                                                                                                                                                                                                                                                                                                                                  findings  \\\n",
              "1598  Heart size is normal. The lungs are clear. There are no focal air space consolidations. No pleural effusions or pneumothoraces. Calcified right upper lobe pulmonary granuloma and calcified right hilar lymph XXXX. The hilar and mediastinal contours are normal. Normal pulmonary vascularity.                                                                                                                                                                                                                                      \n",
              "2220  The heart, pulmonary XXXX and mediastinum are within normal limits. There is no pleural effusion or pneumothorax. There is no focal air space opacity to suggest a pneumonia. There is an interim XXXX cervical spinal fusion partly evaluated.                                                                                                                                                                                                                                                                                        \n",
              "2362  The heart is normal in size. The mediastinum is unremarkable. The lungs are clear.                                                                                                                                                                                                                                                                                                                                                                                                                                                     \n",
              "3633                                                                                                                                                                                                                                                                                                                                                                                                                                                                                                                                         \n",
              "2377  Density in the left upper lung on PA XXXX XXXX represents superimposed bony and vascular structures. There is calcification of the first rib costicartilage junction which XXXX contributes to this appearance. The lungs otherwise appear clear. The heart and pulmonary XXXX appear normal. In the pleural spaces are clear. The mediastinal contour is normal. There are degenerative changes of thoracic spine. There is an electronic cardiac device overlying the left chest wall with intact distal leads in the right heart.   \n",
              "\n",
              "                                                                                                                                                                                                                              impression  \\\n",
              "1598  No acute abnormality. .                                                                                                                                                                                                              \n",
              "2220  No acute cardiopulmonary disease.                                                                                                                                                                                                    \n",
              "2362  No acute disease.                                                                                                                                                                                                                    \n",
              "3633  Streaky bibasilar opacities most suggestive of atelectasis with hypoventilation. Heart size mildly enlarged for technique, stable mediastinal contours. No definite pleural effusion seen, no typical findings of pulmonary edema.   \n",
              "2377  1. Irregular density in the left upper lung on PA XXXX, XXXX artifact related to superimposed vascular bony structures. Chest fluoroscopy or XXXX would confirm this 2. Otherwise, no acute cardiopulmonary disease.                 \n",
              "\n",
              "                                                                                                                                                                                                                                                                                                                                                                                                                                                                                                                                                                                                                                                                                                                                                      full-text  \\\n",
              "1598  Heart size is normal. The lungs are clear. There are no focal air space consolidations. No pleural effusions or pneumothoraces. Calcified right upper lobe pulmonary granuloma and calcified right hilar lymph XXXX. The hilar and mediastinal contours are normal. Normal pulmonary vascularity. No acute abnormality. .                                                                                                                                                                                                                                                                                                                                                                                                                                   \n",
              "2220  The heart, pulmonary XXXX and mediastinum are within normal limits. There is no pleural effusion or pneumothorax. There is no focal air space opacity to suggest a pneumonia. There is an interim XXXX cervical spinal fusion partly evaluated. No acute cardiopulmonary disease.                                                                                                                                                                                                                                                                                                                                                                                                                                                                           \n",
              "2362  The heart is normal in size. The mediastinum is unremarkable. The lungs are clear. No acute disease.                                                                                                                                                                                                                                                                                                                                                                                                                                                                                                                                                                                                                                                        \n",
              "3633   Streaky bibasilar opacities most suggestive of atelectasis with hypoventilation. Heart size mildly enlarged for technique, stable mediastinal contours. No definite pleural effusion seen, no typical findings of pulmonary edema.                                                                                                                                                                                                                                                                                                                                                                                                                                                                                                                         \n",
              "2377  Density in the left upper lung on PA XXXX XXXX represents superimposed bony and vascular structures. There is calcification of the first rib costicartilage junction which XXXX contributes to this appearance. The lungs otherwise appear clear. The heart and pulmonary XXXX appear normal. In the pleural spaces are clear. The mediastinal contour is normal. There are degenerative changes of thoracic spine. There is an electronic cardiac device overlying the left chest wall with intact distal leads in the right heart. 1. Irregular density in the left upper lung on PA XXXX, XXXX artifact related to superimposed vascular bony structures. Chest fluoroscopy or XXXX would confirm this 2. Otherwise, no acute cardiopulmonary disease.   \n",
              "\n",
              "         label  \n",
              "1598  abnormal  \n",
              "2220  normal    \n",
              "2362  normal    \n",
              "3633  abnormal  \n",
              "2377  abnormal  "
            ],
            "text/html": [
              "\n",
              "  <div id=\"df-ec18a85a-b4d4-4ed9-bda3-fecf0158e086\">\n",
              "    <div class=\"colab-df-container\">\n",
              "      <div>\n",
              "<style scoped>\n",
              "    .dataframe tbody tr th:only-of-type {\n",
              "        vertical-align: middle;\n",
              "    }\n",
              "\n",
              "    .dataframe tbody tr th {\n",
              "        vertical-align: top;\n",
              "    }\n",
              "\n",
              "    .dataframe thead th {\n",
              "        text-align: right;\n",
              "    }\n",
              "</style>\n",
              "<table border=\"1\" class=\"dataframe\">\n",
              "  <thead>\n",
              "    <tr style=\"text-align: right;\">\n",
              "      <th></th>\n",
              "      <th>id</th>\n",
              "      <th>findings</th>\n",
              "      <th>impression</th>\n",
              "      <th>full-text</th>\n",
              "      <th>label</th>\n",
              "    </tr>\n",
              "  </thead>\n",
              "  <tbody>\n",
              "    <tr>\n",
              "      <th>1598</th>\n",
              "      <td>1865</td>\n",
              "      <td>Heart size is normal. The lungs are clear. There are no focal air space consolidations. No pleural effusions or pneumothoraces. Calcified right upper lobe pulmonary granuloma and calcified right hilar lymph XXXX. The hilar and mediastinal contours are normal. Normal pulmonary vascularity.</td>\n",
              "      <td>No acute abnormality. .</td>\n",
              "      <td>Heart size is normal. The lungs are clear. There are no focal air space consolidations. No pleural effusions or pneumothoraces. Calcified right upper lobe pulmonary granuloma and calcified right hilar lymph XXXX. The hilar and mediastinal contours are normal. Normal pulmonary vascularity. No acute abnormality. .</td>\n",
              "      <td>abnormal</td>\n",
              "    </tr>\n",
              "    <tr>\n",
              "      <th>2220</th>\n",
              "      <td>8</td>\n",
              "      <td>The heart, pulmonary XXXX and mediastinum are within normal limits. There is no pleural effusion or pneumothorax. There is no focal air space opacity to suggest a pneumonia. There is an interim XXXX cervical spinal fusion partly evaluated.</td>\n",
              "      <td>No acute cardiopulmonary disease.</td>\n",
              "      <td>The heart, pulmonary XXXX and mediastinum are within normal limits. There is no pleural effusion or pneumothorax. There is no focal air space opacity to suggest a pneumonia. There is an interim XXXX cervical spinal fusion partly evaluated. No acute cardiopulmonary disease.</td>\n",
              "      <td>normal</td>\n",
              "    </tr>\n",
              "    <tr>\n",
              "      <th>2362</th>\n",
              "      <td>3112</td>\n",
              "      <td>The heart is normal in size. The mediastinum is unremarkable. The lungs are clear.</td>\n",
              "      <td>No acute disease.</td>\n",
              "      <td>The heart is normal in size. The mediastinum is unremarkable. The lungs are clear. No acute disease.</td>\n",
              "      <td>normal</td>\n",
              "    </tr>\n",
              "    <tr>\n",
              "      <th>3633</th>\n",
              "      <td>1906</td>\n",
              "      <td></td>\n",
              "      <td>Streaky bibasilar opacities most suggestive of atelectasis with hypoventilation. Heart size mildly enlarged for technique, stable mediastinal contours. No definite pleural effusion seen, no typical findings of pulmonary edema.</td>\n",
              "      <td>Streaky bibasilar opacities most suggestive of atelectasis with hypoventilation. Heart size mildly enlarged for technique, stable mediastinal contours. No definite pleural effusion seen, no typical findings of pulmonary edema.</td>\n",
              "      <td>abnormal</td>\n",
              "    </tr>\n",
              "    <tr>\n",
              "      <th>2377</th>\n",
              "      <td>3667</td>\n",
              "      <td>Density in the left upper lung on PA XXXX XXXX represents superimposed bony and vascular structures. There is calcification of the first rib costicartilage junction which XXXX contributes to this appearance. The lungs otherwise appear clear. The heart and pulmonary XXXX appear normal. In the pleural spaces are clear. The mediastinal contour is normal. There are degenerative changes of thoracic spine. There is an electronic cardiac device overlying the left chest wall with intact distal leads in the right heart.</td>\n",
              "      <td>1. Irregular density in the left upper lung on PA XXXX, XXXX artifact related to superimposed vascular bony structures. Chest fluoroscopy or XXXX would confirm this 2. Otherwise, no acute cardiopulmonary disease.</td>\n",
              "      <td>Density in the left upper lung on PA XXXX XXXX represents superimposed bony and vascular structures. There is calcification of the first rib costicartilage junction which XXXX contributes to this appearance. The lungs otherwise appear clear. The heart and pulmonary XXXX appear normal. In the pleural spaces are clear. The mediastinal contour is normal. There are degenerative changes of thoracic spine. There is an electronic cardiac device overlying the left chest wall with intact distal leads in the right heart. 1. Irregular density in the left upper lung on PA XXXX, XXXX artifact related to superimposed vascular bony structures. Chest fluoroscopy or XXXX would confirm this 2. Otherwise, no acute cardiopulmonary disease.</td>\n",
              "      <td>abnormal</td>\n",
              "    </tr>\n",
              "  </tbody>\n",
              "</table>\n",
              "</div>\n",
              "      <button class=\"colab-df-convert\" onclick=\"convertToInteractive('df-ec18a85a-b4d4-4ed9-bda3-fecf0158e086')\"\n",
              "              title=\"Convert this dataframe to an interactive table.\"\n",
              "              style=\"display:none;\">\n",
              "        \n",
              "  <svg xmlns=\"http://www.w3.org/2000/svg\" height=\"24px\"viewBox=\"0 0 24 24\"\n",
              "       width=\"24px\">\n",
              "    <path d=\"M0 0h24v24H0V0z\" fill=\"none\"/>\n",
              "    <path d=\"M18.56 5.44l.94 2.06.94-2.06 2.06-.94-2.06-.94-.94-2.06-.94 2.06-2.06.94zm-11 1L8.5 8.5l.94-2.06 2.06-.94-2.06-.94L8.5 2.5l-.94 2.06-2.06.94zm10 10l.94 2.06.94-2.06 2.06-.94-2.06-.94-.94-2.06-.94 2.06-2.06.94z\"/><path d=\"M17.41 7.96l-1.37-1.37c-.4-.4-.92-.59-1.43-.59-.52 0-1.04.2-1.43.59L10.3 9.45l-7.72 7.72c-.78.78-.78 2.05 0 2.83L4 21.41c.39.39.9.59 1.41.59.51 0 1.02-.2 1.41-.59l7.78-7.78 2.81-2.81c.8-.78.8-2.07 0-2.86zM5.41 20L4 18.59l7.72-7.72 1.47 1.35L5.41 20z\"/>\n",
              "  </svg>\n",
              "      </button>\n",
              "      \n",
              "  <style>\n",
              "    .colab-df-container {\n",
              "      display:flex;\n",
              "      flex-wrap:wrap;\n",
              "      gap: 12px;\n",
              "    }\n",
              "\n",
              "    .colab-df-convert {\n",
              "      background-color: #E8F0FE;\n",
              "      border: none;\n",
              "      border-radius: 50%;\n",
              "      cursor: pointer;\n",
              "      display: none;\n",
              "      fill: #1967D2;\n",
              "      height: 32px;\n",
              "      padding: 0 0 0 0;\n",
              "      width: 32px;\n",
              "    }\n",
              "\n",
              "    .colab-df-convert:hover {\n",
              "      background-color: #E2EBFA;\n",
              "      box-shadow: 0px 1px 2px rgba(60, 64, 67, 0.3), 0px 1px 3px 1px rgba(60, 64, 67, 0.15);\n",
              "      fill: #174EA6;\n",
              "    }\n",
              "\n",
              "    [theme=dark] .colab-df-convert {\n",
              "      background-color: #3B4455;\n",
              "      fill: #D2E3FC;\n",
              "    }\n",
              "\n",
              "    [theme=dark] .colab-df-convert:hover {\n",
              "      background-color: #434B5C;\n",
              "      box-shadow: 0px 1px 3px 1px rgba(0, 0, 0, 0.15);\n",
              "      filter: drop-shadow(0px 1px 2px rgba(0, 0, 0, 0.3));\n",
              "      fill: #FFFFFF;\n",
              "    }\n",
              "  </style>\n",
              "\n",
              "      <script>\n",
              "        const buttonEl =\n",
              "          document.querySelector('#df-ec18a85a-b4d4-4ed9-bda3-fecf0158e086 button.colab-df-convert');\n",
              "        buttonEl.style.display =\n",
              "          google.colab.kernel.accessAllowed ? 'block' : 'none';\n",
              "\n",
              "        async function convertToInteractive(key) {\n",
              "          const element = document.querySelector('#df-ec18a85a-b4d4-4ed9-bda3-fecf0158e086');\n",
              "          const dataTable =\n",
              "            await google.colab.kernel.invokeFunction('convertToInteractive',\n",
              "                                                     [key], {});\n",
              "          if (!dataTable) return;\n",
              "\n",
              "          const docLinkHtml = 'Like what you see? Visit the ' +\n",
              "            '<a target=\"_blank\" href=https://colab.research.google.com/notebooks/data_table.ipynb>data table notebook</a>'\n",
              "            + ' to learn more about interactive tables.';\n",
              "          element.innerHTML = '';\n",
              "          dataTable['output_type'] = 'display_data';\n",
              "          await google.colab.output.renderOutput(dataTable, element);\n",
              "          const docLink = document.createElement('div');\n",
              "          docLink.innerHTML = docLinkHtml;\n",
              "          element.appendChild(docLink);\n",
              "        }\n",
              "      </script>\n",
              "    </div>\n",
              "  </div>\n",
              "  "
            ]
          },
          "metadata": {},
          "execution_count": 11
        }
      ]
    },
    {
      "cell_type": "markdown",
      "metadata": {
        "id": "L7TwCTMm9cqB"
      },
      "source": [
        "# Some characteristics of the data\n",
        "\n",
        "We previously already noticed that not all reports had labels associated with them and kept track of a list of such reports in reports_unlabeled. Through further examination of the data we see that some reports (e.g. id 68) only have an impression section but no findings section. THere are also numerous XXXX in reports which likely represent placeholder text after PHI removal (names, dates, etc). Even for normal labeled reports, there is quite a large amount of variation in the text of the reports."
      ]
    },
    {
      "cell_type": "markdown",
      "metadata": {
        "id": "IrbIaKT--Vvs"
      },
      "source": [
        "## Distribution of labels\n",
        "\n",
        "For any data, it is important to examine the distribution of classes (labels) of the data. Imbalanced datasets can have large impacts in terms of how a model behaves after training. "
      ]
    },
    {
      "cell_type": "code",
      "metadata": {
        "colab": {
          "base_uri": "https://localhost:8080/",
          "height": 357
        },
        "id": "GZSWHhOu-ci0",
        "outputId": "c540b967-3f67-49a6-93d0-17bc47319b52"
      },
      "source": [
        "# code from Wiggins et. al.\n",
        "\n",
        "label_counts = reports_df.label.value_counts()\n",
        "print('Abnormal:', label_counts['abnormal'])\n",
        "print('Normal:', label_counts['normal'])\n",
        "print()\n",
        "label_counts.plot.bar();"
      ],
      "execution_count": 12,
      "outputs": [
        {
          "output_type": "stream",
          "name": "stdout",
          "text": [
            "Abnormal: 2469\n",
            "Normal: 1486\n",
            "\n"
          ]
        },
        {
          "output_type": "display_data",
          "data": {
            "text/plain": [
              "<Figure size 432x288 with 1 Axes>"
            ],
            "image/png": "[encoded data removed]"
          },
          "metadata": {
            "needs_background": "light"
          }
        }
      ]
    },
    {
      "cell_type": "markdown",
      "metadata": {
        "id": "2gkDEelM-2he"
      },
      "source": [
        "# Training and test set split\n",
        "\n",
        "We will carve the data into two separate data sets - a training set to train the model and a test set to evaluate the model performance. It is necessary to use a separate dataset on which the model is not trained to evaluate the model because models can overfit onto training data and perform very well on that particular dataset but fail to generalize to examples it has not seen before.\n",
        "\n",
        "Similarly, a third validation set is sometimes employed as part of the model development process for hyperparameter tuning which is  part of the training process.\n",
        "\n",
        "For simplicity, we will use a single stratified train-test split, but a cross-validation approach with multiple train-test splits can offer better insight into how a model performs.\n",
        "\n",
        "The stratification refers to how the sampling is done when the data is split into separate data sets. This is important when there is class imbalance in the dataset because you could conceivably end up with one dataset only having members of one class. \n",
        "\n",
        "The stratify option in the train_test_split function takes the labels of the dataset as input. When this option is enabled, the sampler will attempt to preserve class proportions of the input dataset (aka the input dataset labels) in the split datasets via stratified sampling. Note this does not solve the class imbalance problem on its own."
      ]
    },
    {
      "cell_type": "code",
      "metadata": {
        "id": "lGzyqyLg-1fY"
      },
      "source": [
        "import numpy as np\n",
        "from sklearn.model_selection import train_test_split\n",
        "\n",
        "# fix seed for reproducibility\n",
        "np.random.seed(2021)\n",
        "\n",
        "train_df, test_df = train_test_split(reports_df, test_size=0.15, stratify=reports_df.label.values)"
      ],
      "execution_count": 13,
      "outputs": []
    },
    {
      "cell_type": "code",
      "source": [
        "print(\"train_df shape: \", train_df.shape)\n",
        "print(\"test_df shape: \", test_df.shape)"
      ],
      "metadata": {
        "colab": {
          "base_uri": "https://localhost:8080/"
        },
        "id": "xofRltUQ5Maq",
        "outputId": "ee746f78-f137-4c68-fc3d-39a94d5b64ec"
      },
      "execution_count": 14,
      "outputs": [
        {
          "output_type": "stream",
          "name": "stdout",
          "text": [
            "train_df shape:  (3361, 5)\n",
            "test_df shape:  (594, 5)\n"
          ]
        }
      ]
    },
    {
      "cell_type": "markdown",
      "metadata": {
        "id": "G1UzvyxVF_f0"
      },
      "source": [
        "If we examine the dataset labels of the test set, we can see that we have similar proportions of abnormal and normal labels compared to the original full dataset (approx 62% abnormal)"
      ]
    },
    {
      "cell_type": "code",
      "metadata": {
        "colab": {
          "base_uri": "https://localhost:8080/",
          "height": 374
        },
        "id": "6sXQ7JaPCGCB",
        "outputId": "7d98a288-b955-49bf-abcd-8ba8c594e08e"
      },
      "source": [
        "# code from Wiggins et. al.\n",
        "\n",
        "print('Test set size:', test_df.shape[0])\n",
        "test_counts = test_df.label.value_counts()\n",
        "print('Abnormal:', test_counts['abnormal'])\n",
        "print('Normal:', test_counts['normal'])\n",
        "print()\n",
        "test_counts.plot.bar();"
      ],
      "execution_count": 15,
      "outputs": [
        {
          "output_type": "stream",
          "name": "stdout",
          "text": [
            "Test set size: 594\n",
            "Abnormal: 371\n",
            "Normal: 223\n",
            "\n"
          ]
        },
        {
          "output_type": "display_data",
          "data": {
            "text/plain": [
              "<Figure size 432x288 with 1 Axes>"
            ],
            "image/png": "[encoded data removed]"
          },
          "metadata": {
            "needs_background": "light"
          }
        }
      ]
    },
    {
      "cell_type": "markdown",
      "metadata": {
        "id": "AT-jzMJb2ivw"
      },
      "source": [
        "# Preprocessing\n",
        "\n",
        "Most models will not understand a stream of free text as is. Before we can use our data as input into a model, we need to convert it into a form that can be understood by an algorithm. Often this is done by creating a \"vocabulary\" of words such that every unique word has a unique index and thus we can input a word's index as input into a model (or use the index to look up some numerical representation of the word).\n",
        "\n",
        "The following sections will examine pieces of a preprocessing pipeline in isolation using independent sections of code but then put these pieces together as one function at the end."
      ]
    },
    {
      "cell_type": "markdown",
      "metadata": {
        "id": "6ngfIeq-ep7-"
      },
      "source": [
        "## Regular expressions (regex)\n",
        "The data used in this tutorial was already nicely packaged into distinct Findings and Impression sections. Most of the time when working with radiology reports you'll have to divide the report into these separate entities yourself. One way to do this is with regular expressions which are rule based expressions that can match patterns of text. Regular expressions can be a powerful way to automatically segment reports or identify sections of text if pre-existing knowledge about their format is known.\n",
        "\n",
        "[Cheat sheet](http://stanford.edu/~wpmarble/webscraping_tutorial/regex_cheatsheet.pdf) for regex syntax\n",
        "\n",
        "We will not extensively cover regular expression nuances in this tutorial but just show a simple example of how they are used with respect to the Python re package. Regular expressions are a general framework thus you may also see packages outside of the re package which interface with regular expressions.\n",
        "\n",
        "More about regular expressions can be found [here](https://www.regular-expressions.info/refflavors.html).\n"
      ]
    },
    {
      "cell_type": "code",
      "metadata": {
        "id": "wvgJFJX-uRZJ",
        "colab": {
          "base_uri": "https://localhost:8080/"
        },
        "outputId": "72773755-6135-468b-b914-f5ffbb622932"
      },
      "source": [
        "#@title\n",
        "import re\n",
        "\n",
        "regex_test_string = \"\"\"\n",
        "123-456-7890\n",
        "(123)456-7890\n",
        "(123)-456-7890\n",
        "123 456 7890\n",
        "123.456.7890\n",
        "+1-123-456-7890\n",
        "+1 (321) 456-7890\n",
        "+91 123-456-7890\n",
        "\"\"\"\n",
        "\n",
        "regex_pattern = \"\\+?(\\d{1,3})?[-. (]?[-. (]?(\\d{3})[-. )]?[-. )]?\\d{3}[-. ]?\\d{4}\"#@param {type:\"string\"}\n",
        "m = re.finditer(regex_pattern,regex_test_string)\n",
        "\n",
        "for match in m:\n",
        "  print(match.group())\n",
        "  print(f\"Area code is {match.group(2)}\\n\")"
      ],
      "execution_count": 16,
      "outputs": [
        {
          "output_type": "stream",
          "name": "stdout",
          "text": [
            "123-456-7890\n",
            "Area code is 123\n",
            "\n",
            "(123)456-7890\n",
            "Area code is 123\n",
            "\n",
            "(123)-456-7890\n",
            "Area code is 123\n",
            "\n",
            "123 456 7890\n",
            "Area code is 123\n",
            "\n",
            "123.456.7890\n",
            "Area code is 123\n",
            "\n",
            "+1-123-456-7890\n",
            "Area code is 123\n",
            "\n",
            "+1 (321) 456-7890\n",
            "Area code is 321\n",
            "\n",
            "+91 123-456-7890\n",
            "Area code is 123\n",
            "\n"
          ]
        }
      ]
    },
    {
      "cell_type": "markdown",
      "metadata": {
        "id": "Z2kgbwY9T82E"
      },
      "source": [
        "Note by default regex does greedy matching\n",
        "Greedy matching - match as much as text as possible to fulfill the pattern even if a smaller subsection of the text would have already fulfilled the pattern.\n",
        "\n",
        "In the following example we look for a string that begins with \"h\", has at least one character of anything except line breaks, and then an \"l\".\n",
        "\n",
        "If our test string is \"hello\" , then the substring \"hel\" matches our objective but so does \"hell\" if we go one character further. The default behavior is to return the longer version (hence greedy). If we wanted the non-greedy version, adding a \"?\" after a quantifier makes it non-greedy."
      ]
    },
    {
      "cell_type": "code",
      "metadata": {
        "colab": {
          "base_uri": "https://localhost:8080/"
        },
        "id": "Qys-4is5T76_",
        "outputId": "cb1db49c-b8da-4ce3-d77f-efc988a65ef4"
      },
      "source": [
        "#@title\n",
        "regex_pattern = \"h.+l\"\n",
        "m = re.finditer(regex_pattern,\"hello\")\n",
        "for match in m:\n",
        "  print(match.group())"
      ],
      "execution_count": 17,
      "outputs": [
        {
          "output_type": "stream",
          "name": "stdout",
          "text": [
            "hell\n"
          ]
        }
      ]
    },
    {
      "cell_type": "code",
      "metadata": {
        "colab": {
          "base_uri": "https://localhost:8080/"
        },
        "id": "a7CnEewdUKJf",
        "outputId": "9c8ba0a1-ee41-41c8-cc34-13679f97360e"
      },
      "source": [
        "#@title\n",
        "regex_pattern = \"h.+?l\"\n",
        "m = re.finditer(regex_pattern,\"hello\")\n",
        "for match in m:\n",
        "  print(match.group())"
      ],
      "execution_count": 18,
      "outputs": [
        {
          "output_type": "stream",
          "name": "stdout",
          "text": [
            "hel\n"
          ]
        }
      ]
    },
    {
      "cell_type": "markdown",
      "metadata": {
        "id": "NXLQtF-d2eYv"
      },
      "source": [
        "## Word Tokenization\n",
        "\n",
        "The first step in processing text is often tokenization. This is a process in which text is split into discrete sections which are known as tokens. A natural place to create these sections (for English) is dividing at spaces so that each word represents a token. However, tokens could also be defined at a phrase level (multiple words), sentence level, or character level. For simplicity here, we will tokenize at the single word level."
      ]
    },
    {
      "cell_type": "code",
      "metadata": {
        "id": "zelqyCW7HHZE",
        "colab": {
          "base_uri": "https://localhost:8080/"
        },
        "outputId": "50dd077c-d2c1-42a0-97c1-2b8d2ae0ece4"
      },
      "source": [
        "import nltk\n",
        "nltk.download('punkt')\n",
        "text = \"Heart size upper limits of normal. Mediastinal contours are maintained. The patient is mildly rotated. There is a small to moderate sized right apical pneumothorax which measures approximately 2.0 cm. No focal airspace consolidation is seen. Left chest is clear. No definite displaced bony injury is seen. Results called XXXX. XXXX XXXX p.m. XXXX, XXXX. Small to moderate right apical pneumothorax.\"\n",
        "text_tokens = nltk.tokenize.word_tokenize(text)\n",
        "print(text_tokens)"
      ],
      "execution_count": 19,
      "outputs": [
        {
          "output_type": "stream",
          "name": "stderr",
          "text": [
            "[nltk_data] Downloading package punkt to /root/nltk_data...\n",
            "[nltk_data]   Unzipping tokenizers/punkt.zip.\n"
          ]
        },
        {
          "output_type": "stream",
          "name": "stdout",
          "text": [
            "['Heart', 'size', 'upper', 'limits', 'of', 'normal', '.', 'Mediastinal', 'contours', 'are', 'maintained', '.', 'The', 'patient', 'is', 'mildly', 'rotated', '.', 'There', 'is', 'a', 'small', 'to', 'moderate', 'sized', 'right', 'apical', 'pneumothorax', 'which', 'measures', 'approximately', '2.0', 'cm', '.', 'No', 'focal', 'airspace', 'consolidation', 'is', 'seen', '.', 'Left', 'chest', 'is', 'clear', '.', 'No', 'definite', 'displaced', 'bony', 'injury', 'is', 'seen', '.', 'Results', 'called', 'XXXX', '.', 'XXXX', 'XXXX', 'p.m.', 'XXXX', ',', 'XXXX', '.', 'Small', 'to', 'moderate', 'right', 'apical', 'pneumothorax', '.']\n"
          ]
        }
      ]
    },
    {
      "cell_type": "markdown",
      "metadata": {
        "id": "o4fhncsA205b"
      },
      "source": [
        "## Stopword removal\n",
        "\n",
        "Stop words are high-frequeny words in language that tend to appear in any context due to their grammatical role (e.g. \"a\", \"the\", \"of\"). They generally do not contain much information, so it is customary to remove these words as part of the prprocessing step. In general this works well, but phrases that rely on stopwords can lose meaning (e.g. \"to be or not to be\"). \n",
        "\n",
        "In this case, XXXX should be removed as well.\n",
        "\n",
        "Removal of stopwords is as simple as defining a set of words that you want to remove and then removing these words by scanning through input text and filtering out words that are within the set.\n"
      ]
    },
    {
      "cell_type": "code",
      "metadata": {
        "id": "c1hZAWWsHMpg",
        "colab": {
          "base_uri": "https://localhost:8080/"
        },
        "outputId": "c11b9d86-7446-4cd3-ed68-cc29d72aa3ba"
      },
      "source": [
        "import nltk\n",
        "nltk.download('stopwords')\n",
        "from nltk.corpus import stopwords\n",
        "print(stopwords.words('english'))"
      ],
      "execution_count": 20,
      "outputs": [
        {
          "output_type": "stream",
          "name": "stdout",
          "text": [
            "['i', 'me', 'my', 'myself', 'we', 'our', 'ours', 'ourselves', 'you', \"you're\", \"you've\", \"you'll\", \"you'd\", 'your', 'yours', 'yourself', 'yourselves', 'he', 'him', 'his', 'himself', 'she', \"she's\", 'her', 'hers', 'herself', 'it', \"it's\", 'its', 'itself', 'they', 'them', 'their', 'theirs', 'themselves', 'what', 'which', 'who', 'whom', 'this', 'that', \"that'll\", 'these', 'those', 'am', 'is', 'are', 'was', 'were', 'be', 'been', 'being', 'have', 'has', 'had', 'having', 'do', 'does', 'did', 'doing', 'a', 'an', 'the', 'and', 'but', 'if', 'or', 'because', 'as', 'until', 'while', 'of', 'at', 'by', 'for', 'with', 'about', 'against', 'between', 'into', 'through', 'during', 'before', 'after', 'above', 'below', 'to', 'from', 'up', 'down', 'in', 'out', 'on', 'off', 'over', 'under', 'again', 'further', 'then', 'once', 'here', 'there', 'when', 'where', 'why', 'how', 'all', 'any', 'both', 'each', 'few', 'more', 'most', 'other', 'some', 'such', 'no', 'nor', 'not', 'only', 'own', 'same', 'so', 'than', 'too', 'very', 's', 't', 'can', 'will', 'just', 'don', \"don't\", 'should', \"should've\", 'now', 'd', 'll', 'm', 'o', 're', 've', 'y', 'ain', 'aren', \"aren't\", 'couldn', \"couldn't\", 'didn', \"didn't\", 'doesn', \"doesn't\", 'hadn', \"hadn't\", 'hasn', \"hasn't\", 'haven', \"haven't\", 'isn', \"isn't\", 'ma', 'mightn', \"mightn't\", 'mustn', \"mustn't\", 'needn', \"needn't\", 'shan', \"shan't\", 'shouldn', \"shouldn't\", 'wasn', \"wasn't\", 'weren', \"weren't\", 'won', \"won't\", 'wouldn', \"wouldn't\"]\n"
          ]
        },
        {
          "output_type": "stream",
          "name": "stderr",
          "text": [
            "[nltk_data] Downloading package stopwords to /root/nltk_data...\n",
            "[nltk_data]   Unzipping corpora/stopwords.zip.\n"
          ]
        }
      ]
    },
    {
      "cell_type": "markdown",
      "metadata": {
        "id": "gkTIN1FPRUbw"
      },
      "source": [
        "The imported stopwords exist originally as a list structure, but we should convert to a set for better performance. We can also add custom words to expand this set. Notice our set of stopwords is also all lower case. We will lowercase our tokens prior to matching to the stopword set.\n",
        "\n",
        "In addition to stopwords, numbers are often removed as well (e.g. list numberings) but in the context of radiology these numbers can be very important (e.g. size of a lung nodule)."
      ]
    },
    {
      "cell_type": "code",
      "metadata": {
        "colab": {
          "base_uri": "https://localhost:8080/"
        },
        "id": "j28XvnypRTSq",
        "outputId": "ef421f7a-f370-48d3-8e10-0ca3c1921bbf"
      },
      "source": [
        "import string\n",
        "stop = set(stopwords.words('english')+list(string.punctuation))\n",
        "stop.add(\"xxxx\")\n",
        "\n",
        "filtered_tokens = [i.lower() for i in text_tokens if i.lower() not in stop ]\n",
        "print(filtered_tokens)"
      ],
      "execution_count": 21,
      "outputs": [
        {
          "output_type": "stream",
          "name": "stdout",
          "text": [
            "['heart', 'size', 'upper', 'limits', 'normal', 'mediastinal', 'contours', 'maintained', 'patient', 'mildly', 'rotated', 'small', 'moderate', 'sized', 'right', 'apical', 'pneumothorax', 'measures', 'approximately', '2.0', 'cm', 'focal', 'airspace', 'consolidation', 'seen', 'left', 'chest', 'clear', 'definite', 'displaced', 'bony', 'injury', 'seen', 'results', 'called', 'p.m.', 'small', 'moderate', 'right', 'apical', 'pneumothorax']\n"
          ]
        }
      ]
    },
    {
      "cell_type": "markdown",
      "metadata": {
        "id": "iqPsXyKZ2bf7"
      },
      "source": [
        "## Word normalization - stemming and lemmatization\n",
        "\n",
        "Word (or text) normalization is reducing text to a standardized form before processing. One way to do this is word stemming and/or lemmatization. In word stemming, the suffix of a word is removed, often leaving behind a stem that is not a full word. In lemmatization, words are transformed into a base word. For example, it is common to remove verb conjugations to reduce different forms of a verb to a single word/token - transforming flying, flown, flew -> fly. \n",
        "\n",
        "We will introduce the concept here, but it will not be included within the preprocessing pipeline. Medical stemming is a difficult topic due to many words sharing roots while still having different meanings (e.g. pneumonia, pneumonitis, pneumonic, pneumothorax). Most available stemming packages are not designed for medical stemming and could introduce problems by truncating useful parts of words (\"over stemming\"). \n",
        "\n",
        "In addition to stemming/lemmatizing words which are based on word roots, one can normalize words by mapping words to a controlled vocabulary. This is especially useful in medicine where a number of terms could refer to the same entity (e.g. hepatorenal recess vs subhepatic recess vs pouch of Morison vs Morison's pouch). Examples of efforts to create standardized medical vocabulary include [UMLS](https://www.nlm.nih.gov/research/umls/index.html), [SNOMED-CT](https://www.nlm.nih.gov/healthit/snomedct/index.html), and [RadLex](http://radlex.org/)"
      ]
    },
    {
      "cell_type": "code",
      "metadata": {
        "id": "l3f1ZJUlLRB3",
        "colab": {
          "base_uri": "https://localhost:8080/"
        },
        "outputId": "e32d5980-1bef-4679-da54-c2d515da96a5"
      },
      "source": [
        "import nltk\n",
        "nltk.download(\"wordnet\")\n",
        "from nltk.stem import WordNetLemmatizer\n",
        "from nltk.stem.porter import PorterStemmer"
      ],
      "execution_count": 22,
      "outputs": [
        {
          "output_type": "stream",
          "name": "stderr",
          "text": [
            "[nltk_data] Downloading package wordnet to /root/nltk_data...\n"
          ]
        }
      ]
    },
    {
      "cell_type": "markdown",
      "metadata": {
        "id": "umebJGsHLX5w"
      },
      "source": [
        "The [Porter Stemmer](http://snowball.tartarus.org/algorithms/porter/stemmer.html) is a commonly used stemmer which uses an extensive rule based approach to stem words. The stems generated by stemming may not be \"real\" words which is ok as the point is to normalize similar words into the same token."
      ]
    },
    {
      "cell_type": "code",
      "metadata": {
        "colab": {
          "base_uri": "https://localhost:8080/",
          "height": 35
        },
        "id": "wzAepJ9VJMG7",
        "outputId": "75844cf1-e704-42ea-fb05-bc7a6ecb6ee7"
      },
      "source": [
        "stemmer = PorterStemmer()\n",
        "stemmer.stem(\"flying\")"
      ],
      "execution_count": 23,
      "outputs": [
        {
          "output_type": "execute_result",
          "data": {
            "text/plain": [
              "'fli'"
            ],
            "application/vnd.google.colaboratory.intrinsic+json": {
              "type": "string"
            }
          },
          "metadata": {},
          "execution_count": 23
        }
      ]
    },
    {
      "cell_type": "code",
      "metadata": {
        "colab": {
          "base_uri": "https://localhost:8080/"
        },
        "id": "Er980_PYKNId",
        "outputId": "a25cf9ea-2931-47bb-e3ca-9b7c4815f822"
      },
      "source": [
        "print(stemmer.stem(\"pneumonic\"))\n",
        "print(stemmer.stem(\"pneumonitis\"))"
      ],
      "execution_count": 24,
      "outputs": [
        {
          "output_type": "stream",
          "name": "stdout",
          "text": [
            "pneumon\n",
            "pneumon\n"
          ]
        }
      ]
    },
    {
      "cell_type": "markdown",
      "metadata": {
        "id": "cXckjAH3KlxY"
      },
      "source": [
        "For lemmatization demonstration, we will use the NLTK default lemmatizer which is based on [WordNet](https://wordnet.princeton.edu/). In addition to the target text, the [lemmatizer](https://www.nltk.org/_modules/nltk/stem/wordnet.html) will generally require a part of speech parameter to be fully functional (default is noun)"
      ]
    },
    {
      "cell_type": "code",
      "metadata": {
        "colab": {
          "base_uri": "https://localhost:8080/",
          "height": 1000
        },
        "id": "3eSFqvCmJwy1",
        "outputId": "f96afeec-aee8-4b92-94de-d12db6c54a3b"
      },
      "source": [
        "lemmatizer = WordNetLemmatizer()\n",
        "print(lemmatizer.lemmatize(\"flown\",pos=\"v\"))"
      ],
      "execution_count": 25,
      "outputs": [
        {
          "output_type": "error",
          "ename": "LookupError",
          "evalue": "ignored",
          "traceback": [
            "\u001b[0;31m---------------------------------------------------------------------------\u001b[0m",
            "\u001b[0;31mLookupError\u001b[0m                               Traceback (most recent call last)",
            "\u001b[0;32m/usr/local/lib/python3.7/dist-packages/nltk/corpus/util.py\u001b[0m in \u001b[0;36m__load\u001b[0;34m(self)\u001b[0m\n\u001b[1;32m     83\u001b[0m                 \u001b[0;32mtry\u001b[0m\u001b[0;34m:\u001b[0m\u001b[0;34m\u001b[0m\u001b[0;34m\u001b[0m\u001b[0m\n\u001b[0;32m---> 84\u001b[0;31m                     \u001b[0mroot\u001b[0m \u001b[0;34m=\u001b[0m \u001b[0mnltk\u001b[0m\u001b[0;34m.\u001b[0m\u001b[0mdata\u001b[0m\u001b[0;34m.\u001b[0m\u001b[0mfind\u001b[0m\u001b[0;34m(\u001b[0m\u001b[0;34mf\"{self.subdir}/{zip_name}\"\u001b[0m\u001b[0;34m)\u001b[0m\u001b[0;34m\u001b[0m\u001b[0;34m\u001b[0m\u001b[0m\n\u001b[0m\u001b[1;32m     85\u001b[0m                 \u001b[0;32mexcept\u001b[0m \u001b[0mLookupError\u001b[0m\u001b[0;34m:\u001b[0m\u001b[0;34m\u001b[0m\u001b[0;34m\u001b[0m\u001b[0m\n",
            "\u001b[0;32m/usr/local/lib/python3.7/dist-packages/nltk/data.py\u001b[0m in \u001b[0;36mfind\u001b[0;34m(resource_name, paths)\u001b[0m\n\u001b[1;32m    582\u001b[0m     \u001b[0mresource_not_found\u001b[0m \u001b[0;34m=\u001b[0m \u001b[0;34mf\"\\n{sep}\\n{msg}\\n{sep}\\n\"\u001b[0m\u001b[0;34m\u001b[0m\u001b[0;34m\u001b[0m\u001b[0m\n\u001b[0;32m--> 583\u001b[0;31m     \u001b[0;32mraise\u001b[0m \u001b[0mLookupError\u001b[0m\u001b[0;34m(\u001b[0m\u001b[0mresource_not_found\u001b[0m\u001b[0;34m)\u001b[0m\u001b[0;34m\u001b[0m\u001b[0;34m\u001b[0m\u001b[0m\n\u001b[0m\u001b[1;32m    584\u001b[0m \u001b[0;34m\u001b[0m\u001b[0m\n",
            "\u001b[0;31mLookupError\u001b[0m: \n**********************************************************************\n  Resource \u001b[93momw-1.4\u001b[0m not found.\n  Please use the NLTK Downloader to obtain the resource:\n\n  \u001b[31m>>> import nltk\n  >>> nltk.download('omw-1.4')\n  \u001b[0m\n  For more information see: https://www.nltk.org/data.html\n\n  Attempted to load \u001b[93mcorpora/omw-1.4.zip/omw-1.4/\u001b[0m\n\n  Searched in:\n    - '/root/nltk_data'\n    - '/usr/nltk_data'\n    - '/usr/share/nltk_data'\n    - '/usr/lib/nltk_data'\n    - '/usr/share/nltk_data'\n    - '/usr/local/share/nltk_data'\n    - '/usr/lib/nltk_data'\n    - '/usr/local/lib/nltk_data'\n**********************************************************************\n",
            "\nDuring handling of the above exception, another exception occurred:\n",
            "\u001b[0;31mLookupError\u001b[0m                               Traceback (most recent call last)",
            "\u001b[0;32m<ipython-input-25-2be660779195>\u001b[0m in \u001b[0;36m<module>\u001b[0;34m\u001b[0m\n\u001b[1;32m      1\u001b[0m \u001b[0mlemmatizer\u001b[0m \u001b[0;34m=\u001b[0m \u001b[0mWordNetLemmatizer\u001b[0m\u001b[0;34m(\u001b[0m\u001b[0;34m)\u001b[0m\u001b[0;34m\u001b[0m\u001b[0;34m\u001b[0m\u001b[0m\n\u001b[0;32m----> 2\u001b[0;31m \u001b[0mprint\u001b[0m\u001b[0;34m(\u001b[0m\u001b[0mlemmatizer\u001b[0m\u001b[0;34m.\u001b[0m\u001b[0mlemmatize\u001b[0m\u001b[0;34m(\u001b[0m\u001b[0;34m\"flown\"\u001b[0m\u001b[0;34m,\u001b[0m\u001b[0mpos\u001b[0m\u001b[0;34m=\u001b[0m\u001b[0;34m\"v\"\u001b[0m\u001b[0;34m)\u001b[0m\u001b[0;34m)\u001b[0m\u001b[0;34m\u001b[0m\u001b[0;34m\u001b[0m\u001b[0m\n\u001b[0m",
            "\u001b[0;32m/usr/local/lib/python3.7/dist-packages/nltk/stem/wordnet.py\u001b[0m in \u001b[0;36mlemmatize\u001b[0;34m(self, word, pos)\u001b[0m\n\u001b[1;32m     43\u001b[0m         \u001b[0;34m:\u001b[0m\u001b[0;32mreturn\u001b[0m\u001b[0;34m:\u001b[0m \u001b[0mThe\u001b[0m \u001b[0mlemma\u001b[0m \u001b[0mof\u001b[0m\u001b[0;31m \u001b[0m\u001b[0;31m`\u001b[0m\u001b[0mword\u001b[0m\u001b[0;31m`\u001b[0m\u001b[0;34m,\u001b[0m \u001b[0;32mfor\u001b[0m \u001b[0mthe\u001b[0m \u001b[0mgiven\u001b[0m\u001b[0;31m \u001b[0m\u001b[0;31m`\u001b[0m\u001b[0mpos\u001b[0m\u001b[0;31m`\u001b[0m\u001b[0;34m.\u001b[0m\u001b[0;34m\u001b[0m\u001b[0;34m\u001b[0m\u001b[0m\n\u001b[1;32m     44\u001b[0m         \"\"\"\n\u001b[0;32m---> 45\u001b[0;31m         \u001b[0mlemmas\u001b[0m \u001b[0;34m=\u001b[0m \u001b[0mwn\u001b[0m\u001b[0;34m.\u001b[0m\u001b[0m_morphy\u001b[0m\u001b[0;34m(\u001b[0m\u001b[0mword\u001b[0m\u001b[0;34m,\u001b[0m \u001b[0mpos\u001b[0m\u001b[0;34m)\u001b[0m\u001b[0;34m\u001b[0m\u001b[0;34m\u001b[0m\u001b[0m\n\u001b[0m\u001b[1;32m     46\u001b[0m         \u001b[0;32mreturn\u001b[0m \u001b[0mmin\u001b[0m\u001b[0;34m(\u001b[0m\u001b[0mlemmas\u001b[0m\u001b[0;34m,\u001b[0m \u001b[0mkey\u001b[0m\u001b[0;34m=\u001b[0m\u001b[0mlen\u001b[0m\u001b[0;34m)\u001b[0m \u001b[0;32mif\u001b[0m \u001b[0mlemmas\u001b[0m \u001b[0;32melse\u001b[0m \u001b[0mword\u001b[0m\u001b[0;34m\u001b[0m\u001b[0;34m\u001b[0m\u001b[0m\n\u001b[1;32m     47\u001b[0m \u001b[0;34m\u001b[0m\u001b[0m\n",
            "\u001b[0;32m/usr/local/lib/python3.7/dist-packages/nltk/corpus/util.py\u001b[0m in \u001b[0;36m__getattr__\u001b[0;34m(self, attr)\u001b[0m\n\u001b[1;32m    119\u001b[0m             \u001b[0;32mraise\u001b[0m \u001b[0mAttributeError\u001b[0m\u001b[0;34m(\u001b[0m\u001b[0;34m\"LazyCorpusLoader object has no attribute '__bases__'\"\u001b[0m\u001b[0;34m)\u001b[0m\u001b[0;34m\u001b[0m\u001b[0;34m\u001b[0m\u001b[0m\n\u001b[1;32m    120\u001b[0m \u001b[0;34m\u001b[0m\u001b[0m\n\u001b[0;32m--> 121\u001b[0;31m         \u001b[0mself\u001b[0m\u001b[0;34m.\u001b[0m\u001b[0m__load\u001b[0m\u001b[0;34m(\u001b[0m\u001b[0;34m)\u001b[0m\u001b[0;34m\u001b[0m\u001b[0;34m\u001b[0m\u001b[0m\n\u001b[0m\u001b[1;32m    122\u001b[0m         \u001b[0;31m# This looks circular, but its not, since __load() changes our\u001b[0m\u001b[0;34m\u001b[0m\u001b[0;34m\u001b[0m\u001b[0;34m\u001b[0m\u001b[0m\n\u001b[1;32m    123\u001b[0m         \u001b[0;31m# __class__ to something new:\u001b[0m\u001b[0;34m\u001b[0m\u001b[0;34m\u001b[0m\u001b[0;34m\u001b[0m\u001b[0m\n",
            "\u001b[0;32m/usr/local/lib/python3.7/dist-packages/nltk/corpus/util.py\u001b[0m in \u001b[0;36m__load\u001b[0;34m(self)\u001b[0m\n\u001b[1;32m     87\u001b[0m \u001b[0;34m\u001b[0m\u001b[0m\n\u001b[1;32m     88\u001b[0m         \u001b[0;31m# Load the corpus.\u001b[0m\u001b[0;34m\u001b[0m\u001b[0;34m\u001b[0m\u001b[0;34m\u001b[0m\u001b[0m\n\u001b[0;32m---> 89\u001b[0;31m         \u001b[0mcorpus\u001b[0m \u001b[0;34m=\u001b[0m \u001b[0mself\u001b[0m\u001b[0;34m.\u001b[0m\u001b[0m__reader_cls\u001b[0m\u001b[0;34m(\u001b[0m\u001b[0mroot\u001b[0m\u001b[0;34m,\u001b[0m \u001b[0;34m*\u001b[0m\u001b[0mself\u001b[0m\u001b[0;34m.\u001b[0m\u001b[0m__args\u001b[0m\u001b[0;34m,\u001b[0m \u001b[0;34m**\u001b[0m\u001b[0mself\u001b[0m\u001b[0;34m.\u001b[0m\u001b[0m__kwargs\u001b[0m\u001b[0;34m)\u001b[0m\u001b[0;34m\u001b[0m\u001b[0;34m\u001b[0m\u001b[0m\n\u001b[0m\u001b[1;32m     90\u001b[0m \u001b[0;34m\u001b[0m\u001b[0m\n\u001b[1;32m     91\u001b[0m         \u001b[0;31m# This is where the magic happens!  Transform ourselves into\u001b[0m\u001b[0;34m\u001b[0m\u001b[0;34m\u001b[0m\u001b[0;34m\u001b[0m\u001b[0m\n",
            "\u001b[0;32m/usr/local/lib/python3.7/dist-packages/nltk/corpus/reader/wordnet.py\u001b[0m in \u001b[0;36m__init__\u001b[0;34m(self, root, omw_reader)\u001b[0m\n\u001b[1;32m   1174\u001b[0m             )\n\u001b[1;32m   1175\u001b[0m         \u001b[0;32melse\u001b[0m\u001b[0;34m:\u001b[0m\u001b[0;34m\u001b[0m\u001b[0;34m\u001b[0m\u001b[0m\n\u001b[0;32m-> 1176\u001b[0;31m             \u001b[0mself\u001b[0m\u001b[0;34m.\u001b[0m\u001b[0mprovenances\u001b[0m \u001b[0;34m=\u001b[0m \u001b[0mself\u001b[0m\u001b[0;34m.\u001b[0m\u001b[0momw_prov\u001b[0m\u001b[0;34m(\u001b[0m\u001b[0;34m)\u001b[0m\u001b[0;34m\u001b[0m\u001b[0;34m\u001b[0m\u001b[0m\n\u001b[0m\u001b[1;32m   1177\u001b[0m \u001b[0;34m\u001b[0m\u001b[0m\n\u001b[1;32m   1178\u001b[0m         \u001b[0;31m# A cache to store the wordnet data of multiple languages\u001b[0m\u001b[0;34m\u001b[0m\u001b[0;34m\u001b[0m\u001b[0;34m\u001b[0m\u001b[0m\n",
            "\u001b[0;32m/usr/local/lib/python3.7/dist-packages/nltk/corpus/reader/wordnet.py\u001b[0m in \u001b[0;36momw_prov\u001b[0;34m(self)\u001b[0m\n\u001b[1;32m   1283\u001b[0m         \u001b[0mprovdict\u001b[0m \u001b[0;34m=\u001b[0m \u001b[0;34m{\u001b[0m\u001b[0;34m}\u001b[0m\u001b[0;34m\u001b[0m\u001b[0;34m\u001b[0m\u001b[0m\n\u001b[1;32m   1284\u001b[0m         \u001b[0mprovdict\u001b[0m\u001b[0;34m[\u001b[0m\u001b[0;34m\"eng\"\u001b[0m\u001b[0;34m]\u001b[0m \u001b[0;34m=\u001b[0m \u001b[0;34m\"\"\u001b[0m\u001b[0;34m\u001b[0m\u001b[0;34m\u001b[0m\u001b[0m\n\u001b[0;32m-> 1285\u001b[0;31m         \u001b[0mfileids\u001b[0m \u001b[0;34m=\u001b[0m \u001b[0mself\u001b[0m\u001b[0;34m.\u001b[0m\u001b[0m_omw_reader\u001b[0m\u001b[0;34m.\u001b[0m\u001b[0mfileids\u001b[0m\u001b[0;34m(\u001b[0m\u001b[0;34m)\u001b[0m\u001b[0;34m\u001b[0m\u001b[0;34m\u001b[0m\u001b[0m\n\u001b[0m\u001b[1;32m   1286\u001b[0m         \u001b[0;32mfor\u001b[0m \u001b[0mfileid\u001b[0m \u001b[0;32min\u001b[0m \u001b[0mfileids\u001b[0m\u001b[0;34m:\u001b[0m\u001b[0;34m\u001b[0m\u001b[0;34m\u001b[0m\u001b[0m\n\u001b[1;32m   1287\u001b[0m             \u001b[0mprov\u001b[0m\u001b[0;34m,\u001b[0m \u001b[0mlangfile\u001b[0m \u001b[0;34m=\u001b[0m \u001b[0mos\u001b[0m\u001b[0;34m.\u001b[0m\u001b[0mpath\u001b[0m\u001b[0;34m.\u001b[0m\u001b[0msplit\u001b[0m\u001b[0;34m(\u001b[0m\u001b[0mfileid\u001b[0m\u001b[0;34m)\u001b[0m\u001b[0;34m\u001b[0m\u001b[0;34m\u001b[0m\u001b[0m\n",
            "\u001b[0;32m/usr/local/lib/python3.7/dist-packages/nltk/corpus/util.py\u001b[0m in \u001b[0;36m__getattr__\u001b[0;34m(self, attr)\u001b[0m\n\u001b[1;32m    119\u001b[0m             \u001b[0;32mraise\u001b[0m \u001b[0mAttributeError\u001b[0m\u001b[0;34m(\u001b[0m\u001b[0;34m\"LazyCorpusLoader object has no attribute '__bases__'\"\u001b[0m\u001b[0;34m)\u001b[0m\u001b[0;34m\u001b[0m\u001b[0;34m\u001b[0m\u001b[0m\n\u001b[1;32m    120\u001b[0m \u001b[0;34m\u001b[0m\u001b[0m\n\u001b[0;32m--> 121\u001b[0;31m         \u001b[0mself\u001b[0m\u001b[0;34m.\u001b[0m\u001b[0m__load\u001b[0m\u001b[0;34m(\u001b[0m\u001b[0;34m)\u001b[0m\u001b[0;34m\u001b[0m\u001b[0;34m\u001b[0m\u001b[0m\n\u001b[0m\u001b[1;32m    122\u001b[0m         \u001b[0;31m# This looks circular, but its not, since __load() changes our\u001b[0m\u001b[0;34m\u001b[0m\u001b[0;34m\u001b[0m\u001b[0;34m\u001b[0m\u001b[0m\n\u001b[1;32m    123\u001b[0m         \u001b[0;31m# __class__ to something new:\u001b[0m\u001b[0;34m\u001b[0m\u001b[0;34m\u001b[0m\u001b[0;34m\u001b[0m\u001b[0m\n",
            "\u001b[0;32m/usr/local/lib/python3.7/dist-packages/nltk/corpus/util.py\u001b[0m in \u001b[0;36m__load\u001b[0;34m(self)\u001b[0m\n\u001b[1;32m     84\u001b[0m                     \u001b[0mroot\u001b[0m \u001b[0;34m=\u001b[0m \u001b[0mnltk\u001b[0m\u001b[0;34m.\u001b[0m\u001b[0mdata\u001b[0m\u001b[0;34m.\u001b[0m\u001b[0mfind\u001b[0m\u001b[0;34m(\u001b[0m\u001b[0;34mf\"{self.subdir}/{zip_name}\"\u001b[0m\u001b[0;34m)\u001b[0m\u001b[0;34m\u001b[0m\u001b[0;34m\u001b[0m\u001b[0m\n\u001b[1;32m     85\u001b[0m                 \u001b[0;32mexcept\u001b[0m \u001b[0mLookupError\u001b[0m\u001b[0;34m:\u001b[0m\u001b[0;34m\u001b[0m\u001b[0;34m\u001b[0m\u001b[0m\n\u001b[0;32m---> 86\u001b[0;31m                     \u001b[0;32mraise\u001b[0m \u001b[0me\u001b[0m\u001b[0;34m\u001b[0m\u001b[0;34m\u001b[0m\u001b[0m\n\u001b[0m\u001b[1;32m     87\u001b[0m \u001b[0;34m\u001b[0m\u001b[0m\n\u001b[1;32m     88\u001b[0m         \u001b[0;31m# Load the corpus.\u001b[0m\u001b[0;34m\u001b[0m\u001b[0;34m\u001b[0m\u001b[0;34m\u001b[0m\u001b[0m\n",
            "\u001b[0;32m/usr/local/lib/python3.7/dist-packages/nltk/corpus/util.py\u001b[0m in \u001b[0;36m__load\u001b[0;34m(self)\u001b[0m\n\u001b[1;32m     79\u001b[0m         \u001b[0;32melse\u001b[0m\u001b[0;34m:\u001b[0m\u001b[0;34m\u001b[0m\u001b[0;34m\u001b[0m\u001b[0m\n\u001b[1;32m     80\u001b[0m             \u001b[0;32mtry\u001b[0m\u001b[0;34m:\u001b[0m\u001b[0;34m\u001b[0m\u001b[0;34m\u001b[0m\u001b[0m\n\u001b[0;32m---> 81\u001b[0;31m                 \u001b[0mroot\u001b[0m \u001b[0;34m=\u001b[0m \u001b[0mnltk\u001b[0m\u001b[0;34m.\u001b[0m\u001b[0mdata\u001b[0m\u001b[0;34m.\u001b[0m\u001b[0mfind\u001b[0m\u001b[0;34m(\u001b[0m\u001b[0;34mf\"{self.subdir}/{self.__name}\"\u001b[0m\u001b[0;34m)\u001b[0m\u001b[0;34m\u001b[0m\u001b[0;34m\u001b[0m\u001b[0m\n\u001b[0m\u001b[1;32m     82\u001b[0m             \u001b[0;32mexcept\u001b[0m \u001b[0mLookupError\u001b[0m \u001b[0;32mas\u001b[0m \u001b[0me\u001b[0m\u001b[0;34m:\u001b[0m\u001b[0;34m\u001b[0m\u001b[0;34m\u001b[0m\u001b[0m\n\u001b[1;32m     83\u001b[0m                 \u001b[0;32mtry\u001b[0m\u001b[0;34m:\u001b[0m\u001b[0;34m\u001b[0m\u001b[0;34m\u001b[0m\u001b[0m\n",
            "\u001b[0;32m/usr/local/lib/python3.7/dist-packages/nltk/data.py\u001b[0m in \u001b[0;36mfind\u001b[0;34m(resource_name, paths)\u001b[0m\n\u001b[1;32m    581\u001b[0m     \u001b[0msep\u001b[0m \u001b[0;34m=\u001b[0m \u001b[0;34m\"*\"\u001b[0m \u001b[0;34m*\u001b[0m \u001b[0;36m70\u001b[0m\u001b[0;34m\u001b[0m\u001b[0;34m\u001b[0m\u001b[0m\n\u001b[1;32m    582\u001b[0m     \u001b[0mresource_not_found\u001b[0m \u001b[0;34m=\u001b[0m \u001b[0;34mf\"\\n{sep}\\n{msg}\\n{sep}\\n\"\u001b[0m\u001b[0;34m\u001b[0m\u001b[0;34m\u001b[0m\u001b[0m\n\u001b[0;32m--> 583\u001b[0;31m     \u001b[0;32mraise\u001b[0m \u001b[0mLookupError\u001b[0m\u001b[0;34m(\u001b[0m\u001b[0mresource_not_found\u001b[0m\u001b[0;34m)\u001b[0m\u001b[0;34m\u001b[0m\u001b[0;34m\u001b[0m\u001b[0m\n\u001b[0m\u001b[1;32m    584\u001b[0m \u001b[0;34m\u001b[0m\u001b[0m\n\u001b[1;32m    585\u001b[0m \u001b[0;34m\u001b[0m\u001b[0m\n",
            "\u001b[0;31mLookupError\u001b[0m: \n**********************************************************************\n  Resource \u001b[93momw-1.4\u001b[0m not found.\n  Please use the NLTK Downloader to obtain the resource:\n\n  \u001b[31m>>> import nltk\n  >>> nltk.download('omw-1.4')\n  \u001b[0m\n  For more information see: https://www.nltk.org/data.html\n\n  Attempted to load \u001b[93mcorpora/omw-1.4\u001b[0m\n\n  Searched in:\n    - '/root/nltk_data'\n    - '/usr/nltk_data'\n    - '/usr/share/nltk_data'\n    - '/usr/lib/nltk_data'\n    - '/usr/share/nltk_data'\n    - '/usr/local/share/nltk_data'\n    - '/usr/lib/nltk_data'\n    - '/usr/local/lib/nltk_data'\n**********************************************************************\n"
          ]
        }
      ]
    },
    {
      "cell_type": "markdown",
      "metadata": {
        "id": "3y_nsmWpHeas"
      },
      "source": [
        "## Negation"
      ]
    },
    {
      "cell_type": "markdown",
      "metadata": {
        "id": "LhvODUGKYSa3"
      },
      "source": [
        "Dealing with negation is important especially when using a bag of word model because it ignores word ordering. The presence of a word in a document does not mean we necessarily want it to always be used as the same feature especially if the word is qualified by \"no\" (e.g. no nodule). One way to deal with this is to detect such negated words/phrases and create \"new\" vocab words out of negated entities by appending some text to it (for example append \"NEGEX_\" to negated entities so that these entities are counted as separated words compared to their non-negated counterpart)\n",
        "\n",
        "spacy comes with pre-trained [models](https://github.com/explosion/spacy-models) for purposes of preprocessing (e.g. named entity recognition) and also [negation](https://github.com/jenojp/negspacy). Here we will use a default implementation of negspacy for negation detection."
      ]
    },
    {
      "cell_type": "code",
      "metadata": {
        "id": "y_WKbR3ywkXO",
        "colab": {
          "base_uri": "https://localhost:8080/"
        },
        "outputId": "79281f62-50a5-438f-f50e-685d1424ff40"
      },
      "source": [
        "import scispacy\n",
        "import spacy\n",
        "from negspacy.negation import Negex\n",
        "import nltk\n",
        "nltk.download('stopwords')\n",
        "nltk.download('punkt')\n",
        "import string\n",
        "\n",
        "nlp = spacy.load(\"en_core_sci_md\")\n",
        "nlp.add_pipe(\"negex\")"
      ],
      "execution_count": 26,
      "outputs": [
        {
          "output_type": "stream",
          "name": "stderr",
          "text": [
            "[nltk_data] Downloading package stopwords to /root/nltk_data...\n",
            "[nltk_data]   Package stopwords is already up-to-date!\n",
            "[nltk_data] Downloading package punkt to /root/nltk_data...\n",
            "[nltk_data]   Package punkt is already up-to-date!\n"
          ]
        },
        {
          "output_type": "execute_result",
          "data": {
            "text/plain": [
              "<negspacy.negation.Negex at 0x7f0fafb82e10>"
            ]
          },
          "metadata": {},
          "execution_count": 26
        }
      ]
    },
    {
      "cell_type": "markdown",
      "metadata": {
        "id": "kIuHzg8sstac"
      },
      "source": [
        "What kind of phrases is negex recognizing as negation? We can print the default patterns from negspaCy to see. The \"en_clinical\" dataset is used by default. Default termsets also include \"en\" and \"en_clinical_sensitive\". The official documentation covers how to change term sets and also how to add/remove custom phrases to the sets.\n",
        "\n",
        "From the documentation, negspaCy uses four patterns:\n",
        "\n",
        "**pseudo_negations** - phrases that are false triggers, ambiguous negations, or double negatives\n",
        "\n",
        "**preceding_negations** - negation phrases that precede an entity\n",
        "\n",
        "**following_negations** - negation phrases that follow an entity\n",
        "\n",
        "**termination** - phrases that cut a sentence in parts, for purposes of negation detection (.e.g., \"but\")"
      ]
    },
    {
      "cell_type": "code",
      "metadata": {
        "colab": {
          "base_uri": "https://localhost:8080/"
        },
        "id": "zl3g4Djkr2Be",
        "outputId": "f0d81a9c-8b5d-4855-8fa5-fb588d7a5048"
      },
      "source": [
        "from negspacy.termsets import termset\n",
        "\n",
        "ts = termset(\"en_clinical\")\n",
        "ts_dict = ts.get_patterns()\n",
        "\n",
        "for key,value in ts_dict.items():\n",
        "  print(key,value)\n",
        "  print(\"\\n\")"
      ],
      "execution_count": 27,
      "outputs": [
        {
          "output_type": "stream",
          "name": "stdout",
          "text": [
            "pseudo_negations ['no further', 'not able to be', 'not certain if', 'not certain whether', 'not necessarily', 'without any further', 'without difficulty', 'without further', 'might not', 'not only', 'no increase', 'no significant change', 'no change', 'no definite change', 'not extend', 'not cause', 'gram negative', 'not rule out', 'not ruled out', 'not been ruled out', 'not drain', 'no suspicious change', 'no interval change', 'no significant interval change']\n",
            "\n",
            "\n",
            "preceding_negations ['absence of', 'declined', 'denied', 'denies', 'denying', 'no sign of', 'no signs of', 'not', 'not demonstrate', 'symptoms atypical', 'doubt', 'negative for', 'no', 'versus', 'without', \"doesn't\", 'doesnt', \"don't\", 'dont', \"didn't\", 'didnt', \"wasn't\", 'wasnt', \"weren't\", 'werent', \"isn't\", 'isnt', \"aren't\", 'arent', 'cannot', \"can't\", 'cant', \"couldn't\", 'couldnt', 'never', 'patient was not', 'without indication of', 'without sign of', 'without signs of', 'without any reactions or signs of', 'no complaints of', 'no evidence of', 'no cause of', 'evaluate for', 'fails to reveal', 'free of', 'never developed', 'never had', 'did not exhibit', 'rules out', 'rule out', 'rule him out', 'rule her out', 'rule patient out', 'rule the patient out', 'ruled out', 'ruled him out', 'ruled her out', 'ruled patient out', 'ruled the patient out', 'r/o', 'ro']\n",
            "\n",
            "\n",
            "following_negations ['declined', 'unlikely', 'was not', 'were not', \"wasn't\", 'wasnt', \"weren't\", 'werent', 'was ruled out', 'were ruled out', 'free']\n",
            "\n",
            "\n",
            "termination ['although', 'apart from', 'as there are', 'aside from', 'but', 'except', 'however', 'involving', 'nevertheless', 'still', 'though', 'which', 'yet', 'cause for', 'cause of', 'causes for', 'causes of', 'etiology for', 'etiology of', 'origin for', 'origin of', 'origins for', 'origins of', 'other possibilities of', 'reason for', 'reason of', 'reasons for', 'reasons of', 'secondary to', 'source for', 'source of', 'sources for', 'sources of', 'trigger event for']\n",
            "\n",
            "\n"
          ]
        }
      ]
    },
    {
      "cell_type": "markdown",
      "metadata": {
        "id": "AqDHio7AFHw9"
      },
      "source": [
        "## Putting it all together"
      ]
    },
    {
      "cell_type": "code",
      "metadata": {
        "id": "0OH7aKTxmylY"
      },
      "source": [
        "from nltk.corpus import stopwords\n",
        "\n",
        "def preprocess(nlp_model,input_text):\n",
        "  input_text = input_text.strip()\n",
        "  doc = nlp_model(input_text)\n",
        "  negation_list = [0]*len(doc)\n",
        "  tokens = list()\n",
        "  stop = set(stopwords.words('english')+list(string.punctuation))\n",
        "  stop.add(\"XXXX\")\n",
        "\n",
        "  for ent in doc.ents:\n",
        "    if ent._.negex:\n",
        "      index = ent.start\n",
        "      while index < ent.end:\n",
        "        negation_list[index] = 1\n",
        "        index += 1\n",
        "        \n",
        "  for i,token in enumerate(doc):\n",
        "    if str(token).lower() not in stop:\n",
        "      if negation_list[i] == 1:\n",
        "        tokens.append((\"NEGEX_\"+str(token).lower()))\n",
        "      else:\n",
        "        tokens.append(str(token).lower())\n",
        "\n",
        "  return tokens\n"
      ],
      "execution_count": 28,
      "outputs": []
    },
    {
      "cell_type": "markdown",
      "metadata": {
        "id": "bggt3sfZeYJg"
      },
      "source": [
        "## Creating a vocabulary\n",
        "After preprocessing the text, it is time to scan through the entire training corpus (aka all of the text available) and create a vocabulary which is essentially an index of all tokens encountered.\n",
        "\n",
        "We will use the gensim [Dictionary](https://radimrehurek.com/gensim/corpora/dictionary.html) class for this as it has some useful methods.\n",
        "\n",
        "We can also set a threshold to filter out tokens using the gensim dict method filter_extremes() that occur below a specified frequency. This could be useful for removing misspelled words."
      ]
    },
    {
      "cell_type": "code",
      "metadata": {
        "id": "2LqwYpEjXDjs",
        "colab": {
          "base_uri": "https://localhost:8080/",
          "height": 35
        },
        "outputId": "29a14f63-4432-41d5-9b76-d15194d1e5d4"
      },
      "source": [
        "from gensim.corpora import Dictionary\n",
        "\n",
        "train_text = train_df[\"full-text\"].to_list()\n",
        "\n",
        "def token_generator(text_list):\n",
        "  for text in text_list:\n",
        "    yield preprocess(nlp,text)\n",
        "\n",
        "train_tokens = token_generator(train_text)\n",
        "train_vocab_dict = Dictionary(train_tokens)\n",
        "\n",
        "# gensim Dictionary does not create an id2token dictionary  until dictionary is called\n",
        "train_vocab_dict[0]"
      ],
      "execution_count": 29,
      "outputs": [
        {
          "output_type": "execute_result",
          "data": {
            "text/plain": [
              "'NEGEX_abnormalities'"
            ],
            "application/vnd.google.colaboratory.intrinsic+json": {
              "type": "string"
            }
          },
          "metadata": {},
          "execution_count": 29
        }
      ]
    },
    {
      "cell_type": "code",
      "metadata": {
        "colab": {
          "base_uri": "https://localhost:8080/"
        },
        "id": "SKHBh7yKcw0N",
        "outputId": "15087c0e-5d6f-42dc-c14e-86fdf2fa4658"
      },
      "source": [
        "len(train_vocab_dict.token2id)"
      ],
      "execution_count": 30,
      "outputs": [
        {
          "output_type": "execute_result",
          "data": {
            "text/plain": [
              "2339"
            ]
          },
          "metadata": {},
          "execution_count": 30
        }
      ]
    },
    {
      "cell_type": "markdown",
      "metadata": {
        "id": "V2tEqwONfclV"
      },
      "source": [
        "We will also need to process the test set for later use. Note we don't create a dictionary from the test tokens as it is may contain \"out of vocabulary words\" that would not have been seen in training. We need to simulate how our model pipeline behaves when it encounters unseen text/words."
      ]
    },
    {
      "cell_type": "code",
      "metadata": {
        "id": "0FSV_cs2fU9d"
      },
      "source": [
        "test_text = test_df[\"full-text\"].to_list()\n",
        "test_tokens = token_generator(test_text)"
      ],
      "execution_count": 31,
      "outputs": []
    },
    {
      "cell_type": "markdown",
      "metadata": {
        "id": "Nx0MthQ91wAh"
      },
      "source": [
        "# Classification model - introducing Naive Bayes"
      ]
    },
    {
      "cell_type": "markdown",
      "metadata": {
        "id": "ZS3gRR_Y2Cd8"
      },
      "source": [
        "## Theory"
      ]
    },
    {
      "cell_type": "markdown",
      "metadata": {
        "id": "V_zv9jPL3SW7"
      },
      "source": [
        "Naive Bayes (NB) derives its name from Bayes' theorem.\n",
        "\n",
        "Our objective is to classifiy a document d with the best possible class prediction, $\\hat{c}$, where $c$ is the true class of document $d$\n",
        "\n",
        "$ \\hat{c} = \\underset{c \\in C}{argmax} \\: P(c|d) = \\underset{c \\in C}{argmax} \\frac{P(d|c)P(c)}{P(d)} $\n",
        "\n",
        "$P(d)$ is a constant so we can just find the class c that maximizes the numerator of the expression\n",
        "\n",
        "$ \\hat{c} = \\underset{c \\in C}{argmax} \\: P(d|c)P(c) $\n",
        "\n",
        "$P(c)$ is readily determined - it is the frequency of class c in the training set.\n",
        "\n",
        "For $P(d|c)$, we let the words (tokens) of document d be the features that define it. We assume the order of these features does not matter (bag of words) and that the probability of a feature occurring in document d is independent of other words already inside of document d (conditional independence between every pair of tokens).\n",
        "\n",
        "Based on this $P(d|c) = P(x_{1}, x_{2},...,x_{n}| c)$ where $x_i$ are the tokens x in d. If we assume independence among these words then this probability further breaks down into:\n",
        "\n",
        "$\\prod_{i = 1}^{n}{P(x_{i}|c)}$\n",
        "\n",
        "The different variations of Naive Bayes come from the different assumptions of what we assume the probability distribution of $P(x_{i}|c)$ looks like. \n",
        "\n",
        "If we assume a multinomial distribution, then we can estimate the probability $P(x_{i}|c)$ as $\\theta_{c,i}$ where the maximum likelihood estimator for theta for a multinomial is:\n",
        "\n",
        "$\\theta_{c,i} = \\frac{N_{c,i}}{N_{c}}$\n",
        "\n",
        "where $N_{c,i}$ is the total count of the token i occurring in class c and $N_{c}$ is the number of total tokens in class c. In practice, we use an additional smoothing term to this estimator by giving an extra count of $\\alpha$ to all words. This is to account for cases in which a token does not appear in class c to avoid a 0 in our product.\n",
        "\n",
        "$\\theta_{c,i} = \\frac{N_{c,i}+\\alpha}{N_{c}+\\alpha n}$ where n is the number of unique tokens\n",
        "\n",
        "See [here](https://scikit-learn.org/stable/modules/naive_bayes.html) for more information"
      ]
    },
    {
      "cell_type": "markdown",
      "metadata": {
        "id": "STdw1x_E16bC"
      },
      "source": [
        "## Code"
      ]
    },
    {
      "cell_type": "code",
      "metadata": {
        "id": "zW90rq3WeHj5"
      },
      "source": [
        "y_train = list(map(int,(train_df['label'] != \"normal\").to_list()))\n",
        "y_test = list(map(int,(test_df['label'] != \"normal\").to_list()))"
      ],
      "execution_count": 32,
      "outputs": []
    },
    {
      "cell_type": "markdown",
      "metadata": {
        "id": "C2QWpczbsgpU"
      },
      "source": [
        "The sklearn naive bayes implementation does not take compressed representations of a sparse matrix as input, so we will have to create a sparse vector representation of our bag of words format"
      ]
    },
    {
      "cell_type": "code",
      "metadata": {
        "id": "zQ0q-IfaesbM"
      },
      "source": [
        "def sparse_vector_create(tuple_list,vocab_len):\n",
        "#tuple_list will have data structure akin to gensim dictionary doc2bow output \n",
        "  sparse_vector = np.zeros(vocab_len)\n",
        "  for id,freq in tuple_list:\n",
        "    sparse_vector[id] = freq\n",
        "  return sparse_vector\n",
        "\n",
        "def sparse_vector_generator(tokens,vocab_dict,vocab_len):\n",
        "  for token in tokens:\n",
        "    yield sparse_vector_create(vocab_dict.doc2bow(token),vocab_len)\n",
        "\n",
        "# recreate generator object to reset it , otherwise will output empty result\n",
        "train_tokens = token_generator(train_text)\n",
        "x_train_sparse = [sparse_vector for sparse_vector in sparse_vector_generator(train_tokens,train_vocab_dict,len(train_vocab_dict))]\n"
      ],
      "execution_count": 33,
      "outputs": []
    },
    {
      "cell_type": "code",
      "metadata": {
        "colab": {
          "base_uri": "https://localhost:8080/"
        },
        "id": "R2wfh_v1dxA_",
        "outputId": "0efb4453-501d-402f-cb80-317849796034"
      },
      "source": [
        "from sklearn import naive_bayes\n",
        "\n",
        "nb_classifier = naive_bayes.MultinomialNB(alpha=1.0)\n",
        "\n",
        "nb_classifier.fit(x_train_sparse,y_train)"
      ],
      "execution_count": 34,
      "outputs": [
        {
          "output_type": "execute_result",
          "data": {
            "text/plain": [
              "MultinomialNB()"
            ]
          },
          "metadata": {},
          "execution_count": 34
        }
      ]
    },
    {
      "cell_type": "markdown",
      "metadata": {
        "id": "1rYR3aLUs0Vk"
      },
      "source": [
        "Let's try running our model on the test set. The test set may have words that are not included in the training vocabulary, so we will need 1 additional preprocessing step to handle such out-of-vocabulary words. The simplest approach is to simply ignore such words. The gensim dictionary doc2bow function automatically ignores out of vocabulary words.\n",
        "\n",
        "Other tokenization techniques (especially sub-word or character level) may avoid this issue all together by ensuring any string of text encontered is able to be tokenized and thus included into the vocabulary."
      ]
    },
    {
      "cell_type": "code",
      "metadata": {
        "colab": {
          "base_uri": "https://localhost:8080/"
        },
        "id": "tL5JHCiVh8E_",
        "outputId": "021615c9-ea76-436d-f688-b7da15f368cc"
      },
      "source": [
        "# doc2bow ignores out of vocabulary words\n",
        "train_vocab_dict.doc2bow([\"madeupword\"])"
      ],
      "execution_count": 35,
      "outputs": [
        {
          "output_type": "execute_result",
          "data": {
            "text/plain": [
              "[]"
            ]
          },
          "metadata": {},
          "execution_count": 35
        }
      ]
    },
    {
      "cell_type": "code",
      "metadata": {
        "id": "ZUywn0YpszSh"
      },
      "source": [
        "# basically the same code as the training version above but we're not storing each iteration of the for loop into an array\n",
        "\n",
        "test_tokens = token_generator(test_text)\n",
        "nb_predictions = list()\n",
        "\n",
        "for token in test_tokens:\n",
        "  test_sparse_vector = sparse_vector_create(train_vocab_dict.doc2bow(token),len(train_vocab_dict))\n",
        "  nb_predictions.append(nb_classifier.predict(test_sparse_vector.reshape(1,-1))[0])\n",
        " "
      ],
      "execution_count": 36,
      "outputs": []
    },
    {
      "cell_type": "markdown",
      "metadata": {
        "id": "J16it1OP_ydm"
      },
      "source": [
        "\\# More on sparse word vectors - term frequency inverse document frequency (tf-idf)"
      ]
    },
    {
      "cell_type": "markdown",
      "metadata": {
        "id": "JfjWcj7SAnJR"
      },
      "source": [
        "## Theory"
      ]
    },
    {
      "cell_type": "markdown",
      "metadata": {
        "id": "tn0jAUfHW5ZU"
      },
      "source": [
        "### tfidf\n",
        "\n",
        "Earlier we created vectors of raw term counts with respect to each document. These were called sparse vectors because they were largely 0 as many unique words tend to not show up in may documents and thus the counts of those words was 0 for most documents - represented as a 0 in the term vector in the corresponding index for that word.\n",
        "\n",
        "There is a related concept called term frequency-inverse document frequency. We start with related quantity to term count: the term frequency. For a given document d and term t, the term frequency(tf) is is $\\frac{f_{t,d}}{\\sum_{t' \\in d}{f_{t',d}}}$ where the denominator is just the number of words/terms in the document. Sometimes we prefer using the log of the tf term as importance of a term does not increase linearly but rather \"peaks\" after a certain point.\n",
        "\n",
        "We then multiply this \"tf\" by another term - the inverse document frequency (idf) which is usually $log{\\frac{N}{n_t}}$ where N is number of total documents and $n_t$ is number of documents that contain the term t.\n",
        "\n",
        "For an unseen document, the tf is readily calculated. The idf for the terms in the document however uses the weighting learned from the training data.\n",
        "\n",
        "More on sklearn [tfidf](https://scikit-learn.org/stable/modules/generated/sklearn.feature_extraction.text.TfidfTransformer.html)"
      ]
    },
    {
      "cell_type": "markdown",
      "metadata": {
        "id": "NmC0HOIUeHL8"
      },
      "source": [
        "### Support Vector Machine (SVM)\n",
        "\n"
      ]
    },
    {
      "cell_type": "markdown",
      "metadata": {
        "id": "SAcgfh9Dcqjk"
      },
      "source": [
        "The theory behind SVM is outside of the scope of this tutorial. However intuitively SVM classifiers classify data by finding a \"hyper-plane\" that separates two classes of data. One can think of a hyper plane as the multidimensional generalization of a line which the equivalent of a hyperplane for 2D space, or a plane which is the hyperplane for 3D space. The hyperplane is basically a linear \"plane\" in N dimensional space that separates the space into two sections (hence the plane being N-1 dimensional). The optimization objective for SVM is set such that it will choose a hyperplane by finding the plane that has the maximum \"margin\" between the two classes i.e. the largest distance between the plane and the closest data point of each class."
      ]
    },
    {
      "cell_type": "markdown",
      "metadata": {
        "id": "ECqSWs6q_0oV"
      },
      "source": [
        "## Code"
      ]
    },
    {
      "cell_type": "markdown",
      "metadata": {
        "id": "LJkXCj8t52UZ"
      },
      "source": [
        "The sklearn library readily comes with implementation of [tfidf](https://scikit-learn.org/stable/modules/generated/sklearn.feature_extraction.text.TfidfTransformer.html) and [SVM](https://scikit-learn.org/stable/modules/generated/sklearn.svm.SVC.html) which we will use here."
      ]
    },
    {
      "cell_type": "code",
      "metadata": {
        "id": "QgD87-CM7TQ9"
      },
      "source": [
        "from sklearn.feature_extraction.text import TfidfTransformer\n",
        "tfidf = TfidfTransformer(use_idf=True, smooth_idf = True,sublinear_tf = True)\n",
        "tfidf.fit(x_train_sparse)\n",
        "x_train_tfidf = tfidf.transform(x_train_sparse)"
      ],
      "execution_count": 37,
      "outputs": []
    },
    {
      "cell_type": "code",
      "source": [
        "print(sum(y_train))"
      ],
      "metadata": {
        "colab": {
          "base_uri": "https://localhost:8080/"
        },
        "id": "gmemzruMih41",
        "outputId": "56b4cf65-652b-46d9-8e0d-e75ee30b20fb"
      },
      "execution_count": 38,
      "outputs": [
        {
          "output_type": "stream",
          "name": "stdout",
          "text": [
            "2098\n"
          ]
        }
      ]
    },
    {
      "cell_type": "code",
      "source": [
        "!pip install nlpaug"
      ],
      "metadata": {
        "colab": {
          "base_uri": "https://localhost:8080/"
        },
        "id": "UBmgN4oQCQZC",
        "outputId": "1b06d08f-756f-4925-ce87-0a7137a96f8f"
      },
      "execution_count": 39,
      "outputs": [
        {
          "output_type": "stream",
          "name": "stdout",
          "text": [
            "Looking in indexes: https://pypi.org/simple, https://us-python.pkg.dev/colab-wheels/public/simple/\n",
            "Collecting nlpaug\n",
            "  Downloading nlpaug-1.1.11-py3-none-any.whl (410 kB)\n",
            "\u001b[K     |████████████████████████████████| 410 kB 18.0 MB/s \n",
            "\u001b[?25hRequirement already satisfied: numpy>=1.16.2 in /usr/local/lib/python3.7/dist-packages (from nlpaug) (1.21.6)\n",
            "Requirement already satisfied: gdown>=4.0.0 in /usr/local/lib/python3.7/dist-packages (from nlpaug) (4.4.0)\n",
            "Requirement already satisfied: pandas>=1.2.0 in /usr/local/lib/python3.7/dist-packages (from nlpaug) (1.3.5)\n",
            "Requirement already satisfied: requests>=2.22.0 in /usr/local/lib/python3.7/dist-packages (from nlpaug) (2.23.0)\n",
            "Requirement already satisfied: six in /usr/local/lib/python3.7/dist-packages (from gdown>=4.0.0->nlpaug) (1.15.0)\n",
            "Requirement already satisfied: beautifulsoup4 in /usr/local/lib/python3.7/dist-packages (from gdown>=4.0.0->nlpaug) (4.6.3)\n",
            "Requirement already satisfied: tqdm in /usr/local/lib/python3.7/dist-packages (from gdown>=4.0.0->nlpaug) (4.64.1)\n",
            "Requirement already satisfied: filelock in /usr/local/lib/python3.7/dist-packages (from gdown>=4.0.0->nlpaug) (3.8.0)\n",
            "Requirement already satisfied: python-dateutil>=2.7.3 in /usr/local/lib/python3.7/dist-packages (from pandas>=1.2.0->nlpaug) (2.8.2)\n",
            "Requirement already satisfied: pytz>=2017.3 in /usr/local/lib/python3.7/dist-packages (from pandas>=1.2.0->nlpaug) (2022.6)\n",
            "Requirement already satisfied: certifi>=2017.4.17 in /usr/local/lib/python3.7/dist-packages (from requests>=2.22.0->nlpaug) (2022.9.24)\n",
            "Requirement already satisfied: chardet<4,>=3.0.2 in /usr/local/lib/python3.7/dist-packages (from requests>=2.22.0->nlpaug) (3.0.4)\n",
            "Requirement already satisfied: urllib3!=1.25.0,!=1.25.1,<1.26,>=1.21.1 in /usr/local/lib/python3.7/dist-packages (from requests>=2.22.0->nlpaug) (1.24.3)\n",
            "Requirement already satisfied: idna<3,>=2.5 in /usr/local/lib/python3.7/dist-packages (from requests>=2.22.0->nlpaug) (2.10)\n",
            "Requirement already satisfied: PySocks!=1.5.7,>=1.5.6 in /usr/local/lib/python3.7/dist-packages (from requests>=2.22.0->nlpaug) (1.7.1)\n",
            "Installing collected packages: nlpaug\n",
            "Successfully installed nlpaug-1.1.11\n"
          ]
        }
      ]
    },
    {
      "cell_type": "code",
      "source": [
        "import nlpaug.augmenter.word as naw\n",
        "\n",
        "#Data Augmentation: \n",
        "#Approach #1: Trimming out Abnormal Cases\n",
        "indices_1 = []\n",
        "abnormal = 1263\n",
        "normal = 1263\n",
        "for i in range(3361):\n",
        "  if y_train[i] == 1 and abnormal >= 1:\n",
        "    #Abnormal\n",
        "    abnormal -= 1\n",
        "    indices_1.append(i)\n",
        "  elif y_train[i] == 0 and normal >= 1:\n",
        "    normal -= 1\n",
        "    indices_1.append(i)\n",
        "\n",
        "x_train_tfidf_1 = x_train_tfidf[indices_1, :]\n",
        "y_train_1 = [y_train[i] for i in indices_1]\n",
        "\n",
        "#Approach #2: Repeating Beginning Normal Cases\n",
        "indices_2 = [i for i in range(3361)]\n",
        "normal_indices = []\n",
        "for i in range(3361):\n",
        "  if y_train[i] == 0:\n",
        "    normal_indices.append(i)\n",
        "\n",
        "indices_2.extend(normal_indices[0:834])\n",
        "\n",
        "x_train_tfidf_2 = x_train_tfidf[indices_2, :]\n",
        "y_train_2 = [y_train[i] for i in indices_2]\n",
        "\n",
        "#Approach #3: Masking \n",
        "aug = naw.RandomWordAug()\n",
        "train_text_del = aug.augment(train_text)\n",
        "\n",
        "#New Library based on the new deleted text\n",
        "train_tokens_del = token_generator(train_text_del)\n",
        "train_vocab_dict_del = Dictionary(train_tokens_del)\n",
        "\n",
        "train_vocab_dict_del[0]\n",
        "\n",
        "train_tokens_del = token_generator(train_text_del)\n",
        "x_train_sparse_del = [sparse_vector for sparse_vector in sparse_vector_generator(train_tokens_del, train_vocab_dict_del ,len(train_vocab_dict_del))]\n",
        "\n",
        "#Creating New tfidf transformer\n",
        "tfidf_del = TfidfTransformer(use_idf=True, smooth_idf = True,sublinear_tf = True)\n",
        "tfidf_del.fit(x_train_sparse_del)\n",
        "tfidf_del.fit(x_train_sparse_del)\n",
        "x_train_tfidf_del = tfidf_del.transform(x_train_sparse_del)\n",
        "\n",
        "# Getting the test_text into the new tfidf\n",
        "test_tokens_del = token_generator(test_text)\n",
        "\n",
        "for token in test_tokens_del:\n",
        "  test_sparse_vector_del = sparse_vector_create(train_vocab_dict_del.doc2bow(token),len(train_vocab_dict_del))"
      ],
      "metadata": {
        "id": "HK0suZNwFAHw"
      },
      "execution_count": 44,
      "outputs": []
    },
    {
      "cell_type": "code",
      "source": [
        "from sklearn import svm\n",
        "import sklearn.model_selection\n",
        "import sklearn.svm\n",
        "import matplotlib.pyplot as plt\n",
        "\n",
        "def cross_validation_f(data_train, target_train, parameters, folds):\n",
        "    kf = sklearn.model_selection.KFold(n_splits=folds)\n",
        "\n",
        "    average_training_sens = np.zeros(len(parameters))\n",
        "    average_validation_sens = np.zeros(len(parameters))\n",
        "    average_training_spec = np.zeros(len(parameters))\n",
        "    average_validation_spec = np.zeros(len(parameters))\n",
        "    \n",
        "    for i in range(len(parameters)):\n",
        "        parameter = parameters[i]\n",
        "        \n",
        "        training_sensitivity, training_specificity = [], []\n",
        "        validation_sentivity, validation_specificity = [], []\n",
        "\n",
        "        for train_index, test_index in kf.split(data_train):\n",
        "            #print(train_index.shape)\n",
        "            data_fold_train = data_train[train_index,:]\n",
        "            data_fold_test = [target_train[i] for i in train_index] #target_train[train_index]\n",
        "            validation_train, validation_test = data_train[test_index, :], [target_train[i] for i in test_index]#target_train[test_index]\n",
        "\n",
        "            clf = svm.SVC(C=parameter, kernel ='poly')\n",
        "            train = clf.fit(data_fold_train, data_fold_test)\n",
        "            predicted_train = train.predict(data_fold_train)\n",
        "            predicted_validation = train.predict(validation_train)\n",
        "            \n",
        "            #print(\"Parameter: \", parameter, \" Train Data Metrics:\")\n",
        "            nb_metric = metric_calc(data_fold_test, predicted_train)\n",
        "            training_sens = nb_metric.sens()\n",
        "            training_spec = nb_metric.spec()\n",
        "\n",
        "            #print(\"Parameter: \", parameter, \" Train Data Metrics:\")\n",
        "            nb_metric = metric_calc(validation_test, predicted_validation)\n",
        "            validation_sens = nb_metric.sens()\n",
        "            validation_spec = nb_metric.spec()\n",
        "\n",
        "            training_sensitivity.append(training_sens)\n",
        "            validation_sentivity.append(validation_sens)\n",
        "            training_specificity.append(training_spec)\n",
        "            validation_specificity.append(validation_spec)\n",
        "        \n",
        "        average_training_sens[i] = np.mean(np.array(training_sensitivity))\n",
        "        average_validation_sens[i] = np.mean(np.array(validation_sentivity))   \n",
        "        average_training_spec[i] = np.mean(np.array(training_specificity))\n",
        "        average_validation_spec[i] = np.mean(np.array(validation_specificity))           \n",
        "    return average_training_sens, average_validation_spec, average_training_spec, average_training_sens\n",
        "\n",
        "poly_parameters = [1, 2, 3, 4, 5, 6, 7, 8, 9, 10]\n",
        "training_sens, validation_sens, training_spec, validation_spec = cross_validation_f(x_train_tfidf, y_train, poly_parameters, 10)\n",
        "x = np.array(poly_parameters)\n",
        "\n",
        "plt.scatter(x, training_sens)\n",
        "plt.scatter(x, validation_sens)\n",
        "\n",
        "plt.legend([\"Training\" , \"Validation\"])\n",
        "plt.xlabel('Degree of Polynomial') \n",
        "plt.ylabel('Sensitivity')\n",
        "plt.show()\n",
        "\n",
        "plt.scatter(x, training_spec)\n",
        "plt.scatter(x, validation_spec)\n",
        "\n",
        "plt.legend([\"Training\" , \"Validation\"])\n",
        "plt.xlabel('Degree of Polynomial') \n",
        "plt.ylabel('Specificity')\n",
        "plt.show()"
      ],
      "metadata": {
        "id": "5CNL7MMPyi-R",
        "outputId": "8885d977-916c-4ca5-fec8-e971e5f7121e",
        "colab": {
          "base_uri": "https://localhost:8080/",
          "height": 543
        }
      },
      "execution_count": 43,
      "outputs": [
        {
          "output_type": "display_data",
          "data": {
            "text/plain": [
              "<Figure size 432x288 with 1 Axes>"
            ],
            "image/png": "[encoded data removed]"
          },
          "metadata": {
            "needs_background": "light"
          }
        },
        {
          "output_type": "display_data",
          "data": {
            "text/plain": [
              "<Figure size 432x288 with 1 Axes>"
            ],
            "image/png": "[encoded data removed]"
          },
          "metadata": {
            "needs_background": "light"
          }
        }
      ]
    },
    {
      "cell_type": "code",
      "metadata": {
        "colab": {
          "base_uri": "https://localhost:8080/"
        },
        "id": "d2YjvOT4EJOX",
        "outputId": "87f8a3dd-2f40-4eab-baa1-6f7e346cbc9f"
      },
      "source": [
        "#Regular Fitting\n",
        "SVM_linear = svm.SVC(C=1.0,kernel ='linear')\n",
        "SVM_linear.fit(x_train_tfidf, y_train)\n",
        "\n",
        "SVM_poly = svm.SVC(C=1.0,kernel ='poly', degree=10)\n",
        "SVM_poly.fit(x_train_tfidf, y_train)\n",
        "\n",
        "SVM_rbf = svm.SVC(C=1.0,kernel ='rbf')\n",
        "SVM_rbf.fit(x_train_tfidf, y_train)\n",
        "\n",
        "SVM_sigmoid = svm.SVC(C=1.0,kernel ='sigmoid')\n",
        "SVM_sigmoid.fit(x_train_tfidf, y_train)\n",
        "\n",
        "#Data Augmentation Fitting\n",
        "SVM_linear_1 = svm.SVC(C=1.0,kernel ='linear')\n",
        "SVM_linear_1.fit(x_train_tfidf_1, y_train_1)\n",
        "\n",
        "SVM_linear_2 = svm.SVC(C=1.0,kernel ='linear')\n",
        "SVM_linear_2.fit(x_train_tfidf_2, y_train_2)\n",
        "\n",
        "SVM_linear_del = svm.SVC(C=1.0,kernel ='linear')\n",
        "SVM_linear_del.fit(x_train_tfidf_del, y_train)"
      ],
      "execution_count": 54,
      "outputs": [
        {
          "output_type": "execute_result",
          "data": {
            "text/plain": [
              "SVC(kernel='linear')"
            ]
          },
          "metadata": {},
          "execution_count": 54
        }
      ]
    },
    {
      "cell_type": "code",
      "metadata": {
        "id": "9DV7LL9xIFkB"
      },
      "source": [
        "test_tokens = token_generator(test_text)\n",
        "svm_linear_predictions = list()\n",
        "svm_poly_predictions = list()\n",
        "svm_rbf_predictions = list()\n",
        "svm_sigmoid_predictions = list()\n",
        "\n",
        "svm_linear_predictions_1 = list()\n",
        "svm_linear_predictions_2 = list()\n",
        "svm_linear_predictions_del = list()\n",
        "\n",
        "for token in test_tokens:\n",
        "  test_sparse_vector = sparse_vector_create(train_vocab_dict.doc2bow(token),len(train_vocab_dict))\n",
        "  x_test_tfidf = tfidf.transform(test_sparse_vector.reshape(1,-1))\n",
        "  svm_linear_predictions.append(SVM_linear.predict(x_test_tfidf)[0])\n",
        "  svm_poly_predictions.append(SVM_poly.predict(x_test_tfidf)[0])\n",
        "  svm_rbf_predictions.append(SVM_rbf.predict(x_test_tfidf)[0])\n",
        "  svm_sigmoid_predictions.append(SVM_sigmoid.predict(x_test_tfidf)[0])\n",
        "\n",
        "  x_test_tfidf_del = tfidf_del.transform(test_sparse_vector_del.reshape(1,-1))\n",
        "  svm_linear_predictions_1.append(SVM_linear_1.predict(x_test_tfidf)[0])\n",
        "  svm_linear_predictions_2.append(SVM_linear_2.predict(x_test_tfidf)[0])\n",
        "  svm_linear_predictions_del.append(SVM_linear_del.predict(x_test_tfidf_del)[0])\n",
        "  "
      ],
      "execution_count": 55,
      "outputs": []
    },
    {
      "cell_type": "markdown",
      "metadata": {
        "id": "UZ3gwLdk3XQD"
      },
      "source": [
        "# Where to next?\n",
        "So far we have only examined sparse word vectors. That is, vector representations of words that contain many 0's and sparsely contain data. This may perform adequately for the models presented, but for many cases, working with large-dimension vectors can be a large problem due to high memory usage and computational cost.\n",
        "\n",
        "There has been work done to create dense vectors of words based on \"distributed\" representations (aka based on word distribution). These vectors are are usually only several tens to hundreds of dimensions long as opposed to many thousands. Earlier approaches for doing so include Word2vec and GloVe which create static vectors for word representations. Newer embedding approaches integrate context into embedding creation such as seen in ELMo or BERT's embedding process. \n",
        "\n",
        "Popular deep learning architectures for analyzing text include convolutional neural networks, recurrent neural networks and its cousins LSTM and GRU as well as the more recent transformer model. Deep learning approaches to NLP start with converting words into a vector in an embedding layer, often using one of the aforementioned techniques. We will not explore deep learning approaches to NLP in this tutorial, but since we have mentioned a number of popular NLP packages, we will also mention [HuggingFace](https://huggingface.co/) for their extensive NLP deep learning library. "
      ]
    },
    {
      "cell_type": "markdown",
      "metadata": {
        "id": "kJxrGbD62U26"
      },
      "source": [
        "# Evaluation\n",
        "\n",
        "Evaluation of model performance is a very important part of the NLP pipeline. Common metrics (for classification) include sensitivity (recall), specificity, positive predictive value (precision), and the F1 score. These quantities can be derived from a \"confusion matrix\" which is simply a matrix that tabulates model classification results into the categories of true negatives, false positives, false negatives, and true positives.\n",
        "\n",
        "For sklearn confusion matrix, the format is - row i is actual class, row j is predicted class. For our case, 0 - normal, 1 - abnormal. thus $C_{0,0}$ is true negatives, $C_{0,1}$ is false positive, $C_{1,0}$ is false negative, $C_{1,1}$ is true positives where $C_{i,j}$ refers to element in row i and column j. In this example, a \"positive\" label by the model is the equivalent of flagging an example as \"abnormal\".\n",
        "\n",
        "Note we cannot naturally generate a ROC curve for Naive Bayes or SVM as ROC curves require some threshold (usually some \"probability\" cut off for prediction of one class or another) but Naive Bayes simply compares two(or more) quantities with each other to determine class. While using relative comparisons works reasonably well, the numerical value of these outputs is unstable and unsuitable for a fixed cutoff."
      ]
    },
    {
      "cell_type": "code",
      "metadata": {
        "id": "qO3zQ04dnziV"
      },
      "source": [
        "from sklearn import metrics\n",
        "\n",
        "class metric_calc:\n",
        "  def __init__(self, y,y_hat):\n",
        "  # y is true label, y_hat is predicted label\n",
        "    self.y_hat = y_hat\n",
        "    self.y = y\n",
        "    conf_matrix = metrics.confusion_matrix(y,y_hat)\n",
        "    \n",
        "    self.true_neg = conf_matrix[0][0]\n",
        "    self.false_pos = conf_matrix[0][1]\n",
        "    self.false_neg = conf_matrix[1][0]\n",
        "    self.true_pos = conf_matrix[1][1]\n",
        "\n",
        "  def conf_matrix_values(self):\n",
        "    print(f\"TN: {self.true_neg}, FP: {self.false_pos}, FN: {self.false_neg} TP: {self.true_pos}\")\n",
        "\n",
        "  def sens_spec(self):\n",
        "    sens = self.true_pos/(self.true_pos+self.false_neg)\n",
        "    spec = self.true_neg/(self.true_neg+self.false_pos)\n",
        "    print(f\"Sensitivity (aka recall) is {sens:.4f}\")\n",
        "    print(f\"Specificity is {spec:.4f}\")\n",
        "\n",
        "  def sens(self):\n",
        "    sens = self.true_pos/(self.true_pos+self.false_neg)\n",
        "    return sens\n",
        "\n",
        "  def spec(self):\n",
        "    spec = self.true_neg/(self.true_neg+self.false_pos)\n",
        "    return spec\n",
        "\n",
        "  def incorrect_index(self):\n",
        "    # return indices of examples that are incorrectly predicted\n",
        "    index = list()\n",
        "    for i,label in enumerate(self.y):\n",
        "      if label != self.y_hat[i]:\n",
        "        index.append(i)\n",
        "    return index"
      ],
      "execution_count": 56,
      "outputs": []
    },
    {
      "cell_type": "code",
      "source": [
        "#Regular Evaluation\n",
        "print(\"Naive Bayes\")\n",
        "nb_metric = metric_calc(y_test,nb_predictions)\n",
        "nb_metric.conf_matrix_values()\n",
        "nb_metric.sens_spec()\n",
        "\n",
        "print(\"SVM-Linear\")\n",
        "svm_linear_metric = metric_calc(y_test,svm_linear_predictions)\n",
        "svm_linear_metric.conf_matrix_values()\n",
        "svm_linear_metric.sens_spec()\n",
        "\n",
        "print(\"SVM-Poly\")\n",
        "svm_poly_metric = metric_calc(y_test,svm_poly_predictions)\n",
        "svm_poly_metric.conf_matrix_values()\n",
        "svm_poly_metric.sens_spec()\n",
        "\n",
        "print(\"SVM-rbf\")\n",
        "svm_rbf_metric = metric_calc(y_test,svm_rbf_predictions)\n",
        "svm_rbf_metric.conf_matrix_values()\n",
        "svm_rbf_metric.sens_spec()\n",
        "\n",
        "print(\"SVM-sigmoid\")\n",
        "svm_sigmoid_metric = metric_calc(y_test,svm_sigmoid_predictions)\n",
        "svm_sigmoid_metric.conf_matrix_values()\n",
        "svm_sigmoid_metric.sens_spec()\n",
        "\n",
        "#Data Augmentation Evaluation\n",
        "svm_linear_metric_1 = metric_calc(y_test,svm_linear_predictions_1)\n",
        "svm_linear_metric_1.conf_matrix_values()\n",
        "svm_linear_metric_1.sens_spec()\n",
        "\n",
        "svm_linear_metric_2 = metric_calc(y_test,svm_linear_predictions_2)\n",
        "svm_linear_metric_2.conf_matrix_values()\n",
        "svm_linear_metric_2.sens_spec()\n",
        "\n",
        "svm_linear_metric_del = metric_calc(y_test,svm_linear_predictions_del)\n",
        "svm_linear_metric_del.conf_matrix_values()\n",
        "svm_linear_metric_del.sens_spec()"
      ],
      "metadata": {
        "colab": {
          "base_uri": "https://localhost:8080/"
        },
        "id": "5Z_3HW68OBqF",
        "outputId": "3a50fe95-8909-4d0b-8ebf-3c0db2590e97"
      },
      "execution_count": 57,
      "outputs": [
        {
          "output_type": "stream",
          "name": "stdout",
          "text": [
            "Naive Bayes\n",
            "TN: 211, FP: 12, FN: 46 TP: 325\n",
            "Sensitivity (aka recall) is 0.8760\n",
            "Specificity is 0.9462\n",
            "SVM-Linear\n",
            "TN: 209, FP: 14, FN: 12 TP: 359\n",
            "Sensitivity (aka recall) is 0.9677\n",
            "Specificity is 0.9372\n",
            "SVM-Poly\n",
            "TN: 164, FP: 59, FN: 1 TP: 370\n",
            "Sensitivity (aka recall) is 0.9973\n",
            "Specificity is 0.7354\n",
            "SVM-rbf\n",
            "TN: 206, FP: 17, FN: 11 TP: 360\n",
            "Sensitivity (aka recall) is 0.9704\n",
            "Specificity is 0.9238\n",
            "SVM-sigmoid\n",
            "TN: 209, FP: 14, FN: 14 TP: 357\n",
            "Sensitivity (aka recall) is 0.9623\n",
            "Specificity is 0.9372\n",
            "TN: 216, FP: 7, FN: 21 TP: 350\n",
            "Sensitivity (aka recall) is 0.9434\n",
            "Specificity is 0.9686\n",
            "TN: 215, FP: 8, FN: 16 TP: 355\n",
            "Sensitivity (aka recall) is 0.9569\n",
            "Specificity is 0.9641\n",
            "TN: 0, FP: 223, FN: 0 TP: 371\n",
            "Sensitivity (aka recall) is 1.0000\n",
            "Specificity is 0.0000\n"
          ]
        }
      ]
    },
    {
      "cell_type": "code",
      "source": [
        "import numpy as np\n",
        "import matplotlib.pyplot as plt\n",
        " \n",
        "# set width of bar\n",
        "barWidth = 0.25\n",
        "fig = plt.subplots(figsize =(12, 8))\n",
        " \n",
        "# set height of bar\n",
        "sensitivity = [nb_metric.sens(), svm_linear_metric.sens(), svm_poly_metric.sens(), svm_rbf_metric.sens(), svm_sigmoid_metric.sens()]\n",
        "specificity = [nb_metric.spec(), svm_linear_metric.spec(), svm_poly_metric.spec(), svm_rbf_metric.spec(), svm_sigmoid_metric.spec()]\n",
        " \n",
        "# Set position of bar on X axis\n",
        "br_sensitivity = np.arange(len(sensitivity))\n",
        "br_specificity = [x + barWidth for x in br_sensitivity]\n",
        " \n",
        "# Make the plot\n",
        "plt.bar(br_sensitivity, sensitivity, width = barWidth,\n",
        "        edgecolor ='grey', label ='Sensitivity')\n",
        "plt.bar(br_specificity, specificity, width = barWidth,\n",
        "        edgecolor ='grey', label ='Specificity')\n",
        " \n",
        "# Adding Xticks\n",
        "plt.xlabel('Model Type', fontweight ='bold', fontsize = 15)\n",
        "plt.xticks([r + barWidth for r in range(len(specificity))],\n",
        "        ['Naive Bayes', 'SVM Linear', 'SVM Poly', 'SVM RBF', 'SVM Sigmoid'])\n",
        " \n",
        "plt.legend()\n",
        "plt.show()"
      ],
      "metadata": {
        "colab": {
          "base_uri": "https://localhost:8080/",
          "height": 502
        },
        "id": "r8LJRlDxX95D",
        "outputId": "892cdc19-d22f-4b13-99d8-6ac2fa554c38"
      },
      "execution_count": 58,
      "outputs": [
        {
          "output_type": "display_data",
          "data": {
            "text/plain": [
              "<Figure size 864x576 with 1 Axes>"
            ],
            "image/png": "[encoded data removed]"
          },
          "metadata": {
            "needs_background": "light"
          }
        }
      ]
    },
    {
      "cell_type": "code",
      "source": [
        "# set width of bar\n",
        "barWidth = 0.25\n",
        "fig = plt.subplots(figsize =(12, 8))\n",
        " \n",
        "# set height of bar\n",
        "sensitivity = [svm_linear_metric_1.sens(), svm_linear_metric_2.sens(), svm_linear_metric_del.sens()]\n",
        "specificity = [svm_linear_metric_1.spec(), svm_linear_metric_2.spec(), svm_linear_metric_del.spec()]\n",
        " \n",
        "# Set position of bar on X axis\n",
        "br_sensitivity = np.arange(len(sensitivity))\n",
        "br_specificity = [x + barWidth for x in br_sensitivity]\n",
        " \n",
        "# Make the plot\n",
        "plt.bar(br_sensitivity, sensitivity, width = barWidth,\n",
        "        edgecolor ='grey', label ='Sensitivity')\n",
        "plt.bar(br_specificity, specificity, width = barWidth,\n",
        "        edgecolor ='grey', label ='Specificity')\n",
        " \n",
        "# Adding Xticks\n",
        "plt.xlabel('Data Augmentation Method', fontweight ='bold', fontsize = 15)\n",
        "plt.xticks([r + barWidth for r in range(len(specificity))],\n",
        "        ['Method #1', 'Method #2', 'Deletion'])\n",
        " \n",
        "plt.legend()\n",
        "plt.show()"
      ],
      "metadata": {
        "colab": {
          "base_uri": "https://localhost:8080/",
          "height": 502
        },
        "id": "mC19_ywDfj1e",
        "outputId": "2283813c-4261-4af3-f219-ea697cfd581a"
      },
      "execution_count": 60,
      "outputs": [
        {
          "output_type": "display_data",
          "data": {
            "text/plain": [
              "<Figure size 864x576 with 1 Axes>"
            ],
            "image/png": "[encoded data removed]"
          },
          "metadata": {
            "needs_background": "light"
          }
        }
      ]
    },
    {
      "cell_type": "markdown",
      "metadata": {
        "id": "LWrHXW7Wwj88"
      },
      "source": [
        "# Manual examination of model\n",
        "\n",
        "Sometimes it is helpful (or simply entertaining) to try inserting your own free text into a NLP model and seeing how it behaves"
      ]
    },
    {
      "cell_type": "code",
      "metadata": {
        "colab": {
          "base_uri": "https://localhost:8080/"
        },
        "id": "eC6LqmCcr11r",
        "outputId": "c69eda9b-2e48-41d1-9923-7fa4ac3cb029"
      },
      "source": [
        "#@title Try entering some free text for classification via the classifiers we trained\n",
        "user_text = \"everything looks fine\" #@param {type:\"string\"}\n",
        "user_token = preprocess(nlp,user_text)\n",
        "user_sparse_vector = sparse_vector_create(train_vocab_dict.doc2bow(user_token),len(train_vocab_dict))\n",
        "user_nb_prediction = nb_classifier.predict(user_sparse_vector.reshape(1,-1))[0]\n",
        "user_svm_prediction = SVM_linear.predict(user_sparse_vector.reshape(1,-1))[0]\n",
        "\n",
        "print(\"Convention used - 0 is normal, 1 is abnormal\")\n",
        "print(f\"Naive Bayes: {user_nb_prediction}\")\n",
        "print(f\"SVM: {user_svm_prediction}\")"
      ],
      "execution_count": 61,
      "outputs": [
        {
          "output_type": "stream",
          "name": "stdout",
          "text": [
            "Convention used - 0 is normal, 1 is abnormal\n",
            "Naive Bayes: 1\n",
            "SVM: 1\n"
          ]
        }
      ]
    },
    {
      "cell_type": "markdown",
      "metadata": {
        "id": "AVnGEqzcO1ZE"
      },
      "source": [
        "## Error Analysis\n",
        "\n",
        "Manual examination of model errors for systematic errors is also an important post evaluation step."
      ]
    },
    {
      "cell_type": "code",
      "metadata": {
        "colab": {
          "base_uri": "https://localhost:8080/",
          "height": 1000
        },
        "id": "F17is6e3L1l5",
        "outputId": "2cf68a3b-d6bf-42fb-f13f-5bd64343e3b2"
      },
      "source": [
        "troubleshoot_df = test_df.iloc[svm_linear_metric.incorrect_index()][[\"full-text\",\"label\"]]\n",
        "troubleshoot_df[\"SVM\"] = [svm_linear_predictions[i] for i in svm_linear_metric.incorrect_index()]\n",
        "troubleshoot_df"
      ],
      "execution_count": 62,
      "outputs": [
        {
          "output_type": "execute_result",
          "data": {
            "text/plain": [
              "                                                                                                                                                                                                                                                                                                                                                                                                                                                                                                                                                                                                                                                                                                                                                  full-text  \\\n",
              "1140  The lungs are clear. No pleural effusion is seen. The heart and mediastinum are normal. Arthritic changes of the spine are present. No active disease.                                                                                                                                                                                                                                                                                                                                                                                                                                                                                                                                                                                                  \n",
              "2869  Lungs are clear. No focal consolidation, effusion, or pneumothorax. Interval resolution of left effusion. Central venous dialysis catheter unchanged in position. Heart and mediastinal contours are normal. Osseous structures intact. No acute cardiopulmonary disease.                                                                                                                                                                                                                                                                                                                                                                                                                                                                               \n",
              "2164  Lungs are clear bilaterally. Cardiac and mediastinal silhouettes are normal. Pulmonary vasculature is normal. No pneumothorax or pleural effusion. Limbus vertebra noted within the partial visualized lumbar vertebral body. No acute cardiopulmonary disease.                                                                                                                                                                                                                                                                                                                                                                                                                                                                                         \n",
              "2836  No there is an dextroscoliosis of the thoracic spine. The cardiomediastinal silhouette and pulmonary vasculature are within normal limits. There is no pneumothorax or pleural effusion. There are no focal areas of consolidation. No acute cardiopulmonary abnormality.                                                                                                                                                                                                                                                                                                                                                                                                                                                                               \n",
              "2854  The heart is normal in size and contour. The lungs are clear, without evidence of infiltrate. There is no pneumothorax or effusion. Multiple punctate round XXXX XXXX over the abdomen on the lateral view. These may reside within, or outside of the patient. No acute cardiopulmonary disease.                                                                                                                                                                                                                                                                                                                                                                                                                                                       \n",
              "3307  No focal lung opacity, pleural effusion or pneumothorax. Cardiomediastinal silhouette is unremarkable. No focal lung opacity, pleural effusion of pneumothorax.                                                                                                                                                                                                                                                                                                                                                                                                                                                                                                                                                                                         \n",
              "3125  PA and lateral views of the chest were obtained. The cardiomediastinal silhouette is within limits. Postoperative changes from spinal rods are demonstrated. There is elevation of the left hemidiaphragm. Multiple colonic loops are demonstrated in the left upper quadrant. The lungs are clear bilaterally. Left humeral head is positioned anterior and inferior to the glenoid, concerning for anterior shoulder subluxation. 1. No active cardiopulmonary disease. 2. Left humeral head is positioned anterior and inferior to the glenoid, concerning for anterior shoulder subluxation. This is XXXX related to the muscular dystrophy and decreased shoulder muscles support. 3. XXXX postoperative changes from the spinal XXXX placement.   \n",
              "3203  There may be a subtle airspace opacity in the right base near the midclavicular line. There is no pleural effusion or pneumothorax. The heart and mediastinum are normal. The skeletal structures are normal. Possible area of pneumonitis right lower lobe.                                                                                                                                                                                                                                                                                                                                                                                                                                                                                            \n",
              "3298  Frontal and lateral views of the chest show an unchanged cardiomediastinal silhouette. Normal mediastinal contour, pulmonary XXXX and vasculature, central airways and aeration of the lungs. No focal airspace consolidation or pleural effusion. There is subphrenic intraperitoneal extraluminal XXXX free XXXX. 1. No acute or active cardiac, pulmonary or pleural disease. 2. Pneumoperitoneum, attributed to the patient's recent abdominal surgery.                                                                                                                                                                                                                                                                                             \n",
              "1112  Heart size within normal limits, stable mediastinal and hilar contours. No focal alveolar consolidation, no definite pleural effusion seen. No typical findings of pulmonary edema. XXXX convexity also present on the previous exam. No acute findings                                                                                                                                                                                                                                                                                                                                                                                                                                                                                                 \n",
              "1172   Heart size upper limits normal. Sternotomy. Right-sided aortic XXXX. Lungs are clear.                                                                                                                                                                                                                                                                                                                                                                                                                                                                                                                                                                                                                                                                  \n",
              "2322  The mediastinal silhouette is widened with overlying sternotomy XXXX. The heart size is normal. The lungs are clear without evidence of effusion, infiltrate or pneumothorax. Visualized bony structures are intact with no acute abnormalities. 1. Wide mediastinal XXXX, consistent with history of aortic dissection. 2. Otherwise normal chest x-XXXX.                                                                                                                                                                                                                                                                                                                                                                                              \n",
              "2743                                                                                                                                                                                                                                                                                                                                                                                                                                                                                                                                                                                                                                                                                                                                                          \n",
              "3089   Heart size normal. Mediastinal silhouette and vascularity are within normal limits. Lungs are clear, hyperinflated. There is no pleural effusion or pneumothorax.                                                                                                                                                                                                                                                                                                                                                                                                                                                                                                                                                                                      \n",
              "3218  The XXXX examination consists of frontal and lateral radiographs of the chest. Atherosclerotic calcifications of the aortic XXXX are again seen. The cardiomediastinal contours are within normal limits. Pulmonary vascularity is within normal limits. No focal consolidation, pleural effusion, or pneumothorax identified. The visualized osseous structures and upper abdomen are unremarkable. No evidence of acute cardiopulmonary process.                                                                                                                                                                                                                                                                                                      \n",
              "1258  Lungs are clear. No pleural effusions or pneumothoraces. Heart and mediastinum of normal size and contour. Degenerative changes in the thoracic spine. Clear lungs.                                                                                                                                                                                                                                                                                                                                                                                                                                                                                                                                                                                     \n",
              "3636                                                                                                                                                                                                                                                                                                                                                                                                                                                                                                                                                                                                                                                                                                                                                          \n",
              "2321  The heart size and pulmonary vascularity appear within normal limits. Lungs are free of focal airspace disease. No pleural effusion or pneumothorax is seen. VP shunt tubing is identified. The bony structures, as visualized, appear unremarkable. No evidence of active disease.                                                                                                                                                                                                                                                                                                                                                                                                                                                                     \n",
              "775   The lungs are hypoventilated. There is no focal airspace opacity. The cardiomediastinal silhouette is normal in size. There is no pneumothorax or large pleural effusion. No acute cardiopulmonary abnormality.                                                                                                                                                                                                                                                                                                                                                                                                                                                                                                                                         \n",
              "151   2 images. Vague density within the lower lung XXXX is secondary to soft tissue overlap. Heart size and pulmonary vascular engorgement appear within limits of normal. Mediastinal contour is unremarkable. No focal consolidation, pleural effusion, or pneumothorax identified. No convincing acute bony findings. No acute cardiopulmonary abnormality identified.                                                                                                                                                                                                                                                                                                                                                                                    \n",
              "2088  The lungs are clear. There is no pleural effusion or pneumothorax. The heart and mediastinum are normal. The skeletal structures short thready changes of the spine. No acute pulmonary disease.                                                                                                                                                                                                                                                                                                                                                                                                                                                                                                                                                        \n",
              "1131  Artifact in the region of the central upper abdomen. No focal areas of consolidation. No pleural effusions. No evidence of pneumothorax. Heart size within normal limits. Osseous structures intact. Limited exam secondary to artifact within the upper abdomen (this does not represent free intra-abdominal XXXX). Recommend repeat chest x-XXXX.                                                                                                                                                                                                                                                                                                                                                                                                    \n",
              "616   The lungs are clear. The heart and pulmonary XXXX appear normal. Pleural spaces are clear. The mediastinal contours are normal. Bony overlap in the lung apices could obscure a small pulmonary nodule. No acute cardiopulmonary disease                                                                                                                                                                                                                                                                                                                                                                                                                                                                                                                \n",
              "1890  Normal heart size and mediastinal contours. The lungs are hyperinflated but clear. No pneumothorax or pleural effusion. No acute bony abnormalities. No acute cardiopulmonary process. .                                                                                                                                                                                                                                                                                                                                                                                                                                                                                                                                                                \n",
              "2779   Rib films. No fractures or dislocations. Chest. Heart size normal. Lungs are clear. No effusion or pneumothorax. Minimal degenerative disease thoracic spine                                                                                                                                                                                                                                                                                                                                                                                                                                                                                                                                                                                           \n",
              "3824                                                                                                                                                                                                                                                                                                                                                                                                                                                                                                                                                                                                                                                                                                                                                          \n",
              "\n",
              "         label  SVM  \n",
              "1140  normal    1    \n",
              "2869  abnormal  0    \n",
              "2164  normal    1    \n",
              "2836  abnormal  0    \n",
              "2854  normal    1    \n",
              "3307  normal    1    \n",
              "3125  normal    1    \n",
              "3203  normal    1    \n",
              "3298  abnormal  0    \n",
              "1112  normal    1    \n",
              "1172  normal    1    \n",
              "2322  abnormal  0    \n",
              "2743  normal    1    \n",
              "3089  abnormal  0    \n",
              "3218  abnormal  0    \n",
              "1258  normal    1    \n",
              "3636  normal    1    \n",
              "2321  abnormal  0    \n",
              "775   abnormal  0    \n",
              "151   abnormal  0    \n",
              "2088  normal    1    \n",
              "1131  abnormal  0    \n",
              "616   abnormal  0    \n",
              "1890  abnormal  0    \n",
              "2779  normal    1    \n",
              "3824  normal    1    "
            ],
            "text/html": [
              "\n",
              "  <div id=\"df-a421223c-ad71-4870-b4f3-a029fdeb9991\">\n",
              "    <div class=\"colab-df-container\">\n",
              "      <div>\n",
              "<style scoped>\n",
              "    .dataframe tbody tr th:only-of-type {\n",
              "        vertical-align: middle;\n",
              "    }\n",
              "\n",
              "    .dataframe tbody tr th {\n",
              "        vertical-align: top;\n",
              "    }\n",
              "\n",
              "    .dataframe thead th {\n",
              "        text-align: right;\n",
              "    }\n",
              "</style>\n",
              "<table border=\"1\" class=\"dataframe\">\n",
              "  <thead>\n",
              "    <tr style=\"text-align: right;\">\n",
              "      <th></th>\n",
              "      <th>full-text</th>\n",
              "      <th>label</th>\n",
              "      <th>SVM</th>\n",
              "    </tr>\n",
              "  </thead>\n",
              "  <tbody>\n",
              "    <tr>\n",
              "      <th>1140</th>\n",
              "      <td>The lungs are clear. No pleural effusion is seen. The heart and mediastinum are normal. Arthritic changes of the spine are present. No active disease.</td>\n",
              "      <td>normal</td>\n",
              "      <td>1</td>\n",
              "    </tr>\n",
              "    <tr>\n",
              "      <th>2869</th>\n",
              "      <td>Lungs are clear. No focal consolidation, effusion, or pneumothorax. Interval resolution of left effusion. Central venous dialysis catheter unchanged in position. Heart and mediastinal contours are normal. Osseous structures intact. No acute cardiopulmonary disease.</td>\n",
              "      <td>abnormal</td>\n",
              "      <td>0</td>\n",
              "    </tr>\n",
              "    <tr>\n",
              "      <th>2164</th>\n",
              "      <td>Lungs are clear bilaterally. Cardiac and mediastinal silhouettes are normal. Pulmonary vasculature is normal. No pneumothorax or pleural effusion. Limbus vertebra noted within the partial visualized lumbar vertebral body. No acute cardiopulmonary disease.</td>\n",
              "      <td>normal</td>\n",
              "      <td>1</td>\n",
              "    </tr>\n",
              "    <tr>\n",
              "      <th>2836</th>\n",
              "      <td>No there is an dextroscoliosis of the thoracic spine. The cardiomediastinal silhouette and pulmonary vasculature are within normal limits. There is no pneumothorax or pleural effusion. There are no focal areas of consolidation. No acute cardiopulmonary abnormality.</td>\n",
              "      <td>abnormal</td>\n",
              "      <td>0</td>\n",
              "    </tr>\n",
              "    <tr>\n",
              "      <th>2854</th>\n",
              "      <td>The heart is normal in size and contour. The lungs are clear, without evidence of infiltrate. There is no pneumothorax or effusion. Multiple punctate round XXXX XXXX over the abdomen on the lateral view. These may reside within, or outside of the patient. No acute cardiopulmonary disease.</td>\n",
              "      <td>normal</td>\n",
              "      <td>1</td>\n",
              "    </tr>\n",
              "    <tr>\n",
              "      <th>3307</th>\n",
              "      <td>No focal lung opacity, pleural effusion or pneumothorax. Cardiomediastinal silhouette is unremarkable. No focal lung opacity, pleural effusion of pneumothorax.</td>\n",
              "      <td>normal</td>\n",
              "      <td>1</td>\n",
              "    </tr>\n",
              "    <tr>\n",
              "      <th>3125</th>\n",
              "      <td>PA and lateral views of the chest were obtained. The cardiomediastinal silhouette is within limits. Postoperative changes from spinal rods are demonstrated. There is elevation of the left hemidiaphragm. Multiple colonic loops are demonstrated in the left upper quadrant. The lungs are clear bilaterally. Left humeral head is positioned anterior and inferior to the glenoid, concerning for anterior shoulder subluxation. 1. No active cardiopulmonary disease. 2. Left humeral head is positioned anterior and inferior to the glenoid, concerning for anterior shoulder subluxation. This is XXXX related to the muscular dystrophy and decreased shoulder muscles support. 3. XXXX postoperative changes from the spinal XXXX placement.</td>\n",
              "      <td>normal</td>\n",
              "      <td>1</td>\n",
              "    </tr>\n",
              "    <tr>\n",
              "      <th>3203</th>\n",
              "      <td>There may be a subtle airspace opacity in the right base near the midclavicular line. There is no pleural effusion or pneumothorax. The heart and mediastinum are normal. The skeletal structures are normal. Possible area of pneumonitis right lower lobe.</td>\n",
              "      <td>normal</td>\n",
              "      <td>1</td>\n",
              "    </tr>\n",
              "    <tr>\n",
              "      <th>3298</th>\n",
              "      <td>Frontal and lateral views of the chest show an unchanged cardiomediastinal silhouette. Normal mediastinal contour, pulmonary XXXX and vasculature, central airways and aeration of the lungs. No focal airspace consolidation or pleural effusion. There is subphrenic intraperitoneal extraluminal XXXX free XXXX. 1. No acute or active cardiac, pulmonary or pleural disease. 2. Pneumoperitoneum, attributed to the patient's recent abdominal surgery.</td>\n",
              "      <td>abnormal</td>\n",
              "      <td>0</td>\n",
              "    </tr>\n",
              "    <tr>\n",
              "      <th>1112</th>\n",
              "      <td>Heart size within normal limits, stable mediastinal and hilar contours. No focal alveolar consolidation, no definite pleural effusion seen. No typical findings of pulmonary edema. XXXX convexity also present on the previous exam. No acute findings</td>\n",
              "      <td>normal</td>\n",
              "      <td>1</td>\n",
              "    </tr>\n",
              "    <tr>\n",
              "      <th>1172</th>\n",
              "      <td>Heart size upper limits normal. Sternotomy. Right-sided aortic XXXX. Lungs are clear.</td>\n",
              "      <td>normal</td>\n",
              "      <td>1</td>\n",
              "    </tr>\n",
              "    <tr>\n",
              "      <th>2322</th>\n",
              "      <td>The mediastinal silhouette is widened with overlying sternotomy XXXX. The heart size is normal. The lungs are clear without evidence of effusion, infiltrate or pneumothorax. Visualized bony structures are intact with no acute abnormalities. 1. Wide mediastinal XXXX, consistent with history of aortic dissection. 2. Otherwise normal chest x-XXXX.</td>\n",
              "      <td>abnormal</td>\n",
              "      <td>0</td>\n",
              "    </tr>\n",
              "    <tr>\n",
              "      <th>2743</th>\n",
              "      <td></td>\n",
              "      <td>normal</td>\n",
              "      <td>1</td>\n",
              "    </tr>\n",
              "    <tr>\n",
              "      <th>3089</th>\n",
              "      <td>Heart size normal. Mediastinal silhouette and vascularity are within normal limits. Lungs are clear, hyperinflated. There is no pleural effusion or pneumothorax.</td>\n",
              "      <td>abnormal</td>\n",
              "      <td>0</td>\n",
              "    </tr>\n",
              "    <tr>\n",
              "      <th>3218</th>\n",
              "      <td>The XXXX examination consists of frontal and lateral radiographs of the chest. Atherosclerotic calcifications of the aortic XXXX are again seen. The cardiomediastinal contours are within normal limits. Pulmonary vascularity is within normal limits. No focal consolidation, pleural effusion, or pneumothorax identified. The visualized osseous structures and upper abdomen are unremarkable. No evidence of acute cardiopulmonary process.</td>\n",
              "      <td>abnormal</td>\n",
              "      <td>0</td>\n",
              "    </tr>\n",
              "    <tr>\n",
              "      <th>1258</th>\n",
              "      <td>Lungs are clear. No pleural effusions or pneumothoraces. Heart and mediastinum of normal size and contour. Degenerative changes in the thoracic spine. Clear lungs.</td>\n",
              "      <td>normal</td>\n",
              "      <td>1</td>\n",
              "    </tr>\n",
              "    <tr>\n",
              "      <th>3636</th>\n",
              "      <td></td>\n",
              "      <td>normal</td>\n",
              "      <td>1</td>\n",
              "    </tr>\n",
              "    <tr>\n",
              "      <th>2321</th>\n",
              "      <td>The heart size and pulmonary vascularity appear within normal limits. Lungs are free of focal airspace disease. No pleural effusion or pneumothorax is seen. VP shunt tubing is identified. The bony structures, as visualized, appear unremarkable. No evidence of active disease.</td>\n",
              "      <td>abnormal</td>\n",
              "      <td>0</td>\n",
              "    </tr>\n",
              "    <tr>\n",
              "      <th>775</th>\n",
              "      <td>The lungs are hypoventilated. There is no focal airspace opacity. The cardiomediastinal silhouette is normal in size. There is no pneumothorax or large pleural effusion. No acute cardiopulmonary abnormality.</td>\n",
              "      <td>abnormal</td>\n",
              "      <td>0</td>\n",
              "    </tr>\n",
              "    <tr>\n",
              "      <th>151</th>\n",
              "      <td>2 images. Vague density within the lower lung XXXX is secondary to soft tissue overlap. Heart size and pulmonary vascular engorgement appear within limits of normal. Mediastinal contour is unremarkable. No focal consolidation, pleural effusion, or pneumothorax identified. No convincing acute bony findings. No acute cardiopulmonary abnormality identified.</td>\n",
              "      <td>abnormal</td>\n",
              "      <td>0</td>\n",
              "    </tr>\n",
              "    <tr>\n",
              "      <th>2088</th>\n",
              "      <td>The lungs are clear. There is no pleural effusion or pneumothorax. The heart and mediastinum are normal. The skeletal structures short thready changes of the spine. No acute pulmonary disease.</td>\n",
              "      <td>normal</td>\n",
              "      <td>1</td>\n",
              "    </tr>\n",
              "    <tr>\n",
              "      <th>1131</th>\n",
              "      <td>Artifact in the region of the central upper abdomen. No focal areas of consolidation. No pleural effusions. No evidence of pneumothorax. Heart size within normal limits. Osseous structures intact. Limited exam secondary to artifact within the upper abdomen (this does not represent free intra-abdominal XXXX). Recommend repeat chest x-XXXX.</td>\n",
              "      <td>abnormal</td>\n",
              "      <td>0</td>\n",
              "    </tr>\n",
              "    <tr>\n",
              "      <th>616</th>\n",
              "      <td>The lungs are clear. The heart and pulmonary XXXX appear normal. Pleural spaces are clear. The mediastinal contours are normal. Bony overlap in the lung apices could obscure a small pulmonary nodule. No acute cardiopulmonary disease</td>\n",
              "      <td>abnormal</td>\n",
              "      <td>0</td>\n",
              "    </tr>\n",
              "    <tr>\n",
              "      <th>1890</th>\n",
              "      <td>Normal heart size and mediastinal contours. The lungs are hyperinflated but clear. No pneumothorax or pleural effusion. No acute bony abnormalities. No acute cardiopulmonary process. .</td>\n",
              "      <td>abnormal</td>\n",
              "      <td>0</td>\n",
              "    </tr>\n",
              "    <tr>\n",
              "      <th>2779</th>\n",
              "      <td>Rib films. No fractures or dislocations. Chest. Heart size normal. Lungs are clear. No effusion or pneumothorax. Minimal degenerative disease thoracic spine</td>\n",
              "      <td>normal</td>\n",
              "      <td>1</td>\n",
              "    </tr>\n",
              "    <tr>\n",
              "      <th>3824</th>\n",
              "      <td></td>\n",
              "      <td>normal</td>\n",
              "      <td>1</td>\n",
              "    </tr>\n",
              "  </tbody>\n",
              "</table>\n",
              "</div>\n",
              "      <button class=\"colab-df-convert\" onclick=\"convertToInteractive('df-a421223c-ad71-4870-b4f3-a029fdeb9991')\"\n",
              "              title=\"Convert this dataframe to an interactive table.\"\n",
              "              style=\"display:none;\">\n",
              "        \n",
              "  <svg xmlns=\"http://www.w3.org/2000/svg\" height=\"24px\"viewBox=\"0 0 24 24\"\n",
              "       width=\"24px\">\n",
              "    <path d=\"M0 0h24v24H0V0z\" fill=\"none\"/>\n",
              "    <path d=\"M18.56 5.44l.94 2.06.94-2.06 2.06-.94-2.06-.94-.94-2.06-.94 2.06-2.06.94zm-11 1L8.5 8.5l.94-2.06 2.06-.94-2.06-.94L8.5 2.5l-.94 2.06-2.06.94zm10 10l.94 2.06.94-2.06 2.06-.94-2.06-.94-.94-2.06-.94 2.06-2.06.94z\"/><path d=\"M17.41 7.96l-1.37-1.37c-.4-.4-.92-.59-1.43-.59-.52 0-1.04.2-1.43.59L10.3 9.45l-7.72 7.72c-.78.78-.78 2.05 0 2.83L4 21.41c.39.39.9.59 1.41.59.51 0 1.02-.2 1.41-.59l7.78-7.78 2.81-2.81c.8-.78.8-2.07 0-2.86zM5.41 20L4 18.59l7.72-7.72 1.47 1.35L5.41 20z\"/>\n",
              "  </svg>\n",
              "      </button>\n",
              "      \n",
              "  <style>\n",
              "    .colab-df-container {\n",
              "      display:flex;\n",
              "      flex-wrap:wrap;\n",
              "      gap: 12px;\n",
              "    }\n",
              "\n",
              "    .colab-df-convert {\n",
              "      background-color: #E8F0FE;\n",
              "      border: none;\n",
              "      border-radius: 50%;\n",
              "      cursor: pointer;\n",
              "      display: none;\n",
              "      fill: #1967D2;\n",
              "      height: 32px;\n",
              "      padding: 0 0 0 0;\n",
              "      width: 32px;\n",
              "    }\n",
              "\n",
              "    .colab-df-convert:hover {\n",
              "      background-color: #E2EBFA;\n",
              "      box-shadow: 0px 1px 2px rgba(60, 64, 67, 0.3), 0px 1px 3px 1px rgba(60, 64, 67, 0.15);\n",
              "      fill: #174EA6;\n",
              "    }\n",
              "\n",
              "    [theme=dark] .colab-df-convert {\n",
              "      background-color: #3B4455;\n",
              "      fill: #D2E3FC;\n",
              "    }\n",
              "\n",
              "    [theme=dark] .colab-df-convert:hover {\n",
              "      background-color: #434B5C;\n",
              "      box-shadow: 0px 1px 3px 1px rgba(0, 0, 0, 0.15);\n",
              "      filter: drop-shadow(0px 1px 2px rgba(0, 0, 0, 0.3));\n",
              "      fill: #FFFFFF;\n",
              "    }\n",
              "  </style>\n",
              "\n",
              "      <script>\n",
              "        const buttonEl =\n",
              "          document.querySelector('#df-a421223c-ad71-4870-b4f3-a029fdeb9991 button.colab-df-convert');\n",
              "        buttonEl.style.display =\n",
              "          google.colab.kernel.accessAllowed ? 'block' : 'none';\n",
              "\n",
              "        async function convertToInteractive(key) {\n",
              "          const element = document.querySelector('#df-a421223c-ad71-4870-b4f3-a029fdeb9991');\n",
              "          const dataTable =\n",
              "            await google.colab.kernel.invokeFunction('convertToInteractive',\n",
              "                                                     [key], {});\n",
              "          if (!dataTable) return;\n",
              "\n",
              "          const docLinkHtml = 'Like what you see? Visit the ' +\n",
              "            '<a target=\"_blank\" href=https://colab.research.google.com/notebooks/data_table.ipynb>data table notebook</a>'\n",
              "            + ' to learn more about interactive tables.';\n",
              "          element.innerHTML = '';\n",
              "          dataTable['output_type'] = 'display_data';\n",
              "          await google.colab.output.renderOutput(dataTable, element);\n",
              "          const docLink = document.createElement('div');\n",
              "          docLink.innerHTML = docLinkHtml;\n",
              "          element.appendChild(docLink);\n",
              "        }\n",
              "      </script>\n",
              "    </div>\n",
              "  </div>\n",
              "  "
            ]
          },
          "metadata": {},
          "execution_count": 62
        }
      ]
    },
    {
      "cell_type": "code",
      "metadata": {
        "colab": {
          "base_uri": "https://localhost:8080/",
          "height": 1000
        },
        "id": "vrA-F4wQOjJ_",
        "outputId": "6ab0163f-9a09-4ad0-c53e-58b526a71a8b"
      },
      "source": [
        "troubleshoot_df = test_df.iloc[nb_metric.incorrect_index()][[\"full-text\",\"label\"]]\n",
        "troubleshoot_df[\"nb\"] = [nb_predictions[i] for i in nb_metric.incorrect_index()]\n",
        "troubleshoot_df"
      ],
      "execution_count": 52,
      "outputs": [
        {
          "output_type": "execute_result",
          "data": {
            "text/plain": [
              "                                                                                                                                                                                                                                                                                                                                                                                                                                                                                                                                                                                                                                                                                                                                                  full-text  \\\n",
              "1140  The lungs are clear. No pleural effusion is seen. The heart and mediastinum are normal. Arthritic changes of the spine are present. No active disease.                                                                                                                                                                                                                                                                                                                                                                                                                                                                                                                                                                                                  \n",
              "944   The heart is normal in size. The mediastinum is unremarkable. The lungs are hypoinflated but clear. No acute disease.                                                                                                                                                                                                                                                                                                                                                                                                                                                                                                                                                                                                                                   \n",
              "2469  The heart is normal in size with normal appearance of the cardiomediastinal silhouette. The lungs are clear without focal airspace opacity, pleural effusion, or pneumothorax. The osseous structures are intact, with mild degenerative changes in the thoracic spine. No acute cardiopulmonary finding.                                                                                                                                                                                                                                                                                                                                                                                                                                               \n",
              "2836  No there is an dextroscoliosis of the thoracic spine. The cardiomediastinal silhouette and pulmonary vasculature are within normal limits. There is no pneumothorax or pleural effusion. There are no focal areas of consolidation. No acute cardiopulmonary abnormality.                                                                                                                                                                                                                                                                                                                                                                                                                                                                               \n",
              "2854  The heart is normal in size and contour. The lungs are clear, without evidence of infiltrate. There is no pneumothorax or effusion. Multiple punctate round XXXX XXXX over the abdomen on the lateral view. These may reside within, or outside of the patient. No acute cardiopulmonary disease.                                                                                                                                                                                                                                                                                                                                                                                                                                                       \n",
              "3307  No focal lung opacity, pleural effusion or pneumothorax. Cardiomediastinal silhouette is unremarkable. No focal lung opacity, pleural effusion of pneumothorax.                                                                                                                                                                                                                                                                                                                                                                                                                                                                                                                                                                                         \n",
              "78    The lungs are clear. Heart size is normal. No pneumothorax. There are endplate changes in the spine. Clear lungs. No acute cardiopulmonary abnormality. .                                                                                                                                                                                                                                                                                                                                                                                                                                                                                                                                                                                               \n",
              "1594  Lungs are hyperexpanded bilaterally, with no focal consolidation, pleural effusion, or pneumothoraces. Cardiomediastinal silhouette is within normal limits. XXXX are unremarkable. No acute cardiopulmonary abnormality.                                                                                                                                                                                                                                                                                                                                                                                                                                                                                                                               \n",
              "3125  PA and lateral views of the chest were obtained. The cardiomediastinal silhouette is within limits. Postoperative changes from spinal rods are demonstrated. There is elevation of the left hemidiaphragm. Multiple colonic loops are demonstrated in the left upper quadrant. The lungs are clear bilaterally. Left humeral head is positioned anterior and inferior to the glenoid, concerning for anterior shoulder subluxation. 1. No active cardiopulmonary disease. 2. Left humeral head is positioned anterior and inferior to the glenoid, concerning for anterior shoulder subluxation. This is XXXX related to the muscular dystrophy and decreased shoulder muscles support. 3. XXXX postoperative changes from the spinal XXXX placement.   \n",
              "664   The heart size is normal. The mediastinal contour is within normal limits. The lungs are free of any focal infiltrates. There are no nodules or masses. No visible pneumothorax. No visible pleural fluid. The XXXX are grossly normal. There is no visible free intraperitoneal air under the diaphragm. Surgical clips are seen the right upper quadrant. 1. No acute radiographic cardiopulmonary process.                                                                                                                                                                                                                                                                                                                                           \n",
              "3203  There may be a subtle airspace opacity in the right base near the midclavicular line. There is no pleural effusion or pneumothorax. The heart and mediastinum are normal. The skeletal structures are normal. Possible area of pneumonitis right lower lobe.                                                                                                                                                                                                                                                                                                                                                                                                                                                                                            \n",
              "3298  Frontal and lateral views of the chest show an unchanged cardiomediastinal silhouette. Normal mediastinal contour, pulmonary XXXX and vasculature, central airways and aeration of the lungs. No focal airspace consolidation or pleural effusion. There is subphrenic intraperitoneal extraluminal XXXX free XXXX. 1. No acute or active cardiac, pulmonary or pleural disease. 2. Pneumoperitoneum, attributed to the patient's recent abdominal surgery.                                                                                                                                                                                                                                                                                             \n",
              "1112  Heart size within normal limits, stable mediastinal and hilar contours. No focal alveolar consolidation, no definite pleural effusion seen. No typical findings of pulmonary edema. XXXX convexity also present on the previous exam. No acute findings                                                                                                                                                                                                                                                                                                                                                                                                                                                                                                 \n",
              "1045  The Heart size is normal. Cardiomediastinal silhouette is normal in contour. The lungs are clear bilaterally. Lateral views obscured by patient body habitus. There is no evidence of apical disease. XXXX are unchanged from previous exam and appear normal. Thoracic spine shows osteophyte formations at several levels. no radiographic evidence of tuberculosis or sarcoidosis.                                                                                                                                                                                                                                                                                                                                                                   \n",
              "2968  The heart, pulmonary XXXX and mediastinum are within normal limits. There is no pleural effusion or pneumothorax. There is no focal air space opacity to suggest a pneumonia. There are degenerative changes of the spine. No acute cardiopulmonary disease.                                                                                                                                                                                                                                                                                                                                                                                                                                                                                            \n",
              "1172   Heart size upper limits normal. Sternotomy. Right-sided aortic XXXX. Lungs are clear.                                                                                                                                                                                                                                                                                                                                                                                                                                                                                                                                                                                                                                                                  \n",
              "363   The heart size and pulmonary vascularity appear within normal limits. Lungs are free of focal airspace disease. No pleural effusion or pneumothorax is seen. XXXX XXXX foreign body is noted in the soft tissues of the left chest wall. No evidence of active disease.                                                                                                                                                                                                                                                                                                                                                                                                                                                                                 \n",
              "2322  The mediastinal silhouette is widened with overlying sternotomy XXXX. The heart size is normal. The lungs are clear without evidence of effusion, infiltrate or pneumothorax. Visualized bony structures are intact with no acute abnormalities. 1. Wide mediastinal XXXX, consistent with history of aortic dissection. 2. Otherwise normal chest x-XXXX.                                                                                                                                                                                                                                                                                                                                                                                              \n",
              "2288  The lungs are clear without focal consolidation, effusion, or pneumothorax. Normal heart size. Unchanged multiple XXXX foreign bodies overlying the left clavicle and midline in the posterior soft tissues. The bony thorax is grossly intact. Negative for acute cardiopulmonary abnormality.                                                                                                                                                                                                                                                                                                                                                                                                                                                         \n",
              "2743                                                                                                                                                                                                                                                                                                                                                                                                                                                                                                                                                                                                                                                                                                                                                          \n",
              "3089   Heart size normal. Mediastinal silhouette and vascularity are within normal limits. Lungs are clear, hyperinflated. There is no pleural effusion or pneumothorax.                                                                                                                                                                                                                                                                                                                                                                                                                                                                                                                                                                                      \n",
              "318   The XXXX examination consists of frontal and lateral radiographs of the chest. There are diminished lung volumes. The cardiomediastinal contours are within normal limits. Pulmonary vascularity is within normal limits. No focal consolidation, pleural effusion, or pneumothorax identified. XXXX scoliosis is unchanged. Visualized upper abdomen is grossly unremarkable. No evidence of acute cardiopulmonary process or significant interval change.                                                                                                                                                                                                                                                                                             \n",
              "3486  The XXXX and soft tissue appear normal. The cardiac silhouette and mediastinum size are normal. The aortic XXXX is on the left. The trachea is well seen and appears normal. The lungs are clear. Unremarkable chest study. .                                                                                                                                                                                                                                                                                                                                                                                                                                                                                                                           \n",
              "242   There's been interval enlargement in the cardiac silhouette. These XXXX't contours are within normal limits. The lungs are normally inflated and clear. Osseous structures are within normal limits for patient age. 1. No acute radiographic cardiopulmonary process. 2. Interval development of cardiomegaly.                                                                                                                                                                                                                                                                                                                                                                                                                                         \n",
              "155   The trachea is midline. The cardiomediastinal silhouette is normal and unchanged compared to prior examination. The lungs are clear, without evidence of acute infiltrate or effusion. There is no pneumothorax. The visualized bony structures reveal no acute abnormalities. There is hiatal hernia. No acute cardiopulmonary abnormalities.                                                                                                                                                                                                                                                                                                                                                                                                          \n",
              "580   The heart, pulmonary XXXX and mediastinum are within normal limits. There is no pleural effusion or pneumothorax. There is no focal air space opacity to suggest a pneumonia. There are minimal degenerative changes of the spine. No acute cardiopulmonary disease.                                                                                                                                                                                                                                                                                                                                                                                                                                                                                    \n",
              "3218  The XXXX examination consists of frontal and lateral radiographs of the chest. Atherosclerotic calcifications of the aortic XXXX are again seen. The cardiomediastinal contours are within normal limits. Pulmonary vascularity is within normal limits. No focal consolidation, pleural effusion, or pneumothorax identified. The visualized osseous structures and upper abdomen are unremarkable. No evidence of acute cardiopulmonary process.                                                                                                                                                                                                                                                                                                      \n",
              "3636                                                                                                                                                                                                                                                                                                                                                                                                                                                                                                                                                                                                                                                                                                                                                          \n",
              "2321  The heart size and pulmonary vascularity appear within normal limits. Lungs are free of focal airspace disease. No pleural effusion or pneumothorax is seen. VP shunt tubing is identified. The bony structures, as visualized, appear unremarkable. No evidence of active disease.                                                                                                                                                                                                                                                                                                                                                                                                                                                                     \n",
              "775   The lungs are hypoventilated. There is no focal airspace opacity. The cardiomediastinal silhouette is normal in size. There is no pneumothorax or large pleural effusion. No acute cardiopulmonary abnormality.                                                                                                                                                                                                                                                                                                                                                                                                                                                                                                                                         \n",
              "2076  No The cardiomediastinal silhouette and pulmonary vasculature are within normal limits. There is no pneumothorax or pleural effusion. There are no focal areas of consolidation. There are T-spine osteophytes. No acute cardiopulmonary abnormality.                                                                                                                                                                                                                                                                                                                                                                                                                                                                                                   \n",
              "151   2 images. Vague density within the lower lung XXXX is secondary to soft tissue overlap. Heart size and pulmonary vascular engorgement appear within limits of normal. Mediastinal contour is unremarkable. No focal consolidation, pleural effusion, or pneumothorax identified. No convincing acute bony findings. No acute cardiopulmonary abnormality identified.                                                                                                                                                                                                                                                                                                                                                                                    \n",
              "1802   Well-expanded and clear lungs. Apical oligemia suggestive of some emphysema. Mediastinal contour within normal limits. No acute cardiopulmonary abnormality identified.                                                                                                                                                                                                                                                                                                                                                                                                                                                                                                                                                                                \n",
              "3320  Frontal and lateral views of the chest with overlying external cardiac monitor leads show an unchanged cardiomediastinal silhouette. No XXXX focal airspace consolidation or pleural effusion. No acute or active cardiac, pulmonary or pleural disease.                                                                                                                                                                                                                                                                                                                                                                                                                                                                                                \n",
              "638   Trachea is midline. The cardiomediastinal silhouette is normal. The lungs are clear, without evidence of acute infiltrate or effusion. There is no pneumothorax. The visualized bony structures show no acute abnormalities. Lateral view reveals mild degenerative changes of the thoracic spine. No acute cardiopulmonary abnormalities.                                                                                                                                                                                                                                                                                                                                                                                                              \n",
              "3257  Sternotomy sutures and bypass grafts have been placed in the interval. Both lungs remain clear and expanded with no infiltrates. Pulmonary XXXX are normal. Post operative chest with no acute disease.                                                                                                                                                                                                                                                                                                                                                                                                                                                                                                                                                 \n",
              "122   Cardiac and mediastinal contours are within normal limits. Prior granulomatous disease. The lungs are otherwise clear. Bony structures are intact. No acute findings.                                                                                                                                                                                                                                                                                                                                                                                                                                                                                                                                                                                   \n",
              "2329  Heart size and mediastinal contours appear normal limits. No focal pulmonary opacity, pleural effusion or pneumothorax. No acute bony abnormality. Degenerative changes of the spine. No acute cardiopulmonary abnormality.                                                                                                                                                                                                                                                                                                                                                                                                                                                                                                                             \n",
              "2426  Heart size and pulmonary vascularity appear within normal limits. The lungs are free of focal airspace disease. No pleural effusion or pneumothorax is seen. Vascular calcification is noted. 1. No evidence of active disease.                                                                                                                                                                                                                                                                                                                                                                                                                                                                                                                         \n",
              "1320  There are low lung volumes. The lungs are clear. No focal airspace consolidation. No pleural effusion or pneumothorax. Heart size and mediastinal contour appear within normal limits. No acute abnormality demonstrated.                                                                                                                                                                                                                                                                                                                                                                                                                                                                                                                               \n",
              "968   Spinal stimulator in XXXX. Lungs are clear without focal airspace disease. No pleural effusions or pneumothoraces. Heart and mediastinum of normal size and contour. Degenerative changes in the thoracic spine. Clear lungs.                                                                                                                                                                                                                                                                                                                                                                                                                                                                                                                           \n",
              "533   Frontal and lateral views of the chest show an unchanged cardiomediastinal silhouette. Normal mediastinal contour, pulmonary XXXX and vasculature, central airways and aeration of the lungs. No pleural effusion. There are XXXX spine marginal osteophytes. Stable chest. No acute disease process identified.                                                                                                                                                                                                                                                                                                                                                                                                                                        \n",
              "2078  Cardiac and mediastinal contours are within normal limits. The lungs are clear. Mild prominence left hilar contour. Bony structures are intact. No acute preoperative findings.                                                                                                                                                                                                                                                                                                                                                                                                                                                                                                                                                                         \n",
              "3441  Lungs are clear. Heart size is normal. No pneumothorax. There are surgical clips seen within the upper abdomen. Clear lungs. No acute cardiopulmonary abnormality. .                                                                                                                                                                                                                                                                                                                                                                                                                                                                                                                                                                                    \n",
              "2835  The lungs are clear bilaterally. Specifically, no evidence of focal consolidation, pneumothorax, or pleural effusion.. Cardio mediastinal silhouette is unremarkable. Visualized osseous structures of the thorax demonstrates stable mild multilevel degenerative disc disease of the thoracolumbar spine as well as chronic left-sided rib fractures without acute abnormality. No acute cardiopulmonary abnormality.                                                                                                                                                                                                                                                                                                                                 \n",
              "1881  The heart and lungs have XXXX XXXX in the interval. Both lungs are clear and expanded. Heart and mediastinum unremarkable. No change in the mediastinal surgical clips. No active disease.                                                                                                                                                                                                                                                                                                                                                                                                                                                                                                                                                              \n",
              "1448  The heart is normal in size and contour. There is no mediastinal widening. The lungs are hyperexpanded. No focal airspace disease. No large pleural effusion or pneumothorax. Exaggerated kyphosis. No acute cardiopulmonary abnormalities.                                                                                                                                                                                                                                                                                                                                                                                                                                                                                                             \n",
              "280   Heart size and pulmonary vascularity appear within normal limits. The lungs are free of focal airspace disease. No pleural effusion or pneumothorax is seen. Degenerative changes are present in the spine. 1. No evidence of active disease.                                                                                                                                                                                                                                                                                                                                                                                                                                                                                                           \n",
              "1131  Artifact in the region of the central upper abdomen. No focal areas of consolidation. No pleural effusions. No evidence of pneumothorax. Heart size within normal limits. Osseous structures intact. Limited exam secondary to artifact within the upper abdomen (this does not represent free intra-abdominal XXXX). Recommend repeat chest x-XXXX.                                                                                                                                                                                                                                                                                                                                                                                                    \n",
              "2254  The lungs are clear. The cardiomediastinal silhouette is within normal limits. There is ectasia of the thoracic aorta. No pleural effusion is identified. Normal chest film.                                                                                                                                                                                                                                                                                                                                                                                                                                                                                                                                                                            \n",
              "1851   Heart size is normal lungs are clear. No evidence of tuberculosis. Minimal scoliosis.                                                                                                                                                                                                                                                                                                                                                                                                                                                                                                                                                                                                                                                                  \n",
              "1899  Heart size within normal limits. Trachea is midline. The lung volumes are is somewhat low. Both lungs are otherwise clear bilaterally. No pleural effusion. No pulmonary nodules visualized. No pulmonary nodules. Negative chest.                                                                                                                                                                                                                                                                                                                                                                                                                                                                                                                      \n",
              "3040  There are no focal areas of consolidation. No suspicious bony opacities. Heart size within normal limits. No pleural effusions. No evidence of pneumothorax. Mild degenerative changes of the thoracic spine. No acute cardiopulmonary abnormality.                                                                                                                                                                                                                                                                                                                                                                                                                                                                                                     \n",
              "616   The lungs are clear. The heart and pulmonary XXXX appear normal. Pleural spaces are clear. The mediastinal contours are normal. Bony overlap in the lung apices could obscure a small pulmonary nodule. No acute cardiopulmonary disease                                                                                                                                                                                                                                                                                                                                                                                                                                                                                                                \n",
              "1890  Normal heart size and mediastinal contours. The lungs are hyperinflated but clear. No pneumothorax or pleural effusion. No acute bony abnormalities. No acute cardiopulmonary process. .                                                                                                                                                                                                                                                                                                                                                                                                                                                                                                                                                                \n",
              "2779   Rib films. No fractures or dislocations. Chest. Heart size normal. Lungs are clear. No effusion or pneumothorax. Minimal degenerative disease thoracic spine                                                                                                                                                                                                                                                                                                                                                                                                                                                                                                                                                                                           \n",
              "3824                                                                                                                                                                                                                                                                                                                                                                                                                                                                                                                                                                                                                                                                                                                                                          \n",
              "1305  The cardiomediastinal silhouette is within normal limits for size. Pulmonary vasculature is within normal limits. No focal consolidations, effusions, or pneumothoraces. Mild degeneration of the thoracic spine without acute bony abnormality. No acute cardiopulmonary abnormality.                                                                                                                                                                                                                                                                                                                                                                                                                                                                  \n",
              "\n",
              "         label  nb  \n",
              "1140  normal    1   \n",
              "944   abnormal  0   \n",
              "2469  abnormal  0   \n",
              "2836  abnormal  0   \n",
              "2854  normal    1   \n",
              "3307  normal    1   \n",
              "78    abnormal  0   \n",
              "1594  abnormal  0   \n",
              "3125  normal    1   \n",
              "664   abnormal  0   \n",
              "3203  normal    1   \n",
              "3298  abnormal  0   \n",
              "1112  normal    1   \n",
              "1045  abnormal  0   \n",
              "2968  abnormal  0   \n",
              "1172  normal    1   \n",
              "363   abnormal  0   \n",
              "2322  abnormal  0   \n",
              "2288  abnormal  0   \n",
              "2743  normal    1   \n",
              "3089  abnormal  0   \n",
              "318   abnormal  0   \n",
              "3486  normal    1   \n",
              "242   abnormal  0   \n",
              "155   abnormal  0   \n",
              "580   abnormal  0   \n",
              "3218  abnormal  0   \n",
              "3636  normal    1   \n",
              "2321  abnormal  0   \n",
              "775   abnormal  0   \n",
              "2076  abnormal  0   \n",
              "151   abnormal  0   \n",
              "1802  abnormal  0   \n",
              "3320  abnormal  0   \n",
              "638   abnormal  0   \n",
              "3257  abnormal  0   \n",
              "122   abnormal  0   \n",
              "2329  abnormal  0   \n",
              "2426  abnormal  0   \n",
              "1320  abnormal  0   \n",
              "968   abnormal  0   \n",
              "533   abnormal  0   \n",
              "2078  abnormal  0   \n",
              "3441  abnormal  0   \n",
              "2835  abnormal  0   \n",
              "1881  abnormal  0   \n",
              "1448  abnormal  0   \n",
              "280   abnormal  0   \n",
              "1131  abnormal  0   \n",
              "2254  abnormal  0   \n",
              "1851  abnormal  0   \n",
              "1899  abnormal  0   \n",
              "3040  abnormal  0   \n",
              "616   abnormal  0   \n",
              "1890  abnormal  0   \n",
              "2779  normal    1   \n",
              "3824  normal    1   \n",
              "1305  abnormal  0   "
            ],
            "text/html": [
              "\n",
              "  <div id=\"df-6a4390d1-de51-46db-a86a-a7e647128c02\">\n",
              "    <div class=\"colab-df-container\">\n",
              "      <div>\n",
              "<style scoped>\n",
              "    .dataframe tbody tr th:only-of-type {\n",
              "        vertical-align: middle;\n",
              "    }\n",
              "\n",
              "    .dataframe tbody tr th {\n",
              "        vertical-align: top;\n",
              "    }\n",
              "\n",
              "    .dataframe thead th {\n",
              "        text-align: right;\n",
              "    }\n",
              "</style>\n",
              "<table border=\"1\" class=\"dataframe\">\n",
              "  <thead>\n",
              "    <tr style=\"text-align: right;\">\n",
              "      <th></th>\n",
              "      <th>full-text</th>\n",
              "      <th>label</th>\n",
              "      <th>nb</th>\n",
              "    </tr>\n",
              "  </thead>\n",
              "  <tbody>\n",
              "    <tr>\n",
              "      <th>1140</th>\n",
              "      <td>The lungs are clear. No pleural effusion is seen. The heart and mediastinum are normal. Arthritic changes of the spine are present. No active disease.</td>\n",
              "      <td>normal</td>\n",
              "      <td>1</td>\n",
              "    </tr>\n",
              "    <tr>\n",
              "      <th>944</th>\n",
              "      <td>The heart is normal in size. The mediastinum is unremarkable. The lungs are hypoinflated but clear. No acute disease.</td>\n",
              "      <td>abnormal</td>\n",
              "      <td>0</td>\n",
              "    </tr>\n",
              "    <tr>\n",
              "      <th>2469</th>\n",
              "      <td>The heart is normal in size with normal appearance of the cardiomediastinal silhouette. The lungs are clear without focal airspace opacity, pleural effusion, or pneumothorax. The osseous structures are intact, with mild degenerative changes in the thoracic spine. No acute cardiopulmonary finding.</td>\n",
              "      <td>abnormal</td>\n",
              "      <td>0</td>\n",
              "    </tr>\n",
              "    <tr>\n",
              "      <th>2836</th>\n",
              "      <td>No there is an dextroscoliosis of the thoracic spine. The cardiomediastinal silhouette and pulmonary vasculature are within normal limits. There is no pneumothorax or pleural effusion. There are no focal areas of consolidation. No acute cardiopulmonary abnormality.</td>\n",
              "      <td>abnormal</td>\n",
              "      <td>0</td>\n",
              "    </tr>\n",
              "    <tr>\n",
              "      <th>2854</th>\n",
              "      <td>The heart is normal in size and contour. The lungs are clear, without evidence of infiltrate. There is no pneumothorax or effusion. Multiple punctate round XXXX XXXX over the abdomen on the lateral view. These may reside within, or outside of the patient. No acute cardiopulmonary disease.</td>\n",
              "      <td>normal</td>\n",
              "      <td>1</td>\n",
              "    </tr>\n",
              "    <tr>\n",
              "      <th>3307</th>\n",
              "      <td>No focal lung opacity, pleural effusion or pneumothorax. Cardiomediastinal silhouette is unremarkable. No focal lung opacity, pleural effusion of pneumothorax.</td>\n",
              "      <td>normal</td>\n",
              "      <td>1</td>\n",
              "    </tr>\n",
              "    <tr>\n",
              "      <th>78</th>\n",
              "      <td>The lungs are clear. Heart size is normal. No pneumothorax. There are endplate changes in the spine. Clear lungs. No acute cardiopulmonary abnormality. .</td>\n",
              "      <td>abnormal</td>\n",
              "      <td>0</td>\n",
              "    </tr>\n",
              "    <tr>\n",
              "      <th>1594</th>\n",
              "      <td>Lungs are hyperexpanded bilaterally, with no focal consolidation, pleural effusion, or pneumothoraces. Cardiomediastinal silhouette is within normal limits. XXXX are unremarkable. No acute cardiopulmonary abnormality.</td>\n",
              "      <td>abnormal</td>\n",
              "      <td>0</td>\n",
              "    </tr>\n",
              "    <tr>\n",
              "      <th>3125</th>\n",
              "      <td>PA and lateral views of the chest were obtained. The cardiomediastinal silhouette is within limits. Postoperative changes from spinal rods are demonstrated. There is elevation of the left hemidiaphragm. Multiple colonic loops are demonstrated in the left upper quadrant. The lungs are clear bilaterally. Left humeral head is positioned anterior and inferior to the glenoid, concerning for anterior shoulder subluxation. 1. No active cardiopulmonary disease. 2. Left humeral head is positioned anterior and inferior to the glenoid, concerning for anterior shoulder subluxation. This is XXXX related to the muscular dystrophy and decreased shoulder muscles support. 3. XXXX postoperative changes from the spinal XXXX placement.</td>\n",
              "      <td>normal</td>\n",
              "      <td>1</td>\n",
              "    </tr>\n",
              "    <tr>\n",
              "      <th>664</th>\n",
              "      <td>The heart size is normal. The mediastinal contour is within normal limits. The lungs are free of any focal infiltrates. There are no nodules or masses. No visible pneumothorax. No visible pleural fluid. The XXXX are grossly normal. There is no visible free intraperitoneal air under the diaphragm. Surgical clips are seen the right upper quadrant. 1. No acute radiographic cardiopulmonary process.</td>\n",
              "      <td>abnormal</td>\n",
              "      <td>0</td>\n",
              "    </tr>\n",
              "    <tr>\n",
              "      <th>3203</th>\n",
              "      <td>There may be a subtle airspace opacity in the right base near the midclavicular line. There is no pleural effusion or pneumothorax. The heart and mediastinum are normal. The skeletal structures are normal. Possible area of pneumonitis right lower lobe.</td>\n",
              "      <td>normal</td>\n",
              "      <td>1</td>\n",
              "    </tr>\n",
              "    <tr>\n",
              "      <th>3298</th>\n",
              "      <td>Frontal and lateral views of the chest show an unchanged cardiomediastinal silhouette. Normal mediastinal contour, pulmonary XXXX and vasculature, central airways and aeration of the lungs. No focal airspace consolidation or pleural effusion. There is subphrenic intraperitoneal extraluminal XXXX free XXXX. 1. No acute or active cardiac, pulmonary or pleural disease. 2. Pneumoperitoneum, attributed to the patient's recent abdominal surgery.</td>\n",
              "      <td>abnormal</td>\n",
              "      <td>0</td>\n",
              "    </tr>\n",
              "    <tr>\n",
              "      <th>1112</th>\n",
              "      <td>Heart size within normal limits, stable mediastinal and hilar contours. No focal alveolar consolidation, no definite pleural effusion seen. No typical findings of pulmonary edema. XXXX convexity also present on the previous exam. No acute findings</td>\n",
              "      <td>normal</td>\n",
              "      <td>1</td>\n",
              "    </tr>\n",
              "    <tr>\n",
              "      <th>1045</th>\n",
              "      <td>The Heart size is normal. Cardiomediastinal silhouette is normal in contour. The lungs are clear bilaterally. Lateral views obscured by patient body habitus. There is no evidence of apical disease. XXXX are unchanged from previous exam and appear normal. Thoracic spine shows osteophyte formations at several levels. no radiographic evidence of tuberculosis or sarcoidosis.</td>\n",
              "      <td>abnormal</td>\n",
              "      <td>0</td>\n",
              "    </tr>\n",
              "    <tr>\n",
              "      <th>2968</th>\n",
              "      <td>The heart, pulmonary XXXX and mediastinum are within normal limits. There is no pleural effusion or pneumothorax. There is no focal air space opacity to suggest a pneumonia. There are degenerative changes of the spine. No acute cardiopulmonary disease.</td>\n",
              "      <td>abnormal</td>\n",
              "      <td>0</td>\n",
              "    </tr>\n",
              "    <tr>\n",
              "      <th>1172</th>\n",
              "      <td>Heart size upper limits normal. Sternotomy. Right-sided aortic XXXX. Lungs are clear.</td>\n",
              "      <td>normal</td>\n",
              "      <td>1</td>\n",
              "    </tr>\n",
              "    <tr>\n",
              "      <th>363</th>\n",
              "      <td>The heart size and pulmonary vascularity appear within normal limits. Lungs are free of focal airspace disease. No pleural effusion or pneumothorax is seen. XXXX XXXX foreign body is noted in the soft tissues of the left chest wall. No evidence of active disease.</td>\n",
              "      <td>abnormal</td>\n",
              "      <td>0</td>\n",
              "    </tr>\n",
              "    <tr>\n",
              "      <th>2322</th>\n",
              "      <td>The mediastinal silhouette is widened with overlying sternotomy XXXX. The heart size is normal. The lungs are clear without evidence of effusion, infiltrate or pneumothorax. Visualized bony structures are intact with no acute abnormalities. 1. Wide mediastinal XXXX, consistent with history of aortic dissection. 2. Otherwise normal chest x-XXXX.</td>\n",
              "      <td>abnormal</td>\n",
              "      <td>0</td>\n",
              "    </tr>\n",
              "    <tr>\n",
              "      <th>2288</th>\n",
              "      <td>The lungs are clear without focal consolidation, effusion, or pneumothorax. Normal heart size. Unchanged multiple XXXX foreign bodies overlying the left clavicle and midline in the posterior soft tissues. The bony thorax is grossly intact. Negative for acute cardiopulmonary abnormality.</td>\n",
              "      <td>abnormal</td>\n",
              "      <td>0</td>\n",
              "    </tr>\n",
              "    <tr>\n",
              "      <th>2743</th>\n",
              "      <td></td>\n",
              "      <td>normal</td>\n",
              "      <td>1</td>\n",
              "    </tr>\n",
              "    <tr>\n",
              "      <th>3089</th>\n",
              "      <td>Heart size normal. Mediastinal silhouette and vascularity are within normal limits. Lungs are clear, hyperinflated. There is no pleural effusion or pneumothorax.</td>\n",
              "      <td>abnormal</td>\n",
              "      <td>0</td>\n",
              "    </tr>\n",
              "    <tr>\n",
              "      <th>318</th>\n",
              "      <td>The XXXX examination consists of frontal and lateral radiographs of the chest. There are diminished lung volumes. The cardiomediastinal contours are within normal limits. Pulmonary vascularity is within normal limits. No focal consolidation, pleural effusion, or pneumothorax identified. XXXX scoliosis is unchanged. Visualized upper abdomen is grossly unremarkable. No evidence of acute cardiopulmonary process or significant interval change.</td>\n",
              "      <td>abnormal</td>\n",
              "      <td>0</td>\n",
              "    </tr>\n",
              "    <tr>\n",
              "      <th>3486</th>\n",
              "      <td>The XXXX and soft tissue appear normal. The cardiac silhouette and mediastinum size are normal. The aortic XXXX is on the left. The trachea is well seen and appears normal. The lungs are clear. Unremarkable chest study. .</td>\n",
              "      <td>normal</td>\n",
              "      <td>1</td>\n",
              "    </tr>\n",
              "    <tr>\n",
              "      <th>242</th>\n",
              "      <td>There's been interval enlargement in the cardiac silhouette. These XXXX't contours are within normal limits. The lungs are normally inflated and clear. Osseous structures are within normal limits for patient age. 1. No acute radiographic cardiopulmonary process. 2. Interval development of cardiomegaly.</td>\n",
              "      <td>abnormal</td>\n",
              "      <td>0</td>\n",
              "    </tr>\n",
              "    <tr>\n",
              "      <th>155</th>\n",
              "      <td>The trachea is midline. The cardiomediastinal silhouette is normal and unchanged compared to prior examination. The lungs are clear, without evidence of acute infiltrate or effusion. There is no pneumothorax. The visualized bony structures reveal no acute abnormalities. There is hiatal hernia. No acute cardiopulmonary abnormalities.</td>\n",
              "      <td>abnormal</td>\n",
              "      <td>0</td>\n",
              "    </tr>\n",
              "    <tr>\n",
              "      <th>580</th>\n",
              "      <td>The heart, pulmonary XXXX and mediastinum are within normal limits. There is no pleural effusion or pneumothorax. There is no focal air space opacity to suggest a pneumonia. There are minimal degenerative changes of the spine. No acute cardiopulmonary disease.</td>\n",
              "      <td>abnormal</td>\n",
              "      <td>0</td>\n",
              "    </tr>\n",
              "    <tr>\n",
              "      <th>3218</th>\n",
              "      <td>The XXXX examination consists of frontal and lateral radiographs of the chest. Atherosclerotic calcifications of the aortic XXXX are again seen. The cardiomediastinal contours are within normal limits. Pulmonary vascularity is within normal limits. No focal consolidation, pleural effusion, or pneumothorax identified. The visualized osseous structures and upper abdomen are unremarkable. No evidence of acute cardiopulmonary process.</td>\n",
              "      <td>abnormal</td>\n",
              "      <td>0</td>\n",
              "    </tr>\n",
              "    <tr>\n",
              "      <th>3636</th>\n",
              "      <td></td>\n",
              "      <td>normal</td>\n",
              "      <td>1</td>\n",
              "    </tr>\n",
              "    <tr>\n",
              "      <th>2321</th>\n",
              "      <td>The heart size and pulmonary vascularity appear within normal limits. Lungs are free of focal airspace disease. No pleural effusion or pneumothorax is seen. VP shunt tubing is identified. The bony structures, as visualized, appear unremarkable. No evidence of active disease.</td>\n",
              "      <td>abnormal</td>\n",
              "      <td>0</td>\n",
              "    </tr>\n",
              "    <tr>\n",
              "      <th>775</th>\n",
              "      <td>The lungs are hypoventilated. There is no focal airspace opacity. The cardiomediastinal silhouette is normal in size. There is no pneumothorax or large pleural effusion. No acute cardiopulmonary abnormality.</td>\n",
              "      <td>abnormal</td>\n",
              "      <td>0</td>\n",
              "    </tr>\n",
              "    <tr>\n",
              "      <th>2076</th>\n",
              "      <td>No The cardiomediastinal silhouette and pulmonary vasculature are within normal limits. There is no pneumothorax or pleural effusion. There are no focal areas of consolidation. There are T-spine osteophytes. No acute cardiopulmonary abnormality.</td>\n",
              "      <td>abnormal</td>\n",
              "      <td>0</td>\n",
              "    </tr>\n",
              "    <tr>\n",
              "      <th>151</th>\n",
              "      <td>2 images. Vague density within the lower lung XXXX is secondary to soft tissue overlap. Heart size and pulmonary vascular engorgement appear within limits of normal. Mediastinal contour is unremarkable. No focal consolidation, pleural effusion, or pneumothorax identified. No convincing acute bony findings. No acute cardiopulmonary abnormality identified.</td>\n",
              "      <td>abnormal</td>\n",
              "      <td>0</td>\n",
              "    </tr>\n",
              "    <tr>\n",
              "      <th>1802</th>\n",
              "      <td>Well-expanded and clear lungs. Apical oligemia suggestive of some emphysema. Mediastinal contour within normal limits. No acute cardiopulmonary abnormality identified.</td>\n",
              "      <td>abnormal</td>\n",
              "      <td>0</td>\n",
              "    </tr>\n",
              "    <tr>\n",
              "      <th>3320</th>\n",
              "      <td>Frontal and lateral views of the chest with overlying external cardiac monitor leads show an unchanged cardiomediastinal silhouette. No XXXX focal airspace consolidation or pleural effusion. No acute or active cardiac, pulmonary or pleural disease.</td>\n",
              "      <td>abnormal</td>\n",
              "      <td>0</td>\n",
              "    </tr>\n",
              "    <tr>\n",
              "      <th>638</th>\n",
              "      <td>Trachea is midline. The cardiomediastinal silhouette is normal. The lungs are clear, without evidence of acute infiltrate or effusion. There is no pneumothorax. The visualized bony structures show no acute abnormalities. Lateral view reveals mild degenerative changes of the thoracic spine. No acute cardiopulmonary abnormalities.</td>\n",
              "      <td>abnormal</td>\n",
              "      <td>0</td>\n",
              "    </tr>\n",
              "    <tr>\n",
              "      <th>3257</th>\n",
              "      <td>Sternotomy sutures and bypass grafts have been placed in the interval. Both lungs remain clear and expanded with no infiltrates. Pulmonary XXXX are normal. Post operative chest with no acute disease.</td>\n",
              "      <td>abnormal</td>\n",
              "      <td>0</td>\n",
              "    </tr>\n",
              "    <tr>\n",
              "      <th>122</th>\n",
              "      <td>Cardiac and mediastinal contours are within normal limits. Prior granulomatous disease. The lungs are otherwise clear. Bony structures are intact. No acute findings.</td>\n",
              "      <td>abnormal</td>\n",
              "      <td>0</td>\n",
              "    </tr>\n",
              "    <tr>\n",
              "      <th>2329</th>\n",
              "      <td>Heart size and mediastinal contours appear normal limits. No focal pulmonary opacity, pleural effusion or pneumothorax. No acute bony abnormality. Degenerative changes of the spine. No acute cardiopulmonary abnormality.</td>\n",
              "      <td>abnormal</td>\n",
              "      <td>0</td>\n",
              "    </tr>\n",
              "    <tr>\n",
              "      <th>2426</th>\n",
              "      <td>Heart size and pulmonary vascularity appear within normal limits. The lungs are free of focal airspace disease. No pleural effusion or pneumothorax is seen. Vascular calcification is noted. 1. No evidence of active disease.</td>\n",
              "      <td>abnormal</td>\n",
              "      <td>0</td>\n",
              "    </tr>\n",
              "    <tr>\n",
              "      <th>1320</th>\n",
              "      <td>There are low lung volumes. The lungs are clear. No focal airspace consolidation. No pleural effusion or pneumothorax. Heart size and mediastinal contour appear within normal limits. No acute abnormality demonstrated.</td>\n",
              "      <td>abnormal</td>\n",
              "      <td>0</td>\n",
              "    </tr>\n",
              "    <tr>\n",
              "      <th>968</th>\n",
              "      <td>Spinal stimulator in XXXX. Lungs are clear without focal airspace disease. No pleural effusions or pneumothoraces. Heart and mediastinum of normal size and contour. Degenerative changes in the thoracic spine. Clear lungs.</td>\n",
              "      <td>abnormal</td>\n",
              "      <td>0</td>\n",
              "    </tr>\n",
              "    <tr>\n",
              "      <th>533</th>\n",
              "      <td>Frontal and lateral views of the chest show an unchanged cardiomediastinal silhouette. Normal mediastinal contour, pulmonary XXXX and vasculature, central airways and aeration of the lungs. No pleural effusion. There are XXXX spine marginal osteophytes. Stable chest. No acute disease process identified.</td>\n",
              "      <td>abnormal</td>\n",
              "      <td>0</td>\n",
              "    </tr>\n",
              "    <tr>\n",
              "      <th>2078</th>\n",
              "      <td>Cardiac and mediastinal contours are within normal limits. The lungs are clear. Mild prominence left hilar contour. Bony structures are intact. No acute preoperative findings.</td>\n",
              "      <td>abnormal</td>\n",
              "      <td>0</td>\n",
              "    </tr>\n",
              "    <tr>\n",
              "      <th>3441</th>\n",
              "      <td>Lungs are clear. Heart size is normal. No pneumothorax. There are surgical clips seen within the upper abdomen. Clear lungs. No acute cardiopulmonary abnormality. .</td>\n",
              "      <td>abnormal</td>\n",
              "      <td>0</td>\n",
              "    </tr>\n",
              "    <tr>\n",
              "      <th>2835</th>\n",
              "      <td>The lungs are clear bilaterally. Specifically, no evidence of focal consolidation, pneumothorax, or pleural effusion.. Cardio mediastinal silhouette is unremarkable. Visualized osseous structures of the thorax demonstrates stable mild multilevel degenerative disc disease of the thoracolumbar spine as well as chronic left-sided rib fractures without acute abnormality. No acute cardiopulmonary abnormality.</td>\n",
              "      <td>abnormal</td>\n",
              "      <td>0</td>\n",
              "    </tr>\n",
              "    <tr>\n",
              "      <th>1881</th>\n",
              "      <td>The heart and lungs have XXXX XXXX in the interval. Both lungs are clear and expanded. Heart and mediastinum unremarkable. No change in the mediastinal surgical clips. No active disease.</td>\n",
              "      <td>abnormal</td>\n",
              "      <td>0</td>\n",
              "    </tr>\n",
              "    <tr>\n",
              "      <th>1448</th>\n",
              "      <td>The heart is normal in size and contour. There is no mediastinal widening. The lungs are hyperexpanded. No focal airspace disease. No large pleural effusion or pneumothorax. Exaggerated kyphosis. No acute cardiopulmonary abnormalities.</td>\n",
              "      <td>abnormal</td>\n",
              "      <td>0</td>\n",
              "    </tr>\n",
              "    <tr>\n",
              "      <th>280</th>\n",
              "      <td>Heart size and pulmonary vascularity appear within normal limits. The lungs are free of focal airspace disease. No pleural effusion or pneumothorax is seen. Degenerative changes are present in the spine. 1. No evidence of active disease.</td>\n",
              "      <td>abnormal</td>\n",
              "      <td>0</td>\n",
              "    </tr>\n",
              "    <tr>\n",
              "      <th>1131</th>\n",
              "      <td>Artifact in the region of the central upper abdomen. No focal areas of consolidation. No pleural effusions. No evidence of pneumothorax. Heart size within normal limits. Osseous structures intact. Limited exam secondary to artifact within the upper abdomen (this does not represent free intra-abdominal XXXX). Recommend repeat chest x-XXXX.</td>\n",
              "      <td>abnormal</td>\n",
              "      <td>0</td>\n",
              "    </tr>\n",
              "    <tr>\n",
              "      <th>2254</th>\n",
              "      <td>The lungs are clear. The cardiomediastinal silhouette is within normal limits. There is ectasia of the thoracic aorta. No pleural effusion is identified. Normal chest film.</td>\n",
              "      <td>abnormal</td>\n",
              "      <td>0</td>\n",
              "    </tr>\n",
              "    <tr>\n",
              "      <th>1851</th>\n",
              "      <td>Heart size is normal lungs are clear. No evidence of tuberculosis. Minimal scoliosis.</td>\n",
              "      <td>abnormal</td>\n",
              "      <td>0</td>\n",
              "    </tr>\n",
              "    <tr>\n",
              "      <th>1899</th>\n",
              "      <td>Heart size within normal limits. Trachea is midline. The lung volumes are is somewhat low. Both lungs are otherwise clear bilaterally. No pleural effusion. No pulmonary nodules visualized. No pulmonary nodules. Negative chest.</td>\n",
              "      <td>abnormal</td>\n",
              "      <td>0</td>\n",
              "    </tr>\n",
              "    <tr>\n",
              "      <th>3040</th>\n",
              "      <td>There are no focal areas of consolidation. No suspicious bony opacities. Heart size within normal limits. No pleural effusions. No evidence of pneumothorax. Mild degenerative changes of the thoracic spine. No acute cardiopulmonary abnormality.</td>\n",
              "      <td>abnormal</td>\n",
              "      <td>0</td>\n",
              "    </tr>\n",
              "    <tr>\n",
              "      <th>616</th>\n",
              "      <td>The lungs are clear. The heart and pulmonary XXXX appear normal. Pleural spaces are clear. The mediastinal contours are normal. Bony overlap in the lung apices could obscure a small pulmonary nodule. No acute cardiopulmonary disease</td>\n",
              "      <td>abnormal</td>\n",
              "      <td>0</td>\n",
              "    </tr>\n",
              "    <tr>\n",
              "      <th>1890</th>\n",
              "      <td>Normal heart size and mediastinal contours. The lungs are hyperinflated but clear. No pneumothorax or pleural effusion. No acute bony abnormalities. No acute cardiopulmonary process. .</td>\n",
              "      <td>abnormal</td>\n",
              "      <td>0</td>\n",
              "    </tr>\n",
              "    <tr>\n",
              "      <th>2779</th>\n",
              "      <td>Rib films. No fractures or dislocations. Chest. Heart size normal. Lungs are clear. No effusion or pneumothorax. Minimal degenerative disease thoracic spine</td>\n",
              "      <td>normal</td>\n",
              "      <td>1</td>\n",
              "    </tr>\n",
              "    <tr>\n",
              "      <th>3824</th>\n",
              "      <td></td>\n",
              "      <td>normal</td>\n",
              "      <td>1</td>\n",
              "    </tr>\n",
              "    <tr>\n",
              "      <th>1305</th>\n",
              "      <td>The cardiomediastinal silhouette is within normal limits for size. Pulmonary vasculature is within normal limits. No focal consolidations, effusions, or pneumothoraces. Mild degeneration of the thoracic spine without acute bony abnormality. No acute cardiopulmonary abnormality.</td>\n",
              "      <td>abnormal</td>\n",
              "      <td>0</td>\n",
              "    </tr>\n",
              "  </tbody>\n",
              "</table>\n",
              "</div>\n",
              "      <button class=\"colab-df-convert\" onclick=\"convertToInteractive('df-6a4390d1-de51-46db-a86a-a7e647128c02')\"\n",
              "              title=\"Convert this dataframe to an interactive table.\"\n",
              "              style=\"display:none;\">\n",
              "        \n",
              "  <svg xmlns=\"http://www.w3.org/2000/svg\" height=\"24px\"viewBox=\"0 0 24 24\"\n",
              "       width=\"24px\">\n",
              "    <path d=\"M0 0h24v24H0V0z\" fill=\"none\"/>\n",
              "    <path d=\"M18.56 5.44l.94 2.06.94-2.06 2.06-.94-2.06-.94-.94-2.06-.94 2.06-2.06.94zm-11 1L8.5 8.5l.94-2.06 2.06-.94-2.06-.94L8.5 2.5l-.94 2.06-2.06.94zm10 10l.94 2.06.94-2.06 2.06-.94-2.06-.94-.94-2.06-.94 2.06-2.06.94z\"/><path d=\"M17.41 7.96l-1.37-1.37c-.4-.4-.92-.59-1.43-.59-.52 0-1.04.2-1.43.59L10.3 9.45l-7.72 7.72c-.78.78-.78 2.05 0 2.83L4 21.41c.39.39.9.59 1.41.59.51 0 1.02-.2 1.41-.59l7.78-7.78 2.81-2.81c.8-.78.8-2.07 0-2.86zM5.41 20L4 18.59l7.72-7.72 1.47 1.35L5.41 20z\"/>\n",
              "  </svg>\n",
              "      </button>\n",
              "      \n",
              "  <style>\n",
              "    .colab-df-container {\n",
              "      display:flex;\n",
              "      flex-wrap:wrap;\n",
              "      gap: 12px;\n",
              "    }\n",
              "\n",
              "    .colab-df-convert {\n",
              "      background-color: #E8F0FE;\n",
              "      border: none;\n",
              "      border-radius: 50%;\n",
              "      cursor: pointer;\n",
              "      display: none;\n",
              "      fill: #1967D2;\n",
              "      height: 32px;\n",
              "      padding: 0 0 0 0;\n",
              "      width: 32px;\n",
              "    }\n",
              "\n",
              "    .colab-df-convert:hover {\n",
              "      background-color: #E2EBFA;\n",
              "      box-shadow: 0px 1px 2px rgba(60, 64, 67, 0.3), 0px 1px 3px 1px rgba(60, 64, 67, 0.15);\n",
              "      fill: #174EA6;\n",
              "    }\n",
              "\n",
              "    [theme=dark] .colab-df-convert {\n",
              "      background-color: #3B4455;\n",
              "      fill: #D2E3FC;\n",
              "    }\n",
              "\n",
              "    [theme=dark] .colab-df-convert:hover {\n",
              "      background-color: #434B5C;\n",
              "      box-shadow: 0px 1px 3px 1px rgba(0, 0, 0, 0.15);\n",
              "      filter: drop-shadow(0px 1px 2px rgba(0, 0, 0, 0.3));\n",
              "      fill: #FFFFFF;\n",
              "    }\n",
              "  </style>\n",
              "\n",
              "      <script>\n",
              "        const buttonEl =\n",
              "          document.querySelector('#df-6a4390d1-de51-46db-a86a-a7e647128c02 button.colab-df-convert');\n",
              "        buttonEl.style.display =\n",
              "          google.colab.kernel.accessAllowed ? 'block' : 'none';\n",
              "\n",
              "        async function convertToInteractive(key) {\n",
              "          const element = document.querySelector('#df-6a4390d1-de51-46db-a86a-a7e647128c02');\n",
              "          const dataTable =\n",
              "            await google.colab.kernel.invokeFunction('convertToInteractive',\n",
              "                                                     [key], {});\n",
              "          if (!dataTable) return;\n",
              "\n",
              "          const docLinkHtml = 'Like what you see? Visit the ' +\n",
              "            '<a target=\"_blank\" href=https://colab.research.google.com/notebooks/data_table.ipynb>data table notebook</a>'\n",
              "            + ' to learn more about interactive tables.';\n",
              "          element.innerHTML = '';\n",
              "          dataTable['output_type'] = 'display_data';\n",
              "          await google.colab.output.renderOutput(dataTable, element);\n",
              "          const docLink = document.createElement('div');\n",
              "          docLink.innerHTML = docLinkHtml;\n",
              "          element.appendChild(docLink);\n",
              "        }\n",
              "      </script>\n",
              "    </div>\n",
              "  </div>\n",
              "  "
            ]
          },
          "metadata": {},
          "execution_count": 52
        }
      ]
    },
    {
      "cell_type": "markdown",
      "metadata": {
        "id": "Am8WBe6_dl5q"
      },
      "source": [
        "# References\n",
        "\n",
        "[1] Demner-Fuhshman D, Kohli MD, Rosenman MB, Shooshan SE, Rodriguez L, Antani S, Thoma GR, McDonald CJ. \"Preparing a collection of radiology examinations for distribution and retrieval\". J. Am. Med. Inform. Assoc. 2016. 23(2). 304-310. https://doi.org/10.1093/jamia/ocv080\n",
        "\n",
        "[2] Wiggins WF, Kitamura F, Santos I, Prevedello L. \"Natural Language Processing of Radiology Text Reports: Interactive Text Classification\". Radiol. Artif. Intell. 2021. 3(4). https://doi.org/10.1148/ryai.2021210035\n",
        "\n",
        "#Further Reading\n",
        "Jurafsky D, Martin JH. \"Speech and Language Processing. An Introduction to Natural Language Processing, Computational Linguistics, and Speech Recognition\". Draft. 3ed. September 21, 2021.\n",
        "\n",
        "Pons E, Braun LM M, Hunink MG Myriam, Kors JA. \"Natural Language Processing in Radiology: A Systematic Review\". Radiology. 2016. 279(2). 329-343.\n",
        "\n",
        "Sorin V, Barash Y, Konen E, Klang E. \"Deep Learning for Natural Language Processing in Radiology - Fundamentals and a Systematic Review\". J. Am. Coll. Radiol. 2020. 17(5). 639-648.\n",
        "\n",
        "Mozayan A, Fabbri AR, Maneevese M, Tocino I, Chheang Sophie. \"Practical Guide to Natural Language Processing for Radiology\". Radiographics. 2021. 41(5). 1446-1453."
      ]
    }
  ]
}